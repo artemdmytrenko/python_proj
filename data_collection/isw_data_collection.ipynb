{
 "cells": [
  {
   "cell_type": "code",
   "execution_count": 2,
   "id": "c0d2a411",
   "metadata": {},
   "outputs": [
    {
     "name": "stdout",
     "output_type": "stream",
     "text": [
      "Requirement already satisfied: requests in c:\\users\\алексей\\pythoncourse\\project\\.venv\\lib\\site-packages (2.28.2)\n",
      "Requirement already satisfied: pandas in c:\\users\\алексей\\pythoncourse\\project\\.venv\\lib\\site-packages (1.5.3)\n",
      "Requirement already satisfied: charset-normalizer<4,>=2 in c:\\users\\алексей\\pythoncourse\\project\\.venv\\lib\\site-packages (from requests) (3.0.1)\n",
      "Requirement already satisfied: idna<4,>=2.5 in c:\\users\\алексей\\pythoncourse\\project\\.venv\\lib\\site-packages (from requests) (3.4)\n",
      "Requirement already satisfied: certifi>=2017.4.17 in c:\\users\\алексей\\pythoncourse\\project\\.venv\\lib\\site-packages (from requests) (2022.12.7)\n",
      "Requirement already satisfied: urllib3<1.27,>=1.21.1 in c:\\users\\алексей\\pythoncourse\\project\\.venv\\lib\\site-packages (from requests) (1.26.14)\n",
      "Requirement already satisfied: pytz>=2020.1 in c:\\users\\алексей\\pythoncourse\\project\\.venv\\lib\\site-packages (from pandas) (2022.7.1)\n",
      "Requirement already satisfied: python-dateutil>=2.8.1 in c:\\users\\алексей\\pythoncourse\\project\\.venv\\lib\\site-packages (from pandas) (2.8.2)\n",
      "Requirement already satisfied: numpy>=1.20.3 in c:\\users\\алексей\\pythoncourse\\project\\.venv\\lib\\site-packages (from pandas) (1.24.2)\n",
      "Requirement already satisfied: six>=1.5 in c:\\users\\алексей\\pythoncourse\\project\\.venv\\lib\\site-packages (from python-dateutil>=2.8.1->pandas) (1.16.0)\n"
     ]
    },
    {
     "name": "stderr",
     "output_type": "stream",
     "text": [
      "WARNING: You are using pip version 21.1.1; however, version 23.0.1 is available.\n",
      "You should consider upgrading via the 'c:\\users\\алексей\\pythoncourse\\project\\.venv\\scripts\\python.exe -m pip install --upgrade pip' command.\n"
     ]
    }
   ],
   "source": [
    "#DIFFERENT TYPES OF LINKS:\n",
    "#https://www.understandingwar.org/backgrounder/russia-ukraine-warning-update-russian-offensive-campaign-assessment-february-26\n",
    "#https://www.understandingwar.org/backgrounder/russian-offensive-campaign-assessment-march-9\n",
    "\n",
    "\n",
    "\n",
    "!pip install requests pandas"
   ]
  },
  {
   "cell_type": "code",
   "execution_count": 6,
   "id": "27e729e8",
   "metadata": {},
   "outputs": [],
   "source": [
    "import requests\n",
    "from bs4 import BeautifulSoup\n",
    "import os\n",
    "from datetime import date, timedelta\n",
    "\n",
    "# start and end date of diapasone\n",
    "START = date(2022, 2, 24)\n",
    "END = date(2023, 1, 25)\n",
    "\n",
    "# create a directory if it does not exist\n",
    "if not os.path.exists('../data/0_isw_reports'): #Paste your directory here\n",
    "    os.makedirs('../data/0_isw_reports')\n",
    "\n",
    "# Go through all the dates in the diapasone(24 febr 2022 - 25 jan 2023)\n",
    "CURRENTday = START\n",
    "while CURRENTday <= END:\n",
    "    # URL for requests, they can be different depending on date and year\n",
    "    if CURRENTday.year == 2022:\n",
    "        if CURRENTday.month == 2 and CURRENTday.day == 24:\n",
    "            url = f'https://understandingwar.org/backgrounder/russia-ukraine-warning-update-initial-russian-offensive-campaign-assessment'\n",
    "        elif CURRENTday.month == 2 and CURRENTday.day == 25:\n",
    "            url = f'https://www.understandingwar.org/backgrounder/russia-ukraine-warning-update-russian-offensive-campaign-assessment-february-25-2022'\n",
    "        elif CURRENTday.month == 2 and (CURRENTday.day == 26 or CURRENTday.day == 27):\n",
    "            url = f'https://www.understandingwar.org/backgrounder/russia-ukraine-warning-update-russian-offensive-campaign-assessment-{CURRENTday.strftime(\"%B\")}-{CURRENTday.strftime(\"%d\").lstrip(\"0\")}'\n",
    "        elif CURRENTday.month == 2 and CURRENTday.day == 28:\n",
    "            url = f'https://www.understandingwar.org/backgrounder/russian-offensive-campaign-assessment-february-28-2022'\n",
    "        elif CURRENTday.month == 3 and CURRENTday.day == 3:\n",
    "            url = f'https://www.understandingwar.org/backgrounder/ukraine-conflict-update-14'\n",
    "        elif CURRENTday.month == 3 and CURRENTday.day == 4:\n",
    "            url = f'https://www.understandingwar.org/backgrounder/ukraine-conflict-update-15'\n",
    "        elif CURRENTday.month == 3 and CURRENTday.day == 6:\n",
    "            url = f'https://www.understandingwar.org/backgrounder/ukraine-conflict-update-16'\n",
    "        elif CURRENTday.month == 3 and CURRENTday.day == 5:\n",
    "            url = f'https://www.understandingwar.org/backgrounder/explainer-russian-conscription-reserve-and-mobilization' \n",
    "        elif CURRENTday.month == 5 and CURRENTday.day == 5:\n",
    "            url = f'https://www.understandingwar.org/backgrounder/russian-campaign-assessment-may-5'\n",
    "        elif CURRENTday.month == 7 and CURRENTday.day == 11:\n",
    "            url = f'https://understandingwar.org/backgrounder/russian-offensive-campaign-update-july-11'\n",
    "        elif CURRENTday.month == 8 and CURRENTday.day == 12:\n",
    "            url = f'https://www.understandingwar.org/backgrounder/russian-offensive-campaign-assessment-august-12-0'\n",
    "        #The reports about following days are missing on the ISW website\n",
    "        #elif CURRENTday.month == 11 and CURRENTday.day == 24:\n",
    "            #url = f''\n",
    "        #elif CURRENTday.month == 12 and CURRENTday.day == 25:\n",
    "            #url = f''\n",
    "        #elif CURRENTday.month == 1 and CURRENTday.day == 1:\n",
    "            #url = f''\n",
    "        else:\n",
    "            url = f'https://www.understandingwar.org/backgrounder/russian-offensive-campaign-assessment-{CURRENTday.strftime(\"%B\")}-{CURRENTday.strftime(\"%d\").lstrip(\"0\")}'\n",
    "    elif CURRENTday.year == 2023:\n",
    "        url = f'https://www.understandingwar.org/backgrounder/russian-offensive-campaign-assessment-{CURRENTday.strftime(\"%B\")}-{CURRENTday.strftime(\"%d\").lstrip(\"0\")}-{CURRENTday.year}'\n",
    "\n",
    "\n",
    "    # Make a request\n",
    "    response = requests.get(url)\n",
    "\n",
    "    # Save html file into the directory if the request was successful.\n",
    "    if response.status_code == 200:\n",
    "        file_path = f'../data/0_isw_reports/{CURRENTday}.html' #Paste your directory here\n",
    "        if not os.path.exists(file_path):\n",
    "            with open(file_path, 'w', encoding='utf-8') as f:\n",
    "                f.write(response.text)\n",
    "\n",
    "    # iterate to next dat using timedelta from lib\n",
    "    CURRENTday += timedelta(days=1)"
   ]
  }
 ],
 "metadata": {
  "kernelspec": {
   "display_name": "Python 3 (ipykernel)",
   "language": "python",
   "name": "python3"
  },
  "language_info": {
   "codemirror_mode": {
    "name": "ipython",
    "version": 3
   },
   "file_extension": ".py",
   "mimetype": "text/x-python",
   "name": "python",
   "nbconvert_exporter": "python",
   "pygments_lexer": "ipython3",
   "version": "3.8.10"
  }
 },
 "nbformat": 4,
 "nbformat_minor": 5
}
