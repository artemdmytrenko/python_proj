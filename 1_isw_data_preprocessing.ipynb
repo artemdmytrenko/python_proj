{
 "cells": [
  {
   "cell_type": "code",
   "execution_count": null,
   "id": "cc8328ab",
   "metadata": {},
   "outputs": [],
   "source": [
    "!pip install beautifulsoup4 nltk scikit-learn num2words"
   ]
  },
  {
   "cell_type": "code",
   "execution_count": 41,
   "id": "fdec88d5",
   "metadata": {},
   "outputs": [],
   "source": [
    "import pandas as pd\n",
    "import glob\n",
    "import csv\n",
    "import re\n",
    "import nltk\n",
    "import numpy as np\n",
    "import pickle\n",
    "import calendar\n",
    "import string\n",
    "\n",
    "# nltk.download('all')\n",
    "# nltk.download('stopwords')\n",
    "\n",
    "from nltk.tokenize import word_tokenize\n",
    "from nltk.corpus import stopwords as sw\n",
    "from num2words import num2words\n",
    "from nltk.stem import PorterStemmer\n",
    "from nltk.stem import WordNetLemmatizer\n",
    "\n",
    "from datetime import datetime\n",
    "\n",
    "from bs4 import BeautifulSoup\n",
    "\n",
    "from sklearn.feature_extraction.text import CountVectorizer, TfidfVectorizer, TfidfTransformer"
   ]
  },
  {
   "cell_type": "code",
   "execution_count": 109,
   "id": "e676dfcb",
   "metadata": {},
   "outputs": [],
   "source": [
    "input_data = 'data/0_isw_reports'\n",
    "output_data = 'data/1_raw_isw_data'\n",
    "output_file = 'raw_isw_report.csv'\n",
    "\n",
    "\n",
    "files = glob.glob(f'{input_data}\\*.html')\n",
    "\n",
    "all_data = []\n",
    "\n",
    "for file in files:\n",
    "    \n",
    "    d = {}\n",
    "\n",
    "    fname = file.replace(f'{input_data}\\\\', '').replace('.html', '')\n",
    "    date = datetime.strptime(fname, '%Y-%m-%d').date()\n",
    "    \n",
    "    with open (file, \"r\") as current_file:\n",
    "        parsed_html = BeautifulSoup(current_file.read())\n",
    "        title = parsed_html.head.find('title').text\n",
    "        link = parsed_html.head.find('link', attrs ={'rel':'canonical'}, href=True).attrs[\"href\"]\n",
    "        \n",
    "        text_title =  parsed_html.body.find (\"h1\", attrs={'id':'page-title'}).text\n",
    "        text_main = parsed_html.body.find (\"div\", attrs={'class':'field field-name-body field-type-text-with-summary field-label-hidden'})\n",
    "        \n",
    "        remove_a_tags(text_main)\n",
    "        remove_images(text_main)\n",
    "        remove_names(text_main)\n",
    "        \n",
    "        d = {\n",
    "            \"date\":date,\n",
    "            \"title\":title,\n",
    "            \"text_title\":text_title,\n",
    "            \"main_html\": text_main.text\n",
    "        }\n",
    "        \n",
    "        all_data.append(d)"
   ]
  },
  {
   "cell_type": "code",
   "execution_count": 107,
   "id": "496fbf3d",
   "metadata": {},
   "outputs": [],
   "source": [
    "def remove_a_tags(soup):\n",
    "    for p in soup.find_all('p'):\n",
    "        if p.find_all('a', recursive=True):\n",
    "            p.extract()"
   ]
  },
  {
   "cell_type": "code",
   "execution_count": 108,
   "id": "389a1ebf",
   "metadata": {},
   "outputs": [],
   "source": [
    "def remove_images(soup):\n",
    "    for img in soup.find_all('img'):\n",
    "        img.extract()"
   ]
  },
  {
   "cell_type": "code",
   "execution_count": 106,
   "id": "65f55099",
   "metadata": {},
   "outputs": [],
   "source": [
    "def remove_names(soup):\n",
    "    initials = [soup.select('p:nth-of-type(1)'), soup.select('p:nth-of-type(2)')]\n",
    "    \n",
    "    for i in range(3, 5):\n",
    "        if all(child.name == 'strong' for child in soup.select(f'p:nth-of-type({i})')[0].children):\n",
    "            initials.append(soup.select(f'p:nth-of-type({i})'))\n",
    "        \n",
    "    for i in range(len(initials)):\n",
    "        initials[i][0].replaceWith('')"
   ]
  },
  {
   "cell_type": "code",
   "execution_count": 111,
   "id": "b9b319a6",
   "metadata": {},
   "outputs": [
    {
     "data": {
      "text/html": [
       "<div>\n",
       "<style scoped>\n",
       "    .dataframe tbody tr th:only-of-type {\n",
       "        vertical-align: middle;\n",
       "    }\n",
       "\n",
       "    .dataframe tbody tr th {\n",
       "        vertical-align: top;\n",
       "    }\n",
       "\n",
       "    .dataframe thead th {\n",
       "        text-align: right;\n",
       "    }\n",
       "</style>\n",
       "<table border=\"1\" class=\"dataframe\">\n",
       "  <thead>\n",
       "    <tr style=\"text-align: right;\">\n",
       "      <th></th>\n",
       "      <th>date</th>\n",
       "      <th>title</th>\n",
       "      <th>text_title</th>\n",
       "      <th>main_html</th>\n",
       "    </tr>\n",
       "  </thead>\n",
       "  <tbody>\n",
       "    <tr>\n",
       "      <th>0</th>\n",
       "      <td>2022-02-24</td>\n",
       "      <td>Russia-Ukraine Warning Update: Initial Russian...</td>\n",
       "      <td>Russia-Ukraine Warning Update: Initial Russian...</td>\n",
       "      <td>\\n\\n\\nRussian President Vladimir Putin began ...</td>\n",
       "    </tr>\n",
       "    <tr>\n",
       "      <th>1</th>\n",
       "      <td>2022-02-25</td>\n",
       "      <td>Russia-Ukraine Warning Update: Russian Offensi...</td>\n",
       "      <td>Russia-Ukraine Warning Update: Russian Offensi...</td>\n",
       "      <td>\\n\\nRussian forces entered major Ukrainian ci...</td>\n",
       "    </tr>\n",
       "    <tr>\n",
       "      <th>2</th>\n",
       "      <td>2022-02-26</td>\n",
       "      <td>Russia-Ukraine Warning Update: Russian Offensi...</td>\n",
       "      <td>Russia-Ukraine Warning Update: Russian Offensi...</td>\n",
       "      <td>\\n\\nRussian forces’ main axes of advance in t...</td>\n",
       "    </tr>\n",
       "    <tr>\n",
       "      <th>3</th>\n",
       "      <td>2022-02-27</td>\n",
       "      <td>Russia-Ukraine Warning Update: Russian Offensi...</td>\n",
       "      <td>Russia-Ukraine Warning Update: Russian Offensi...</td>\n",
       "      <td>\\n\\n\\n\\nThe Russian military has likely recog...</td>\n",
       "    </tr>\n",
       "    <tr>\n",
       "      <th>4</th>\n",
       "      <td>2022-02-28</td>\n",
       "      <td>Russian Offensive Campaign Assessment, Februar...</td>\n",
       "      <td>Russian Offensive Campaign Assessment, Februar...</td>\n",
       "      <td>\\n\\n\\nThe Russian military is reorganizing it...</td>\n",
       "    </tr>\n",
       "    <tr>\n",
       "      <th>5</th>\n",
       "      <td>2022-03-01</td>\n",
       "      <td>Russian Offensive Campaign Assessment, March 1...</td>\n",
       "      <td>Russian Offensive Campaign Assessment, March 1</td>\n",
       "      <td>\\n\\n\\nRussian forces are completing the reinf...</td>\n",
       "    </tr>\n",
       "    <tr>\n",
       "      <th>6</th>\n",
       "      <td>2022-03-02</td>\n",
       "      <td>Russian Offensive Campaign Assessment, March 2...</td>\n",
       "      <td>Russian Offensive Campaign Assessment, March 2</td>\n",
       "      <td>\\n\\n\\nRussian forces resumed offensive operat...</td>\n",
       "    </tr>\n",
       "    <tr>\n",
       "      <th>7</th>\n",
       "      <td>2022-03-03</td>\n",
       "      <td>Ukraine Conflict Update 14 | Institute for the...</td>\n",
       "      <td>Ukraine Conflict Update 14</td>\n",
       "      <td>\\n\\nwith the Critical Threats Project, AEI\\nM...</td>\n",
       "    </tr>\n",
       "    <tr>\n",
       "      <th>8</th>\n",
       "      <td>2022-03-04</td>\n",
       "      <td>Ukraine Conflict Update 15 | Institute for the...</td>\n",
       "      <td>Ukraine Conflict Update 15</td>\n",
       "      <td>\\n\\nwith the Critical Threats Project, AEI\\nM...</td>\n",
       "    </tr>\n",
       "    <tr>\n",
       "      <th>9</th>\n",
       "      <td>2022-03-05</td>\n",
       "      <td>Explainer on Russian Conscription, Reserve, an...</td>\n",
       "      <td>Explainer on Russian Conscription, Reserve, an...</td>\n",
       "      <td>\\n\\n\\nThe early announcement of the 2022 spri...</td>\n",
       "    </tr>\n",
       "  </tbody>\n",
       "</table>\n",
       "</div>"
      ],
      "text/plain": [
       "         date                                              title   \n",
       "0  2022-02-24  Russia-Ukraine Warning Update: Initial Russian...  \\\n",
       "1  2022-02-25  Russia-Ukraine Warning Update: Russian Offensi...   \n",
       "2  2022-02-26  Russia-Ukraine Warning Update: Russian Offensi...   \n",
       "3  2022-02-27  Russia-Ukraine Warning Update: Russian Offensi...   \n",
       "4  2022-02-28  Russian Offensive Campaign Assessment, Februar...   \n",
       "5  2022-03-01  Russian Offensive Campaign Assessment, March 1...   \n",
       "6  2022-03-02  Russian Offensive Campaign Assessment, March 2...   \n",
       "7  2022-03-03  Ukraine Conflict Update 14 | Institute for the...   \n",
       "8  2022-03-04  Ukraine Conflict Update 15 | Institute for the...   \n",
       "9  2022-03-05  Explainer on Russian Conscription, Reserve, an...   \n",
       "\n",
       "                                          text_title   \n",
       "0  Russia-Ukraine Warning Update: Initial Russian...  \\\n",
       "1  Russia-Ukraine Warning Update: Russian Offensi...   \n",
       "2  Russia-Ukraine Warning Update: Russian Offensi...   \n",
       "3  Russia-Ukraine Warning Update: Russian Offensi...   \n",
       "4  Russian Offensive Campaign Assessment, Februar...   \n",
       "5     Russian Offensive Campaign Assessment, March 1   \n",
       "6     Russian Offensive Campaign Assessment, March 2   \n",
       "7                         Ukraine Conflict Update 14   \n",
       "8                         Ukraine Conflict Update 15   \n",
       "9  Explainer on Russian Conscription, Reserve, an...   \n",
       "\n",
       "                                           main_html  \n",
       "0   \\n\\n\\nRussian President Vladimir Putin began ...  \n",
       "1   \\n\\nRussian forces entered major Ukrainian ci...  \n",
       "2   \\n\\nRussian forces’ main axes of advance in t...  \n",
       "3   \\n\\n\\n\\nThe Russian military has likely recog...  \n",
       "4   \\n\\n\\nThe Russian military is reorganizing it...  \n",
       "5   \\n\\n\\nRussian forces are completing the reinf...  \n",
       "6   \\n\\n\\nRussian forces resumed offensive operat...  \n",
       "7   \\n\\nwith the Critical Threats Project, AEI\\nM...  \n",
       "8   \\n\\nwith the Critical Threats Project, AEI\\nM...  \n",
       "9   \\n\\n\\nThe early announcement of the 2022 spri...  "
      ]
     },
     "execution_count": 111,
     "metadata": {},
     "output_type": "execute_result"
    }
   ],
   "source": [
    "df = pd.DataFrame.from_dict(all_data)\n",
    "df = df.sort_values(by = ['date'])\n",
    "df.head(10)"
   ]
  },
  {
   "cell_type": "code",
   "execution_count": 112,
   "id": "3a41f59d",
   "metadata": {},
   "outputs": [],
   "source": [
    "df.to_csv(f\"{output_data}/{output_file}\", sep = ';', index = False) "
   ]
  },
  {
   "cell_type": "markdown",
   "id": "78c66399",
   "metadata": {},
   "source": [
    "## Delete all [n], \\n, and \\xa0 instances"
   ]
  },
  {
   "cell_type": "code",
   "execution_count": 113,
   "id": "7cacf3c8",
   "metadata": {},
   "outputs": [],
   "source": [
    "def remove_newlines_and_url_numbers(text):\n",
    "    text = re.sub('\\n|\\xa0|\\[\\d+\\]', '', text)\n",
    "    return text"
   ]
  },
  {
   "cell_type": "markdown",
   "id": "03362cfd",
   "metadata": {},
   "source": [
    "## Remove URLs"
   ]
  },
  {
   "cell_type": "code",
   "execution_count": 134,
   "id": "ae7d5741",
   "metadata": {},
   "outputs": [],
   "source": [
    "def remove_urls(text):\n",
    "    pattern = '(http|ftp|https|ttps):\\/\\/([\\w_-]+(?:(?:\\.[\\w_-]+)+))([\\w.,@?^=%&:\\/~+#-]*[\\w@?^=%&\\/~+#-])'\n",
    "    text = re.sub(pattern, '', text)\n",
    "    return text"
   ]
  },
  {
   "cell_type": "markdown",
   "id": "90af4a67",
   "metadata": {},
   "source": [
    "## Delete all dates\n"
   ]
  },
  {
   "cell_type": "code",
   "execution_count": 114,
   "id": "1336e1aa",
   "metadata": {},
   "outputs": [],
   "source": [
    "def remove_dates(text):\n",
    "    months = []\n",
    "    for i in range(1, 13):\n",
    "        months.append(calendar.month_name[i])\n",
    "        \n",
    "    pattern = \"(\" + \"|\".join(months) + \")\" + r\" \\d+( and \\d*)?\"\n",
    "    text = re.sub(pattern, '', text)\n",
    "    return text"
   ]
  },
  {
   "cell_type": "markdown",
   "id": "bcb00e92",
   "metadata": {},
   "source": [
    "## Remove one letter words"
   ]
  },
  {
   "cell_type": "code",
   "execution_count": 115,
   "id": "6678d3f8",
   "metadata": {},
   "outputs": [],
   "source": [
    "def remove_1_letter_words(text):\n",
    "    words = word_tokenize(text, language=\"english\")\n",
    "    new_text = []\n",
    "    \n",
    "    for w in words:\n",
    "        new_text.append(w if len(w) > 1 else '')\n",
    "            \n",
    "    return ' '.join(new_text) "
   ]
  },
  {
   "cell_type": "markdown",
   "id": "161ff810",
   "metadata": {},
   "source": [
    "## Remove stopwords from the text using nltk library with exception for 'no', 'not'"
   ]
  },
  {
   "cell_type": "code",
   "execution_count": 116,
   "id": "c334f848",
   "metadata": {},
   "outputs": [],
   "source": [
    "def remove_stopwords(text):\n",
    "    stopwords = set(sw.words('english'))\n",
    "    exclude = {'no','not'}\n",
    "    stopwords -= exclude\n",
    "    \n",
    "    words = word_tokenize(text, language=\"english\")\n",
    "    new_text = []\n",
    "    \n",
    "    for w in words:\n",
    "        new_text.append(w if w not in stopwords else '')\n",
    "        \n",
    "    return ' '.join(new_text)"
   ]
  },
  {
   "cell_type": "markdown",
   "id": "e0e416b8",
   "metadata": {},
   "source": [
    "## Convert numbers into words with exception for words with numbers inside and ordinal numbers"
   ]
  },
  {
   "cell_type": "code",
   "execution_count": 117,
   "id": "721ff8d1",
   "metadata": {},
   "outputs": [],
   "source": [
    "def num_to_word(text):\n",
    "    words = word_tokenize(text, language=\"english\")\n",
    "    pattern = r'^-?\\d+(?:\\.\\d+)?$'\n",
    "    new_text = []\n",
    "    for w in words: \n",
    "        new_text.append(num2words(w) if re.fullmatch(pattern, w) else w)\n",
    "    new_text = ' '.join(new_text)\n",
    "    \n",
    "    \n",
    "    words = word_tokenize(new_text, language=\"english\")\n",
    "    new_text = []\n",
    "    for w in words: \n",
    "        new_text.append(num2words(w) if w.isnumeric() or w.isdigit() else w)\n",
    "        \n",
    "    return ' '.join(new_text)"
   ]
  },
  {
   "cell_type": "markdown",
   "id": "73f55d72",
   "metadata": {},
   "source": [
    "## Remove all punctuation"
   ]
  },
  {
   "cell_type": "code",
   "execution_count": 118,
   "id": "0f84f691",
   "metadata": {},
   "outputs": [],
   "source": [
    "def remove_punctuation(text):\n",
    "    symbols = string.punctuation\n",
    "    \n",
    "    for symbol in symbols:\n",
    "        text = text.replace(symbol, ' ')\n",
    "        \n",
    "    text = text.replace('  ', ' ')\n",
    "    return text"
   ]
  },
  {
   "cell_type": "markdown",
   "id": "e0e33a67",
   "metadata": {},
   "source": [
    "## Stemming and Lemmatization functions"
   ]
  },
  {
   "cell_type": "code",
   "execution_count": 119,
   "id": "ce0d1287",
   "metadata": {},
   "outputs": [],
   "source": [
    "def stem(data):\n",
    "    stemmer = PorterStemmer()\n",
    "    \n",
    "    words = word_tokenize(data, language=\"english\")\n",
    "    new_text = []\n",
    "    \n",
    "    for w in words:\n",
    "        new_text.append(stemmer.stem(w))\n",
    "    return ' '.join(new_text)\n",
    "\n",
    "def lemmatize(text):\n",
    "    lemmatizer = WordNetLemmatizer()\n",
    "    \n",
    "    words = word_tokenize(text, language=\"english\")\n",
    "    new_text = []\n",
    "    \n",
    "    for w in words:\n",
    "        new_text.append(lemmatizer.lemmatize(w))\n",
    "    \n",
    "    return ' '.join(new_text)"
   ]
  },
  {
   "cell_type": "code",
   "execution_count": 135,
   "id": "f796cb8d",
   "metadata": {},
   "outputs": [],
   "source": [
    "def convert(text, method='lemm'):\n",
    "    text = remove_newlines_and_url_numbers(text)\n",
    "    text = remove_urls(text)\n",
    "    text = remove_dates(text)\n",
    "    text = remove_1_letter_words(text)\n",
    "    text = text.lower()\n",
    "    text = remove_stopwords(text)\n",
    "    text = num_to_word(text)\n",
    "    text = remove_punctuation(text)\n",
    "    text = lemmatize(text) if method == 'lemm' else stem(text)\n",
    "    return text"
   ]
  },
  {
   "cell_type": "markdown",
   "id": "4b8aad25",
   "metadata": {},
   "source": [
    "## Convert data frame with raw data using listed functions above and display 5 first rows as an example"
   ]
  },
  {
   "cell_type": "code",
   "execution_count": 136,
   "id": "ed085e24",
   "metadata": {},
   "outputs": [
    {
     "data": {
      "text/html": [
       "<div>\n",
       "<style scoped>\n",
       "    .dataframe tbody tr th:only-of-type {\n",
       "        vertical-align: middle;\n",
       "    }\n",
       "\n",
       "    .dataframe tbody tr th {\n",
       "        vertical-align: top;\n",
       "    }\n",
       "\n",
       "    .dataframe thead th {\n",
       "        text-align: right;\n",
       "    }\n",
       "</style>\n",
       "<table border=\"1\" class=\"dataframe\">\n",
       "  <thead>\n",
       "    <tr style=\"text-align: right;\">\n",
       "      <th></th>\n",
       "      <th>date</th>\n",
       "      <th>title</th>\n",
       "      <th>text_title</th>\n",
       "      <th>main_html</th>\n",
       "      <th>text_stem</th>\n",
       "      <th>text_lemm</th>\n",
       "    </tr>\n",
       "  </thead>\n",
       "  <tbody>\n",
       "    <tr>\n",
       "      <th>0</th>\n",
       "      <td>2022-02-24</td>\n",
       "      <td>Russia-Ukraine Warning Update: Initial Russian...</td>\n",
       "      <td>Russia-Ukraine Warning Update: Initial Russian...</td>\n",
       "      <td>\\n\\n\\nRussian President Vladimir Putin began ...</td>\n",
       "      <td>russian presid vladimir putin began larg scale...</td>\n",
       "      <td>russian president vladimir putin began large s...</td>\n",
       "    </tr>\n",
       "    <tr>\n",
       "      <th>1</th>\n",
       "      <td>2022-02-25</td>\n",
       "      <td>Russia-Ukraine Warning Update: Russian Offensi...</td>\n",
       "      <td>Russia-Ukraine Warning Update: Russian Offensi...</td>\n",
       "      <td>\\n\\nRussian forces entered major Ukrainian ci...</td>\n",
       "      <td>russian forc enter major ukrainian cities—incl...</td>\n",
       "      <td>russian force entered major ukrainian cities—i...</td>\n",
       "    </tr>\n",
       "    <tr>\n",
       "      <th>2</th>\n",
       "      <td>2022-02-26</td>\n",
       "      <td>Russia-Ukraine Warning Update: Russian Offensi...</td>\n",
       "      <td>Russia-Ukraine Warning Update: Russian Offensi...</td>\n",
       "      <td>\\n\\nRussian forces’ main axes of advance in t...</td>\n",
       "      <td>russian forc main axe advanc last twenti four ...</td>\n",
       "      <td>russian force main ax advance last twenty four...</td>\n",
       "    </tr>\n",
       "    <tr>\n",
       "      <th>3</th>\n",
       "      <td>2022-02-27</td>\n",
       "      <td>Russia-Ukraine Warning Update: Russian Offensi...</td>\n",
       "      <td>Russia-Ukraine Warning Update: Russian Offensi...</td>\n",
       "      <td>\\n\\n\\n\\nThe Russian military has likely recog...</td>\n",
       "      <td>russian militari like recogn initi expect limi...</td>\n",
       "      <td>russian military likely recognized initial exp...</td>\n",
       "    </tr>\n",
       "    <tr>\n",
       "      <th>4</th>\n",
       "      <td>2022-02-28</td>\n",
       "      <td>Russian Offensive Campaign Assessment, Februar...</td>\n",
       "      <td>Russian Offensive Campaign Assessment, Februar...</td>\n",
       "      <td>\\n\\n\\nThe Russian military is reorganizing it...</td>\n",
       "      <td>russian militari reorgan militari effort attem...</td>\n",
       "      <td>russian military reorganizing military effort ...</td>\n",
       "    </tr>\n",
       "  </tbody>\n",
       "</table>\n",
       "</div>"
      ],
      "text/plain": [
       "         date                                              title   \n",
       "0  2022-02-24  Russia-Ukraine Warning Update: Initial Russian...  \\\n",
       "1  2022-02-25  Russia-Ukraine Warning Update: Russian Offensi...   \n",
       "2  2022-02-26  Russia-Ukraine Warning Update: Russian Offensi...   \n",
       "3  2022-02-27  Russia-Ukraine Warning Update: Russian Offensi...   \n",
       "4  2022-02-28  Russian Offensive Campaign Assessment, Februar...   \n",
       "\n",
       "                                          text_title   \n",
       "0  Russia-Ukraine Warning Update: Initial Russian...  \\\n",
       "1  Russia-Ukraine Warning Update: Russian Offensi...   \n",
       "2  Russia-Ukraine Warning Update: Russian Offensi...   \n",
       "3  Russia-Ukraine Warning Update: Russian Offensi...   \n",
       "4  Russian Offensive Campaign Assessment, Februar...   \n",
       "\n",
       "                                           main_html   \n",
       "0   \\n\\n\\nRussian President Vladimir Putin began ...  \\\n",
       "1   \\n\\nRussian forces entered major Ukrainian ci...   \n",
       "2   \\n\\nRussian forces’ main axes of advance in t...   \n",
       "3   \\n\\n\\n\\nThe Russian military has likely recog...   \n",
       "4   \\n\\n\\nThe Russian military is reorganizing it...   \n",
       "\n",
       "                                           text_stem   \n",
       "0  russian presid vladimir putin began larg scale...  \\\n",
       "1  russian forc enter major ukrainian cities—incl...   \n",
       "2  russian forc main axe advanc last twenti four ...   \n",
       "3  russian militari like recogn initi expect limi...   \n",
       "4  russian militari reorgan militari effort attem...   \n",
       "\n",
       "                                           text_lemm  \n",
       "0  russian president vladimir putin began large s...  \n",
       "1  russian force entered major ukrainian cities—i...  \n",
       "2  russian force main ax advance last twenty four...  \n",
       "3  russian military likely recognized initial exp...  \n",
       "4  russian military reorganizing military effort ...  "
      ]
     },
     "execution_count": 136,
     "metadata": {},
     "output_type": "execute_result"
    }
   ],
   "source": [
    "df['text_stem'] = df[\"main_html\"].apply(lambda x: convert(x, 'stem'))\n",
    "df['text_lemm'] = df[\"main_html\"].apply(lambda x: convert(x, 'lemm'))\n",
    "df.head(5)"
   ]
  },
  {
   "cell_type": "markdown",
   "id": "8c48063d",
   "metadata": {},
   "source": [
    "## Print 74 row as an example of lemmatization"
   ]
  },
  {
   "cell_type": "code",
   "execution_count": 137,
   "id": "c318afeb",
   "metadata": {
    "scrolled": true
   },
   "outputs": [
    {
     "data": {
      "text/plain": [
       "'russian force continue face widespread force generation challenge a senior u defense official stated u not observed indicator new major russian mobilization member private military company wagner group urgently requested hundred thousand additional troop reinforce russian effort donbas the official noted russia currently ninety seven battalion tactical group btgs ukraine btgs moving ukraine refit resupply suggesting russian troop continue sustain substantial damage combat isw previously assessed russian btgs heavily degraded counting btgs not useful metric russian combat power the main ukrainian intelligence directorate gur claimed under trained ill equipped russian conscript still sent active combat despite kremlin denying practice a prisoner war bar 7 detachment wagner group claimed covert mobilization underway russian send conscript clean damage caused combat self proclaimed donetsk luhansk people republic russian troop ukraine continue display low morale poor discipline fighting many area stalled ukrainian resistance senior u defense official claimed russian troop donbas failing obey order top general russian force deployed zaporizhzhia area reportedly experiencing low morale psychological condition complain ineffectiveness operation area frequently abuse alcohol shoot vehicle order avoid going frontline this consistent report made ukrainian general staff extent russian loss widespread impact willingness russian troop engage offensive operation russian authority likely setting condition integrate occupied ukrainian territory directly russia opposed creating proxy people republic kherson occupation deputy chairman military civil administration kirill stremousov stated kherson region intends become part russia kherson authority not intend hold referendum create independent republic spokesperson ukrainian defense ministry oleksandr motuzyanyk reported russian occupation authority intensifying reconnaissance measure increasing checkpoint patrol occupied area order prepare integrate region directly russia motuzyanyk noted russian crimean group arriving occupied region intensify propaganda measure prepare integration isw publish assessment kremlin likely course action towards occupied territory ukraine coming day key takeawaysrussian force not make confirmed advance southeast southwest izyum likely attempting concentrate force necessary resume offensive operation coming day russian force made marginal gain around severodonetsk past twenty four hour russian force likely continuing amass troop belgorod oblast stop ukrainian counterattack around kharkiv city reaching ukrainian russian border russian unit zaporizhia oblast regrouping likely receive reinforcement force previously deployed mariupol the kremlin continues face severe force mobilization challenge ongoing covert mobilization effort unlikely generate substantial combat power russian authority likely setting condition integrate occupied ukrainian territory directly russia opposed creating proxy people republic not report detail russian war crime activity well covered western medium not directly affect military operation assessing forecasting continue evaluate report effect criminal activity ukrainian military population specifically combat ukrainian urban area utterly condemn russian violation law armed conflict geneva convention humanity even though not describe report isw updated assessment five primary effort russian force engaged time main effort—eastern ukraine comprised one subordinate four supporting effort subordinate main effort encirclement ukrainian troop cauldron izyum donetsk luhansk oblastssupporting effort mariupol supporting effort 2—kharkiv city supporting effort 3—southern axis supporting effort 4—sumy northeastern ukraine main effort—eastern ukrainesubordinate main effort— southern kharkiv donetsk luhansk oblasts russian objective encircle ukrainian force eastern ukraine capture entirety donetsk luhansk oblasts claimed territory russia proxy donbas russian force not make confirmed advance southeast southwest izyum likely attempting concentrate force necessary resume offensive operation coming day russian troop likely reprioritizing push southeast izyum towards slovyansk focusing advancing southwest barvinkove past week ukrainian general staff stated element russian airborne force vdv 1st tank army 20th combined arm army western military district 29th 35th 36th combined arm army 68th army corp eastern military district preparing offensive south sulyivka twenty five kilometer south izyum towards nova dmytrivka kurulka lie within ten kilometer border kharkiv donetsk oblasts a senior u defense official notably reported russian force conducting artillery strike ground attack southeast izyum drive towards lyman slovyansk ukrainian resistance area confined russian advance gain single digit mile russian force continued attack westward donetsk luhansk oblasts made marginal gain around severodonetsk troop self proclaimed luhansk people republic lnr reportedly captured nyzhnje fighting control toshkivka twenty five kilometer southeast severodonetsk ukrainian source reported fierce fighting around rubizhne vojevodivka immediately north severodonetsk bilohorivka twenty five kilometer west severodonetsk nasa fire information resource management system firm imagery showed fire area west severodonetsk around bilohorivka pryvillya novodruzhesk likely indicating russian force shelling ukrainian position area order encircle severodonesk rubizhne west continue push towards donetsk oblast border source nasa fire information resource management system supporting effort 1—mariupol russian objective capture mariupol reduce ukrainian defender russian force continued conduct artillery strike assault ukrainian defender azovstal steel plant senior u defense official reported russian battalion tactical group btgs remain mariupol continue storm azovstal dozen btgs previously deployed mariupol moving area donbas though isw not independently confirm actual strength reported btgs russian force reportedly blew bridge northern part azovstal complex previously used evacuate civilian indicating russian troop advanced northern part plant russian occupying force conducted victory day parade mariupol consistent isw previous forecast city focal point kremlin occupation narrative supporting effort 2—kharkiv city russian objective retain position outskirt kharkiv within artillery range city prevent ukrainian counterattack russian force likely continuing amass troop belgorod oblast stop ukrainian counterattack around kharkiv city reaching ukrainian russian border a senior u defense official said russian force not abandoned effort encircle kharkiv city north east horseshoe like shape despite three battalion tactical group btgs operating northern kharkiv oblast the ukrainian general staff reported russian force accumulated nineteen btgs belgorod oblast could reinforce kharkiv city axis isw not confirm russian force withdrew past ruski tyshky settlement approximately eighteen northeast kilometer kharkiv city the senior u defense official said ukrainian force pushed russian force nearly forty eight kilometer east past week likely referring ukrainian liberation staryi saltiv pro russian telegram channel posted image victory day celebration occupied kozacha lopan despite previous unconfirmed report ukrainian force fighting near settlement supporting effort 3—southern axis objective defend kherson ukrainian counterattack russian force not conduct confirmed offensive operation southern ukraine continued shell launch missile strike pin ukrainian troop prevent transferring ax the ukrainian genral staff reported russian unit zaporizhia oblast regrouping likely receive reinforcement force previously deployed mariupol russian force likely reinforce unit pushing toward zaporizhia city donetsk oblast due report ineffective offensive around huliaipole satellite imagery also showed russian force significantly increased concentration military equipment anti aircraft missile system southwestern kherson oblast since likely due newly resumed railway connection crimea russian force may paused offensive operation southern ukraine due victory day celebration occupied area russian force continued target odesa missile strike an unnamed u defense official said russia no ability threaten odesa sea ground despite consistent missile strike ongoing aerial reconnaissance russian force likely continue shell odesa unlikely inflict significant damage resume advance towards city official also noted u no confirmation ukrainian force recaptured snake island coast odesa oblast russian transnistrian source claimed ukrainian force closed border moldova amidst growing tension transnistria although isw not independently verify claim supporting effort 4—sumy northeastern ukraine russian objective withdraw combat power good order redeployment eastern ukraine no significant event axis past twenty four hour immediate item watchrussian force likely continue merge offensive effort southward izyum westward advance donetsk order encircle ukrainian troop southern kharkiv oblast western donetsk russia may change status donetsk luhansk people republic possibly merging single donbas republic and or annexing directly russia russian force apparently decided seize azovstal plant ground assault likely continue operation accordingly ukrainian counteroffensive around kharkiv city pushing back russian position northeast city likely continue force russian reinforce position cost reinforcing russian offensive operation elsewhere russian force may preparing conduct renewed offensive operation capture entirety kherson oblast coming day http t dot me zoda gov ua 7560https t dot me istorijaoruzija 62218 http t dot me istorijaoruzija 62161https t dot me synegubov 3154https t dot me zoda gov ua 7560'"
      ]
     },
     "execution_count": 137,
     "metadata": {},
     "output_type": "execute_result"
    }
   ],
   "source": [
    "docs = df[\"text_lemm\"].tolist()\n",
    "some_row = df.iloc[74]\n",
    "some_row_in_html = some_row['text_lemm']\n",
    "some_row_in_html"
   ]
  },
  {
   "cell_type": "markdown",
   "id": "7884a0fb",
   "metadata": {},
   "source": [
    "## Create instance of count vectorizer to vectorize text data"
   ]
  },
  {
   "cell_type": "code",
   "execution_count": 138,
   "id": "4ad56cec",
   "metadata": {},
   "outputs": [
    {
     "data": {
      "text/plain": [
       "(333, 9343)"
      ]
     },
     "execution_count": 138,
     "metadata": {},
     "output_type": "execute_result"
    }
   ],
   "source": [
    "cv = CountVectorizer(max_df=0.98,min_df=2)\n",
    "word_count_vector= cv.fit_transform(docs)\n",
    "\n",
    "word_count_vector.shape"
   ]
  },
  {
   "cell_type": "code",
   "execution_count": 139,
   "id": "cb9517b0",
   "metadata": {},
   "outputs": [],
   "source": [
    "with open('data/3_isw_vectorized_data/cv.pkl', 'wb') as f:\n",
    "    pickle.dump(cv, f)"
   ]
  },
  {
   "cell_type": "code",
   "execution_count": 140,
   "id": "a3ac3e60",
   "metadata": {},
   "outputs": [
    {
     "data": {
      "text/html": [
       "<style>#sk-container-id-1 {color: black;background-color: white;}#sk-container-id-1 pre{padding: 0;}#sk-container-id-1 div.sk-toggleable {background-color: white;}#sk-container-id-1 label.sk-toggleable__label {cursor: pointer;display: block;width: 100%;margin-bottom: 0;padding: 0.3em;box-sizing: border-box;text-align: center;}#sk-container-id-1 label.sk-toggleable__label-arrow:before {content: \"▸\";float: left;margin-right: 0.25em;color: #696969;}#sk-container-id-1 label.sk-toggleable__label-arrow:hover:before {color: black;}#sk-container-id-1 div.sk-estimator:hover label.sk-toggleable__label-arrow:before {color: black;}#sk-container-id-1 div.sk-toggleable__content {max-height: 0;max-width: 0;overflow: hidden;text-align: left;background-color: #f0f8ff;}#sk-container-id-1 div.sk-toggleable__content pre {margin: 0.2em;color: black;border-radius: 0.25em;background-color: #f0f8ff;}#sk-container-id-1 input.sk-toggleable__control:checked~div.sk-toggleable__content {max-height: 200px;max-width: 100%;overflow: auto;}#sk-container-id-1 input.sk-toggleable__control:checked~label.sk-toggleable__label-arrow:before {content: \"▾\";}#sk-container-id-1 div.sk-estimator input.sk-toggleable__control:checked~label.sk-toggleable__label {background-color: #d4ebff;}#sk-container-id-1 div.sk-label input.sk-toggleable__control:checked~label.sk-toggleable__label {background-color: #d4ebff;}#sk-container-id-1 input.sk-hidden--visually {border: 0;clip: rect(1px 1px 1px 1px);clip: rect(1px, 1px, 1px, 1px);height: 1px;margin: -1px;overflow: hidden;padding: 0;position: absolute;width: 1px;}#sk-container-id-1 div.sk-estimator {font-family: monospace;background-color: #f0f8ff;border: 1px dotted black;border-radius: 0.25em;box-sizing: border-box;margin-bottom: 0.5em;}#sk-container-id-1 div.sk-estimator:hover {background-color: #d4ebff;}#sk-container-id-1 div.sk-parallel-item::after {content: \"\";width: 100%;border-bottom: 1px solid gray;flex-grow: 1;}#sk-container-id-1 div.sk-label:hover label.sk-toggleable__label {background-color: #d4ebff;}#sk-container-id-1 div.sk-serial::before {content: \"\";position: absolute;border-left: 1px solid gray;box-sizing: border-box;top: 0;bottom: 0;left: 50%;z-index: 0;}#sk-container-id-1 div.sk-serial {display: flex;flex-direction: column;align-items: center;background-color: white;padding-right: 0.2em;padding-left: 0.2em;position: relative;}#sk-container-id-1 div.sk-item {position: relative;z-index: 1;}#sk-container-id-1 div.sk-parallel {display: flex;align-items: stretch;justify-content: center;background-color: white;position: relative;}#sk-container-id-1 div.sk-item::before, #sk-container-id-1 div.sk-parallel-item::before {content: \"\";position: absolute;border-left: 1px solid gray;box-sizing: border-box;top: 0;bottom: 0;left: 50%;z-index: -1;}#sk-container-id-1 div.sk-parallel-item {display: flex;flex-direction: column;z-index: 1;position: relative;background-color: white;}#sk-container-id-1 div.sk-parallel-item:first-child::after {align-self: flex-end;width: 50%;}#sk-container-id-1 div.sk-parallel-item:last-child::after {align-self: flex-start;width: 50%;}#sk-container-id-1 div.sk-parallel-item:only-child::after {width: 0;}#sk-container-id-1 div.sk-dashed-wrapped {border: 1px dashed gray;margin: 0 0.4em 0.5em 0.4em;box-sizing: border-box;padding-bottom: 0.4em;background-color: white;}#sk-container-id-1 div.sk-label label {font-family: monospace;font-weight: bold;display: inline-block;line-height: 1.2em;}#sk-container-id-1 div.sk-label-container {text-align: center;}#sk-container-id-1 div.sk-container {/* jupyter's `normalize.less` sets `[hidden] { display: none; }` but bootstrap.min.css set `[hidden] { display: none !important; }` so we also need the `!important` here to be able to override the default hidden behavior on the sphinx rendered scikit-learn.org. See: https://github.com/scikit-learn/scikit-learn/issues/21755 */display: inline-block !important;position: relative;}#sk-container-id-1 div.sk-text-repr-fallback {display: none;}</style><div id=\"sk-container-id-1\" class=\"sk-top-container\"><div class=\"sk-text-repr-fallback\"><pre>TfidfTransformer()</pre><b>In a Jupyter environment, please rerun this cell to show the HTML representation or trust the notebook. <br />On GitHub, the HTML representation is unable to render, please try loading this page with nbviewer.org.</b></div><div class=\"sk-container\" hidden><div class=\"sk-item\"><div class=\"sk-estimator sk-toggleable\"><input class=\"sk-toggleable__control sk-hidden--visually\" id=\"sk-estimator-id-1\" type=\"checkbox\" checked><label for=\"sk-estimator-id-1\" class=\"sk-toggleable__label sk-toggleable__label-arrow\">TfidfTransformer</label><div class=\"sk-toggleable__content\"><pre>TfidfTransformer()</pre></div></div></div></div></div>"
      ],
      "text/plain": [
       "TfidfTransformer()"
      ]
     },
     "execution_count": 140,
     "metadata": {},
     "output_type": "execute_result"
    }
   ],
   "source": [
    "tfidf_transformer=TfidfTransformer(smooth_idf=True,use_idf=True)\n",
    "tfidf_transformer.fit(word_count_vector)"
   ]
  },
  {
   "cell_type": "code",
   "execution_count": 141,
   "id": "6c07eb4a",
   "metadata": {},
   "outputs": [],
   "source": [
    "with open('data/3_isw_vectorized_data/tfidf_transformer.pkl', 'wb') as f:\n",
    "    pickle.dump(tfidf_transformer, f)"
   ]
  },
  {
   "cell_type": "markdown",
   "id": "394f55ca",
   "metadata": {},
   "source": [
    "## Vectorization"
   ]
  },
  {
   "cell_type": "code",
   "execution_count": 142,
   "id": "7b2a766c",
   "metadata": {},
   "outputs": [
    {
     "data": {
      "text/html": [
       "<div>\n",
       "<style scoped>\n",
       "    .dataframe tbody tr th:only-of-type {\n",
       "        vertical-align: middle;\n",
       "    }\n",
       "\n",
       "    .dataframe tbody tr th {\n",
       "        vertical-align: top;\n",
       "    }\n",
       "\n",
       "    .dataframe thead th {\n",
       "        text-align: right;\n",
       "    }\n",
       "</style>\n",
       "<table border=\"1\" class=\"dataframe\">\n",
       "  <thead>\n",
       "    <tr style=\"text-align: right;\">\n",
       "      <th></th>\n",
       "      <th>idf_weight</th>\n",
       "    </tr>\n",
       "  </thead>\n",
       "  <tbody>\n",
       "    <tr>\n",
       "      <th>staff</th>\n",
       "      <td>1.021181</td>\n",
       "    </tr>\n",
       "    <tr>\n",
       "      <th>area</th>\n",
       "      <td>1.024244</td>\n",
       "    </tr>\n",
       "    <tr>\n",
       "      <th>kharkiv</th>\n",
       "      <td>1.024244</td>\n",
       "    </tr>\n",
       "    <tr>\n",
       "      <th>attack</th>\n",
       "      <td>1.024244</td>\n",
       "    </tr>\n",
       "    <tr>\n",
       "      <th>position</th>\n",
       "      <td>1.027316</td>\n",
       "    </tr>\n",
       "    <tr>\n",
       "      <th>combat</th>\n",
       "      <td>1.030397</td>\n",
       "    </tr>\n",
       "    <tr>\n",
       "      <th>luhansk</th>\n",
       "      <td>1.030397</td>\n",
       "    </tr>\n",
       "    <tr>\n",
       "      <th>main</th>\n",
       "      <td>1.033489</td>\n",
       "    </tr>\n",
       "    <tr>\n",
       "      <th>medium</th>\n",
       "      <td>1.039700</td>\n",
       "    </tr>\n",
       "    <tr>\n",
       "      <th>around</th>\n",
       "      <td>1.039700</td>\n",
       "    </tr>\n",
       "    <tr>\n",
       "      <th>supporting</th>\n",
       "      <td>1.042820</td>\n",
       "    </tr>\n",
       "    <tr>\n",
       "      <th>well</th>\n",
       "      <td>1.045950</td>\n",
       "    </tr>\n",
       "    <tr>\n",
       "      <th>axis</th>\n",
       "      <td>1.045950</td>\n",
       "    </tr>\n",
       "    <tr>\n",
       "      <th>line</th>\n",
       "      <td>1.045950</td>\n",
       "    </tr>\n",
       "    <tr>\n",
       "      <th>southern</th>\n",
       "      <td>1.049090</td>\n",
       "    </tr>\n",
       "  </tbody>\n",
       "</table>\n",
       "</div>"
      ],
      "text/plain": [
       "            idf_weight\n",
       "staff         1.021181\n",
       "area          1.024244\n",
       "kharkiv       1.024244\n",
       "attack        1.024244\n",
       "position      1.027316\n",
       "combat        1.030397\n",
       "luhansk       1.030397\n",
       "main          1.033489\n",
       "medium        1.039700\n",
       "around        1.039700\n",
       "supporting    1.042820\n",
       "well          1.045950\n",
       "axis          1.045950\n",
       "line          1.045950\n",
       "southern      1.049090"
      ]
     },
     "execution_count": 142,
     "metadata": {},
     "output_type": "execute_result"
    }
   ],
   "source": [
    "df_idf = pd.DataFrame(tfidf_transformer.idf_, index=cv.get_feature_names_out(), columns=[\"idf_weight\"])\n",
    "df_idf=df_idf.sort_values(by=[\"idf_weight\"])\n",
    "\n",
    "\n",
    "df_idf.head(15)"
   ]
  },
  {
   "cell_type": "markdown",
   "id": "a37f3cb4",
   "metadata": {},
   "source": [
    "## Create final data frame which drops unnecessary columns from the previous one"
   ]
  },
  {
   "cell_type": "code",
   "execution_count": 148,
   "id": "0efaeff4",
   "metadata": {},
   "outputs": [],
   "source": [
    "output_file_parsed = 'preprocessed_isw_report.csv'"
   ]
  },
  {
   "cell_type": "code",
   "execution_count": 145,
   "id": "74855a12",
   "metadata": {},
   "outputs": [
    {
     "data": {
      "text/html": [
       "<div>\n",
       "<style scoped>\n",
       "    .dataframe tbody tr th:only-of-type {\n",
       "        vertical-align: middle;\n",
       "    }\n",
       "\n",
       "    .dataframe tbody tr th {\n",
       "        vertical-align: top;\n",
       "    }\n",
       "\n",
       "    .dataframe thead th {\n",
       "        text-align: right;\n",
       "    }\n",
       "</style>\n",
       "<table border=\"1\" class=\"dataframe\">\n",
       "  <thead>\n",
       "    <tr style=\"text-align: right;\">\n",
       "      <th></th>\n",
       "      <th>date</th>\n",
       "      <th>text_lemm</th>\n",
       "    </tr>\n",
       "  </thead>\n",
       "  <tbody>\n",
       "    <tr>\n",
       "      <th>0</th>\n",
       "      <td>2022-02-24</td>\n",
       "      <td>russian president vladimir putin began large s...</td>\n",
       "    </tr>\n",
       "    <tr>\n",
       "      <th>1</th>\n",
       "      <td>2022-02-25</td>\n",
       "      <td>russian force entered major ukrainian cities—i...</td>\n",
       "    </tr>\n",
       "    <tr>\n",
       "      <th>2</th>\n",
       "      <td>2022-02-26</td>\n",
       "      <td>russian force main ax advance last twenty four...</td>\n",
       "    </tr>\n",
       "    <tr>\n",
       "      <th>3</th>\n",
       "      <td>2022-02-27</td>\n",
       "      <td>russian military likely recognized initial exp...</td>\n",
       "    </tr>\n",
       "    <tr>\n",
       "      <th>4</th>\n",
       "      <td>2022-02-28</td>\n",
       "      <td>russian military reorganizing military effort ...</td>\n",
       "    </tr>\n",
       "    <tr>\n",
       "      <th>5</th>\n",
       "      <td>2022-03-01</td>\n",
       "      <td>russian force completing reinforcement resuppl...</td>\n",
       "    </tr>\n",
       "    <tr>\n",
       "      <th>6</th>\n",
       "      <td>2022-03-02</td>\n",
       "      <td>russian force resumed offensive operation supp...</td>\n",
       "    </tr>\n",
       "    <tr>\n",
       "      <th>7</th>\n",
       "      <td>2022-03-03</td>\n",
       "      <td>critical threat project aei 2022this daily syn...</td>\n",
       "    </tr>\n",
       "    <tr>\n",
       "      <th>8</th>\n",
       "      <td>2022-03-04</td>\n",
       "      <td>critical threat project aei 2022this daily syn...</td>\n",
       "    </tr>\n",
       "    <tr>\n",
       "      <th>9</th>\n",
       "      <td>2022-03-05</td>\n",
       "      <td>early announcement two thousand and twenty two...</td>\n",
       "    </tr>\n",
       "  </tbody>\n",
       "</table>\n",
       "</div>"
      ],
      "text/plain": [
       "         date                                          text_lemm\n",
       "0  2022-02-24  russian president vladimir putin began large s...\n",
       "1  2022-02-25  russian force entered major ukrainian cities—i...\n",
       "2  2022-02-26  russian force main ax advance last twenty four...\n",
       "3  2022-02-27  russian military likely recognized initial exp...\n",
       "4  2022-02-28  russian military reorganizing military effort ...\n",
       "5  2022-03-01  russian force completing reinforcement resuppl...\n",
       "6  2022-03-02  russian force resumed offensive operation supp...\n",
       "7  2022-03-03  critical threat project aei 2022this daily syn...\n",
       "8  2022-03-04  critical threat project aei 2022this daily syn...\n",
       "9  2022-03-05  early announcement two thousand and twenty two..."
      ]
     },
     "execution_count": 145,
     "metadata": {},
     "output_type": "execute_result"
    }
   ],
   "source": [
    "df_final = df.drop(columns={'title', 'text_title', 'main_html', 'text_stem'})\n",
    "df_final.head(10)"
   ]
  },
  {
   "cell_type": "code",
   "execution_count": 149,
   "id": "7eee2abd",
   "metadata": {},
   "outputs": [],
   "source": [
    "df_final.to_csv(f\"data/2_preprocessed_isw_data/{output_file_parsed}\", sep = ';', index = False)"
   ]
  }
 ],
 "metadata": {
  "kernelspec": {
   "display_name": "Python 3 (ipykernel)",
   "language": "python",
   "name": "python3"
  },
  "language_info": {
   "codemirror_mode": {
    "name": "ipython",
    "version": 3
   },
   "file_extension": ".py",
   "mimetype": "text/x-python",
   "name": "python",
   "nbconvert_exporter": "python",
   "pygments_lexer": "ipython3",
   "version": "3.8.10"
  }
 },
 "nbformat": 4,
 "nbformat_minor": 5
}
