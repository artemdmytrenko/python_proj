{
 "cells": [
  {
   "cell_type": "markdown",
   "id": "3acf1a06",
   "metadata": {},
   "source": [
    "# Preparing data for modeling\n"
   ]
  },
  {
   "cell_type": "code",
   "execution_count": 2,
   "id": "fd30abea",
   "metadata": {},
   "outputs": [],
   "source": [
    "from sklearn.model_selection import TimeSeriesSplit\n",
    "import pandas as pd\n",
    "import numpy as np\n",
    "import scipy as sp\n",
    "import pickle"
   ]
  },
  {
   "cell_type": "code",
   "execution_count": 3,
   "id": "391d1bad",
   "metadata": {},
   "outputs": [],
   "source": [
    "DATASET = 'data/4_final_dataset/final_dataset.csv'\n",
    "ISW_DATA = 'data/4_final_dataset/isw_final.csv'"
   ]
  },
  {
   "cell_type": "code",
   "execution_count": 4,
   "id": "febfcef5",
   "metadata": {},
   "outputs": [],
   "source": [
    "pd.set_option('display.max_columns', None)\n",
    "pd.set_option('display.max_rows', None)"
   ]
  },
  {
   "cell_type": "code",
   "execution_count": 5,
   "id": "87827e68",
   "metadata": {
    "scrolled": true
   },
   "outputs": [
    {
     "data": {
      "text/html": [
       "<div>\n",
       "<style scoped>\n",
       "    .dataframe tbody tr th:only-of-type {\n",
       "        vertical-align: middle;\n",
       "    }\n",
       "\n",
       "    .dataframe tbody tr th {\n",
       "        vertical-align: top;\n",
       "    }\n",
       "\n",
       "    .dataframe thead th {\n",
       "        text-align: right;\n",
       "    }\n",
       "</style>\n",
       "<table border=\"1\" class=\"dataframe\">\n",
       "  <thead>\n",
       "    <tr style=\"text-align: right;\">\n",
       "      <th></th>\n",
       "      <th>city_resolvedAddress</th>\n",
       "      <th>day_datetime</th>\n",
       "      <th>day_datetimeEpoch</th>\n",
       "      <th>day_tempmax</th>\n",
       "      <th>day_tempmin</th>\n",
       "      <th>day_temp</th>\n",
       "      <th>day_dew</th>\n",
       "      <th>day_humidity</th>\n",
       "      <th>day_precip</th>\n",
       "      <th>day_precipcover</th>\n",
       "      <th>day_solarradiation</th>\n",
       "      <th>day_solarenergy</th>\n",
       "      <th>day_uvindex</th>\n",
       "      <th>day_sunrise</th>\n",
       "      <th>day_sunset</th>\n",
       "      <th>day_moonphase</th>\n",
       "      <th>hour_datetime</th>\n",
       "      <th>hour_datetimeEpoch</th>\n",
       "      <th>hour_temp</th>\n",
       "      <th>hour_humidity</th>\n",
       "      <th>hour_dew</th>\n",
       "      <th>hour_precip</th>\n",
       "      <th>hour_precipprob</th>\n",
       "      <th>hour_snow</th>\n",
       "      <th>hour_snowdepth</th>\n",
       "      <th>hour_preciptype</th>\n",
       "      <th>hour_windgust</th>\n",
       "      <th>hour_windspeed</th>\n",
       "      <th>hour_winddir</th>\n",
       "      <th>hour_pressure</th>\n",
       "      <th>hour_visibility</th>\n",
       "      <th>hour_cloudcover</th>\n",
       "      <th>hour_solarradiation</th>\n",
       "      <th>hour_solarenergy</th>\n",
       "      <th>hour_uvindex</th>\n",
       "      <th>hour_severerisk</th>\n",
       "      <th>hour_conditions</th>\n",
       "      <th>city</th>\n",
       "      <th>region</th>\n",
       "      <th>center_city_ua</th>\n",
       "      <th>center_city_en</th>\n",
       "      <th>region_alt</th>\n",
       "      <th>region_id</th>\n",
       "      <th>event_region_title</th>\n",
       "      <th>event_region_city</th>\n",
       "      <th>event_all_region</th>\n",
       "      <th>event_start</th>\n",
       "      <th>event_end</th>\n",
       "      <th>event_clean_end</th>\n",
       "      <th>event_intersection_alarm_id</th>\n",
       "      <th>event_start_time</th>\n",
       "      <th>event_end_time</th>\n",
       "      <th>event_start_hour</th>\n",
       "      <th>event_end_hour</th>\n",
       "      <th>event_day_date</th>\n",
       "      <th>event_start_hour_datetimeEpoch</th>\n",
       "      <th>event_end_hour_datetimeEpoch</th>\n",
       "      <th>event_hour_level_event_time</th>\n",
       "      <th>event_hour_level_event_datetimeEpoch</th>\n",
       "      <th>is_alarm</th>\n",
       "    </tr>\n",
       "  </thead>\n",
       "  <tbody>\n",
       "    <tr>\n",
       "      <th>0</th>\n",
       "      <td>Луцьк, Луцький район, Україна</td>\n",
       "      <td>2022-02-24</td>\n",
       "      <td>1645653600</td>\n",
       "      <td>4.9</td>\n",
       "      <td>0.7</td>\n",
       "      <td>2.6</td>\n",
       "      <td>0.0</td>\n",
       "      <td>83.7</td>\n",
       "      <td>0.118</td>\n",
       "      <td>4.17</td>\n",
       "      <td>36.9</td>\n",
       "      <td>2.8</td>\n",
       "      <td>1.0</td>\n",
       "      <td>07:13:36</td>\n",
       "      <td>17:51:06</td>\n",
       "      <td>0.77</td>\n",
       "      <td>00:00:00</td>\n",
       "      <td>1645653600</td>\n",
       "      <td>2.4</td>\n",
       "      <td>89.18</td>\n",
       "      <td>0.8</td>\n",
       "      <td>0.000</td>\n",
       "      <td>0.0</td>\n",
       "      <td>0.1</td>\n",
       "      <td>0.2</td>\n",
       "      <td>['snow']</td>\n",
       "      <td>31.3</td>\n",
       "      <td>15.5</td>\n",
       "      <td>275.6</td>\n",
       "      <td>1020.0</td>\n",
       "      <td>0.0</td>\n",
       "      <td>91.5</td>\n",
       "      <td>0.0</td>\n",
       "      <td>NaN</td>\n",
       "      <td>0.0</td>\n",
       "      <td>10.0</td>\n",
       "      <td>Overcast</td>\n",
       "      <td>Луцьк</td>\n",
       "      <td>Волинська</td>\n",
       "      <td>Луцьк</td>\n",
       "      <td>Lutsk</td>\n",
       "      <td>Волинь</td>\n",
       "      <td>3</td>\n",
       "      <td>NaN</td>\n",
       "      <td>NaN</td>\n",
       "      <td>NaN</td>\n",
       "      <td>NaN</td>\n",
       "      <td>NaN</td>\n",
       "      <td>NaN</td>\n",
       "      <td>NaN</td>\n",
       "      <td>NaN</td>\n",
       "      <td>NaN</td>\n",
       "      <td>NaN</td>\n",
       "      <td>NaN</td>\n",
       "      <td>NaN</td>\n",
       "      <td>NaN</td>\n",
       "      <td>NaN</td>\n",
       "      <td>NaN</td>\n",
       "      <td>NaN</td>\n",
       "      <td>False</td>\n",
       "    </tr>\n",
       "    <tr>\n",
       "      <th>1</th>\n",
       "      <td>Луцьк, Луцький район, Україна</td>\n",
       "      <td>2022-02-24</td>\n",
       "      <td>1645653600</td>\n",
       "      <td>4.9</td>\n",
       "      <td>0.7</td>\n",
       "      <td>2.6</td>\n",
       "      <td>0.0</td>\n",
       "      <td>83.7</td>\n",
       "      <td>0.118</td>\n",
       "      <td>4.17</td>\n",
       "      <td>36.9</td>\n",
       "      <td>2.8</td>\n",
       "      <td>1.0</td>\n",
       "      <td>07:13:36</td>\n",
       "      <td>17:51:06</td>\n",
       "      <td>0.77</td>\n",
       "      <td>01:00:00</td>\n",
       "      <td>1645657200</td>\n",
       "      <td>2.4</td>\n",
       "      <td>87.90</td>\n",
       "      <td>0.6</td>\n",
       "      <td>0.000</td>\n",
       "      <td>0.0</td>\n",
       "      <td>0.0</td>\n",
       "      <td>0.2</td>\n",
       "      <td>['snow']</td>\n",
       "      <td>27.7</td>\n",
       "      <td>14.8</td>\n",
       "      <td>280.3</td>\n",
       "      <td>1021.0</td>\n",
       "      <td>0.2</td>\n",
       "      <td>88.2</td>\n",
       "      <td>0.0</td>\n",
       "      <td>NaN</td>\n",
       "      <td>0.0</td>\n",
       "      <td>10.0</td>\n",
       "      <td>Partially cloudy</td>\n",
       "      <td>Луцьк</td>\n",
       "      <td>Волинська</td>\n",
       "      <td>Луцьк</td>\n",
       "      <td>Lutsk</td>\n",
       "      <td>Волинь</td>\n",
       "      <td>3</td>\n",
       "      <td>NaN</td>\n",
       "      <td>NaN</td>\n",
       "      <td>NaN</td>\n",
       "      <td>NaN</td>\n",
       "      <td>NaN</td>\n",
       "      <td>NaN</td>\n",
       "      <td>NaN</td>\n",
       "      <td>NaN</td>\n",
       "      <td>NaN</td>\n",
       "      <td>NaN</td>\n",
       "      <td>NaN</td>\n",
       "      <td>NaN</td>\n",
       "      <td>NaN</td>\n",
       "      <td>NaN</td>\n",
       "      <td>NaN</td>\n",
       "      <td>NaN</td>\n",
       "      <td>False</td>\n",
       "    </tr>\n",
       "    <tr>\n",
       "      <th>2</th>\n",
       "      <td>Луцьк, Луцький район, Україна</td>\n",
       "      <td>2022-02-24</td>\n",
       "      <td>1645653600</td>\n",
       "      <td>4.9</td>\n",
       "      <td>0.7</td>\n",
       "      <td>2.6</td>\n",
       "      <td>0.0</td>\n",
       "      <td>83.7</td>\n",
       "      <td>0.118</td>\n",
       "      <td>4.17</td>\n",
       "      <td>36.9</td>\n",
       "      <td>2.8</td>\n",
       "      <td>1.0</td>\n",
       "      <td>07:13:36</td>\n",
       "      <td>17:51:06</td>\n",
       "      <td>0.77</td>\n",
       "      <td>02:00:00</td>\n",
       "      <td>1645660800</td>\n",
       "      <td>2.9</td>\n",
       "      <td>88.58</td>\n",
       "      <td>1.2</td>\n",
       "      <td>0.000</td>\n",
       "      <td>0.0</td>\n",
       "      <td>0.0</td>\n",
       "      <td>0.1</td>\n",
       "      <td>['snow']</td>\n",
       "      <td>29.2</td>\n",
       "      <td>14.4</td>\n",
       "      <td>310.0</td>\n",
       "      <td>1022.0</td>\n",
       "      <td>10.0</td>\n",
       "      <td>100.0</td>\n",
       "      <td>NaN</td>\n",
       "      <td>NaN</td>\n",
       "      <td>NaN</td>\n",
       "      <td>10.0</td>\n",
       "      <td>Overcast</td>\n",
       "      <td>Луцьк</td>\n",
       "      <td>Волинська</td>\n",
       "      <td>Луцьк</td>\n",
       "      <td>Lutsk</td>\n",
       "      <td>Волинь</td>\n",
       "      <td>3</td>\n",
       "      <td>NaN</td>\n",
       "      <td>NaN</td>\n",
       "      <td>NaN</td>\n",
       "      <td>NaN</td>\n",
       "      <td>NaN</td>\n",
       "      <td>NaN</td>\n",
       "      <td>NaN</td>\n",
       "      <td>NaN</td>\n",
       "      <td>NaN</td>\n",
       "      <td>NaN</td>\n",
       "      <td>NaN</td>\n",
       "      <td>NaN</td>\n",
       "      <td>NaN</td>\n",
       "      <td>NaN</td>\n",
       "      <td>NaN</td>\n",
       "      <td>NaN</td>\n",
       "      <td>False</td>\n",
       "    </tr>\n",
       "    <tr>\n",
       "      <th>3</th>\n",
       "      <td>Луцьк, Луцький район, Україна</td>\n",
       "      <td>2022-02-24</td>\n",
       "      <td>1645653600</td>\n",
       "      <td>4.9</td>\n",
       "      <td>0.7</td>\n",
       "      <td>2.6</td>\n",
       "      <td>0.0</td>\n",
       "      <td>83.7</td>\n",
       "      <td>0.118</td>\n",
       "      <td>4.17</td>\n",
       "      <td>36.9</td>\n",
       "      <td>2.8</td>\n",
       "      <td>1.0</td>\n",
       "      <td>07:13:36</td>\n",
       "      <td>17:51:06</td>\n",
       "      <td>0.77</td>\n",
       "      <td>03:00:00</td>\n",
       "      <td>1645664400</td>\n",
       "      <td>2.3</td>\n",
       "      <td>86.63</td>\n",
       "      <td>0.3</td>\n",
       "      <td>0.000</td>\n",
       "      <td>0.0</td>\n",
       "      <td>0.0</td>\n",
       "      <td>0.1</td>\n",
       "      <td>['snow']</td>\n",
       "      <td>23.8</td>\n",
       "      <td>13.3</td>\n",
       "      <td>295.1</td>\n",
       "      <td>1021.0</td>\n",
       "      <td>0.1</td>\n",
       "      <td>92.0</td>\n",
       "      <td>0.0</td>\n",
       "      <td>NaN</td>\n",
       "      <td>0.0</td>\n",
       "      <td>10.0</td>\n",
       "      <td>Overcast</td>\n",
       "      <td>Луцьк</td>\n",
       "      <td>Волинська</td>\n",
       "      <td>Луцьк</td>\n",
       "      <td>Lutsk</td>\n",
       "      <td>Волинь</td>\n",
       "      <td>3</td>\n",
       "      <td>NaN</td>\n",
       "      <td>NaN</td>\n",
       "      <td>NaN</td>\n",
       "      <td>NaN</td>\n",
       "      <td>NaN</td>\n",
       "      <td>NaN</td>\n",
       "      <td>NaN</td>\n",
       "      <td>NaN</td>\n",
       "      <td>NaN</td>\n",
       "      <td>NaN</td>\n",
       "      <td>NaN</td>\n",
       "      <td>NaN</td>\n",
       "      <td>NaN</td>\n",
       "      <td>NaN</td>\n",
       "      <td>NaN</td>\n",
       "      <td>NaN</td>\n",
       "      <td>False</td>\n",
       "    </tr>\n",
       "    <tr>\n",
       "      <th>4</th>\n",
       "      <td>Луцьк, Луцький район, Україна</td>\n",
       "      <td>2022-02-24</td>\n",
       "      <td>1645653600</td>\n",
       "      <td>4.9</td>\n",
       "      <td>0.7</td>\n",
       "      <td>2.6</td>\n",
       "      <td>0.0</td>\n",
       "      <td>83.7</td>\n",
       "      <td>0.118</td>\n",
       "      <td>4.17</td>\n",
       "      <td>36.9</td>\n",
       "      <td>2.8</td>\n",
       "      <td>1.0</td>\n",
       "      <td>07:13:36</td>\n",
       "      <td>17:51:06</td>\n",
       "      <td>0.77</td>\n",
       "      <td>04:00:00</td>\n",
       "      <td>1645668000</td>\n",
       "      <td>1.9</td>\n",
       "      <td>87.85</td>\n",
       "      <td>0.1</td>\n",
       "      <td>0.000</td>\n",
       "      <td>0.0</td>\n",
       "      <td>0.0</td>\n",
       "      <td>0.1</td>\n",
       "      <td>['snow']</td>\n",
       "      <td>24.5</td>\n",
       "      <td>13.3</td>\n",
       "      <td>305.8</td>\n",
       "      <td>1021.0</td>\n",
       "      <td>0.0</td>\n",
       "      <td>93.8</td>\n",
       "      <td>0.0</td>\n",
       "      <td>NaN</td>\n",
       "      <td>0.0</td>\n",
       "      <td>10.0</td>\n",
       "      <td>Overcast</td>\n",
       "      <td>Луцьк</td>\n",
       "      <td>Волинська</td>\n",
       "      <td>Луцьк</td>\n",
       "      <td>Lutsk</td>\n",
       "      <td>Волинь</td>\n",
       "      <td>3</td>\n",
       "      <td>NaN</td>\n",
       "      <td>NaN</td>\n",
       "      <td>NaN</td>\n",
       "      <td>NaN</td>\n",
       "      <td>NaN</td>\n",
       "      <td>NaN</td>\n",
       "      <td>NaN</td>\n",
       "      <td>NaN</td>\n",
       "      <td>NaN</td>\n",
       "      <td>NaN</td>\n",
       "      <td>NaN</td>\n",
       "      <td>NaN</td>\n",
       "      <td>NaN</td>\n",
       "      <td>NaN</td>\n",
       "      <td>NaN</td>\n",
       "      <td>NaN</td>\n",
       "      <td>False</td>\n",
       "    </tr>\n",
       "    <tr>\n",
       "      <th>5</th>\n",
       "      <td>Луцьк, Луцький район, Україна</td>\n",
       "      <td>2022-02-24</td>\n",
       "      <td>1645653600</td>\n",
       "      <td>4.9</td>\n",
       "      <td>0.7</td>\n",
       "      <td>2.6</td>\n",
       "      <td>0.0</td>\n",
       "      <td>83.7</td>\n",
       "      <td>0.118</td>\n",
       "      <td>4.17</td>\n",
       "      <td>36.9</td>\n",
       "      <td>2.8</td>\n",
       "      <td>1.0</td>\n",
       "      <td>07:13:36</td>\n",
       "      <td>17:51:06</td>\n",
       "      <td>0.77</td>\n",
       "      <td>05:00:00</td>\n",
       "      <td>1645671600</td>\n",
       "      <td>1.9</td>\n",
       "      <td>91.66</td>\n",
       "      <td>0.6</td>\n",
       "      <td>0.000</td>\n",
       "      <td>0.0</td>\n",
       "      <td>0.0</td>\n",
       "      <td>0.1</td>\n",
       "      <td>NaN</td>\n",
       "      <td>23.4</td>\n",
       "      <td>10.8</td>\n",
       "      <td>296.0</td>\n",
       "      <td>1022.5</td>\n",
       "      <td>10.0</td>\n",
       "      <td>100.0</td>\n",
       "      <td>0.0</td>\n",
       "      <td>NaN</td>\n",
       "      <td>0.0</td>\n",
       "      <td>10.0</td>\n",
       "      <td>Overcast</td>\n",
       "      <td>Луцьк</td>\n",
       "      <td>Волинська</td>\n",
       "      <td>Луцьк</td>\n",
       "      <td>Lutsk</td>\n",
       "      <td>Волинь</td>\n",
       "      <td>3</td>\n",
       "      <td>NaN</td>\n",
       "      <td>NaN</td>\n",
       "      <td>NaN</td>\n",
       "      <td>NaN</td>\n",
       "      <td>NaN</td>\n",
       "      <td>NaN</td>\n",
       "      <td>NaN</td>\n",
       "      <td>NaN</td>\n",
       "      <td>NaN</td>\n",
       "      <td>NaN</td>\n",
       "      <td>NaN</td>\n",
       "      <td>NaN</td>\n",
       "      <td>NaN</td>\n",
       "      <td>NaN</td>\n",
       "      <td>NaN</td>\n",
       "      <td>NaN</td>\n",
       "      <td>False</td>\n",
       "    </tr>\n",
       "    <tr>\n",
       "      <th>6</th>\n",
       "      <td>Луцьк, Луцький район, Україна</td>\n",
       "      <td>2022-02-24</td>\n",
       "      <td>1645653600</td>\n",
       "      <td>4.9</td>\n",
       "      <td>0.7</td>\n",
       "      <td>2.6</td>\n",
       "      <td>0.0</td>\n",
       "      <td>83.7</td>\n",
       "      <td>0.118</td>\n",
       "      <td>4.17</td>\n",
       "      <td>36.9</td>\n",
       "      <td>2.8</td>\n",
       "      <td>1.0</td>\n",
       "      <td>07:13:36</td>\n",
       "      <td>17:51:06</td>\n",
       "      <td>0.77</td>\n",
       "      <td>06:00:00</td>\n",
       "      <td>1645675200</td>\n",
       "      <td>2.0</td>\n",
       "      <td>93.09</td>\n",
       "      <td>1.0</td>\n",
       "      <td>0.000</td>\n",
       "      <td>0.0</td>\n",
       "      <td>0.0</td>\n",
       "      <td>0.1</td>\n",
       "      <td>['snow']</td>\n",
       "      <td>20.9</td>\n",
       "      <td>10.8</td>\n",
       "      <td>300.0</td>\n",
       "      <td>1021.0</td>\n",
       "      <td>10.0</td>\n",
       "      <td>100.0</td>\n",
       "      <td>0.0</td>\n",
       "      <td>NaN</td>\n",
       "      <td>0.0</td>\n",
       "      <td>10.0</td>\n",
       "      <td>Overcast</td>\n",
       "      <td>Луцьк</td>\n",
       "      <td>Волинська</td>\n",
       "      <td>Луцьк</td>\n",
       "      <td>Lutsk</td>\n",
       "      <td>Волинь</td>\n",
       "      <td>3</td>\n",
       "      <td>NaN</td>\n",
       "      <td>NaN</td>\n",
       "      <td>NaN</td>\n",
       "      <td>NaN</td>\n",
       "      <td>NaN</td>\n",
       "      <td>NaN</td>\n",
       "      <td>NaN</td>\n",
       "      <td>NaN</td>\n",
       "      <td>NaN</td>\n",
       "      <td>NaN</td>\n",
       "      <td>NaN</td>\n",
       "      <td>NaN</td>\n",
       "      <td>NaN</td>\n",
       "      <td>NaN</td>\n",
       "      <td>NaN</td>\n",
       "      <td>NaN</td>\n",
       "      <td>False</td>\n",
       "    </tr>\n",
       "    <tr>\n",
       "      <th>7</th>\n",
       "      <td>Луцьк, Луцький район, Україна</td>\n",
       "      <td>2022-02-24</td>\n",
       "      <td>1645653600</td>\n",
       "      <td>4.9</td>\n",
       "      <td>0.7</td>\n",
       "      <td>2.6</td>\n",
       "      <td>0.0</td>\n",
       "      <td>83.7</td>\n",
       "      <td>0.118</td>\n",
       "      <td>4.17</td>\n",
       "      <td>36.9</td>\n",
       "      <td>2.8</td>\n",
       "      <td>1.0</td>\n",
       "      <td>07:13:36</td>\n",
       "      <td>17:51:06</td>\n",
       "      <td>0.77</td>\n",
       "      <td>07:00:00</td>\n",
       "      <td>1645678800</td>\n",
       "      <td>2.0</td>\n",
       "      <td>93.09</td>\n",
       "      <td>1.0</td>\n",
       "      <td>0.000</td>\n",
       "      <td>0.0</td>\n",
       "      <td>0.0</td>\n",
       "      <td>0.1</td>\n",
       "      <td>['snow']</td>\n",
       "      <td>19.1</td>\n",
       "      <td>10.8</td>\n",
       "      <td>300.0</td>\n",
       "      <td>1022.0</td>\n",
       "      <td>10.0</td>\n",
       "      <td>100.0</td>\n",
       "      <td>0.0</td>\n",
       "      <td>NaN</td>\n",
       "      <td>0.0</td>\n",
       "      <td>10.0</td>\n",
       "      <td>Overcast</td>\n",
       "      <td>Луцьк</td>\n",
       "      <td>Волинська</td>\n",
       "      <td>Луцьк</td>\n",
       "      <td>Lutsk</td>\n",
       "      <td>Волинь</td>\n",
       "      <td>3</td>\n",
       "      <td>NaN</td>\n",
       "      <td>NaN</td>\n",
       "      <td>NaN</td>\n",
       "      <td>NaN</td>\n",
       "      <td>NaN</td>\n",
       "      <td>NaN</td>\n",
       "      <td>NaN</td>\n",
       "      <td>NaN</td>\n",
       "      <td>NaN</td>\n",
       "      <td>NaN</td>\n",
       "      <td>NaN</td>\n",
       "      <td>NaN</td>\n",
       "      <td>NaN</td>\n",
       "      <td>NaN</td>\n",
       "      <td>NaN</td>\n",
       "      <td>NaN</td>\n",
       "      <td>False</td>\n",
       "    </tr>\n",
       "    <tr>\n",
       "      <th>8</th>\n",
       "      <td>Луцьк, Луцький район, Україна</td>\n",
       "      <td>2022-02-24</td>\n",
       "      <td>1645653600</td>\n",
       "      <td>4.9</td>\n",
       "      <td>0.7</td>\n",
       "      <td>2.6</td>\n",
       "      <td>0.0</td>\n",
       "      <td>83.7</td>\n",
       "      <td>0.118</td>\n",
       "      <td>4.17</td>\n",
       "      <td>36.9</td>\n",
       "      <td>2.8</td>\n",
       "      <td>1.0</td>\n",
       "      <td>07:13:36</td>\n",
       "      <td>17:51:06</td>\n",
       "      <td>0.77</td>\n",
       "      <td>08:00:00</td>\n",
       "      <td>1645682400</td>\n",
       "      <td>1.8</td>\n",
       "      <td>91.32</td>\n",
       "      <td>0.6</td>\n",
       "      <td>0.118</td>\n",
       "      <td>100.0</td>\n",
       "      <td>0.0</td>\n",
       "      <td>0.1</td>\n",
       "      <td>['snow']</td>\n",
       "      <td>16.9</td>\n",
       "      <td>7.2</td>\n",
       "      <td>303.0</td>\n",
       "      <td>1024.2</td>\n",
       "      <td>4.4</td>\n",
       "      <td>100.0</td>\n",
       "      <td>NaN</td>\n",
       "      <td>NaN</td>\n",
       "      <td>NaN</td>\n",
       "      <td>10.0</td>\n",
       "      <td>Snow, Overcast</td>\n",
       "      <td>Луцьк</td>\n",
       "      <td>Волинська</td>\n",
       "      <td>Луцьк</td>\n",
       "      <td>Lutsk</td>\n",
       "      <td>Волинь</td>\n",
       "      <td>3</td>\n",
       "      <td>NaN</td>\n",
       "      <td>NaN</td>\n",
       "      <td>NaN</td>\n",
       "      <td>NaN</td>\n",
       "      <td>NaN</td>\n",
       "      <td>NaN</td>\n",
       "      <td>NaN</td>\n",
       "      <td>NaN</td>\n",
       "      <td>NaN</td>\n",
       "      <td>NaN</td>\n",
       "      <td>NaN</td>\n",
       "      <td>NaN</td>\n",
       "      <td>NaN</td>\n",
       "      <td>NaN</td>\n",
       "      <td>NaN</td>\n",
       "      <td>NaN</td>\n",
       "      <td>False</td>\n",
       "    </tr>\n",
       "    <tr>\n",
       "      <th>9</th>\n",
       "      <td>Луцьк, Луцький район, Україна</td>\n",
       "      <td>2022-02-24</td>\n",
       "      <td>1645653600</td>\n",
       "      <td>4.9</td>\n",
       "      <td>0.7</td>\n",
       "      <td>2.6</td>\n",
       "      <td>0.0</td>\n",
       "      <td>83.7</td>\n",
       "      <td>0.118</td>\n",
       "      <td>4.17</td>\n",
       "      <td>36.9</td>\n",
       "      <td>2.8</td>\n",
       "      <td>1.0</td>\n",
       "      <td>07:13:36</td>\n",
       "      <td>17:51:06</td>\n",
       "      <td>0.77</td>\n",
       "      <td>09:00:00</td>\n",
       "      <td>1645686000</td>\n",
       "      <td>2.0</td>\n",
       "      <td>93.09</td>\n",
       "      <td>1.0</td>\n",
       "      <td>0.000</td>\n",
       "      <td>0.0</td>\n",
       "      <td>0.0</td>\n",
       "      <td>0.1</td>\n",
       "      <td>NaN</td>\n",
       "      <td>15.5</td>\n",
       "      <td>10.8</td>\n",
       "      <td>300.0</td>\n",
       "      <td>1024.0</td>\n",
       "      <td>2.0</td>\n",
       "      <td>100.0</td>\n",
       "      <td>15.0</td>\n",
       "      <td>0.1</td>\n",
       "      <td>0.0</td>\n",
       "      <td>10.0</td>\n",
       "      <td>Overcast</td>\n",
       "      <td>Луцьк</td>\n",
       "      <td>Волинська</td>\n",
       "      <td>Луцьк</td>\n",
       "      <td>Lutsk</td>\n",
       "      <td>Волинь</td>\n",
       "      <td>3</td>\n",
       "      <td>NaN</td>\n",
       "      <td>NaN</td>\n",
       "      <td>NaN</td>\n",
       "      <td>NaN</td>\n",
       "      <td>NaN</td>\n",
       "      <td>NaN</td>\n",
       "      <td>NaN</td>\n",
       "      <td>NaN</td>\n",
       "      <td>NaN</td>\n",
       "      <td>NaN</td>\n",
       "      <td>NaN</td>\n",
       "      <td>NaN</td>\n",
       "      <td>NaN</td>\n",
       "      <td>NaN</td>\n",
       "      <td>NaN</td>\n",
       "      <td>NaN</td>\n",
       "      <td>False</td>\n",
       "    </tr>\n",
       "  </tbody>\n",
       "</table>\n",
       "</div>"
      ],
      "text/plain": [
       "            city_resolvedAddress day_datetime  day_datetimeEpoch  day_tempmax   \n",
       "0  Луцьк, Луцький район, Україна   2022-02-24         1645653600          4.9  \\\n",
       "1  Луцьк, Луцький район, Україна   2022-02-24         1645653600          4.9   \n",
       "2  Луцьк, Луцький район, Україна   2022-02-24         1645653600          4.9   \n",
       "3  Луцьк, Луцький район, Україна   2022-02-24         1645653600          4.9   \n",
       "4  Луцьк, Луцький район, Україна   2022-02-24         1645653600          4.9   \n",
       "5  Луцьк, Луцький район, Україна   2022-02-24         1645653600          4.9   \n",
       "6  Луцьк, Луцький район, Україна   2022-02-24         1645653600          4.9   \n",
       "7  Луцьк, Луцький район, Україна   2022-02-24         1645653600          4.9   \n",
       "8  Луцьк, Луцький район, Україна   2022-02-24         1645653600          4.9   \n",
       "9  Луцьк, Луцький район, Україна   2022-02-24         1645653600          4.9   \n",
       "\n",
       "   day_tempmin  day_temp  day_dew  day_humidity  day_precip  day_precipcover   \n",
       "0          0.7       2.6      0.0          83.7       0.118             4.17  \\\n",
       "1          0.7       2.6      0.0          83.7       0.118             4.17   \n",
       "2          0.7       2.6      0.0          83.7       0.118             4.17   \n",
       "3          0.7       2.6      0.0          83.7       0.118             4.17   \n",
       "4          0.7       2.6      0.0          83.7       0.118             4.17   \n",
       "5          0.7       2.6      0.0          83.7       0.118             4.17   \n",
       "6          0.7       2.6      0.0          83.7       0.118             4.17   \n",
       "7          0.7       2.6      0.0          83.7       0.118             4.17   \n",
       "8          0.7       2.6      0.0          83.7       0.118             4.17   \n",
       "9          0.7       2.6      0.0          83.7       0.118             4.17   \n",
       "\n",
       "   day_solarradiation  day_solarenergy  day_uvindex day_sunrise day_sunset   \n",
       "0                36.9              2.8          1.0    07:13:36   17:51:06  \\\n",
       "1                36.9              2.8          1.0    07:13:36   17:51:06   \n",
       "2                36.9              2.8          1.0    07:13:36   17:51:06   \n",
       "3                36.9              2.8          1.0    07:13:36   17:51:06   \n",
       "4                36.9              2.8          1.0    07:13:36   17:51:06   \n",
       "5                36.9              2.8          1.0    07:13:36   17:51:06   \n",
       "6                36.9              2.8          1.0    07:13:36   17:51:06   \n",
       "7                36.9              2.8          1.0    07:13:36   17:51:06   \n",
       "8                36.9              2.8          1.0    07:13:36   17:51:06   \n",
       "9                36.9              2.8          1.0    07:13:36   17:51:06   \n",
       "\n",
       "   day_moonphase hour_datetime  hour_datetimeEpoch  hour_temp  hour_humidity   \n",
       "0           0.77      00:00:00          1645653600        2.4          89.18  \\\n",
       "1           0.77      01:00:00          1645657200        2.4          87.90   \n",
       "2           0.77      02:00:00          1645660800        2.9          88.58   \n",
       "3           0.77      03:00:00          1645664400        2.3          86.63   \n",
       "4           0.77      04:00:00          1645668000        1.9          87.85   \n",
       "5           0.77      05:00:00          1645671600        1.9          91.66   \n",
       "6           0.77      06:00:00          1645675200        2.0          93.09   \n",
       "7           0.77      07:00:00          1645678800        2.0          93.09   \n",
       "8           0.77      08:00:00          1645682400        1.8          91.32   \n",
       "9           0.77      09:00:00          1645686000        2.0          93.09   \n",
       "\n",
       "   hour_dew  hour_precip  hour_precipprob  hour_snow  hour_snowdepth   \n",
       "0       0.8        0.000              0.0        0.1             0.2  \\\n",
       "1       0.6        0.000              0.0        0.0             0.2   \n",
       "2       1.2        0.000              0.0        0.0             0.1   \n",
       "3       0.3        0.000              0.0        0.0             0.1   \n",
       "4       0.1        0.000              0.0        0.0             0.1   \n",
       "5       0.6        0.000              0.0        0.0             0.1   \n",
       "6       1.0        0.000              0.0        0.0             0.1   \n",
       "7       1.0        0.000              0.0        0.0             0.1   \n",
       "8       0.6        0.118            100.0        0.0             0.1   \n",
       "9       1.0        0.000              0.0        0.0             0.1   \n",
       "\n",
       "  hour_preciptype  hour_windgust  hour_windspeed  hour_winddir  hour_pressure   \n",
       "0        ['snow']           31.3            15.5         275.6         1020.0  \\\n",
       "1        ['snow']           27.7            14.8         280.3         1021.0   \n",
       "2        ['snow']           29.2            14.4         310.0         1022.0   \n",
       "3        ['snow']           23.8            13.3         295.1         1021.0   \n",
       "4        ['snow']           24.5            13.3         305.8         1021.0   \n",
       "5             NaN           23.4            10.8         296.0         1022.5   \n",
       "6        ['snow']           20.9            10.8         300.0         1021.0   \n",
       "7        ['snow']           19.1            10.8         300.0         1022.0   \n",
       "8        ['snow']           16.9             7.2         303.0         1024.2   \n",
       "9             NaN           15.5            10.8         300.0         1024.0   \n",
       "\n",
       "   hour_visibility  hour_cloudcover  hour_solarradiation  hour_solarenergy   \n",
       "0              0.0             91.5                  0.0               NaN  \\\n",
       "1              0.2             88.2                  0.0               NaN   \n",
       "2             10.0            100.0                  NaN               NaN   \n",
       "3              0.1             92.0                  0.0               NaN   \n",
       "4              0.0             93.8                  0.0               NaN   \n",
       "5             10.0            100.0                  0.0               NaN   \n",
       "6             10.0            100.0                  0.0               NaN   \n",
       "7             10.0            100.0                  0.0               NaN   \n",
       "8              4.4            100.0                  NaN               NaN   \n",
       "9              2.0            100.0                 15.0               0.1   \n",
       "\n",
       "   hour_uvindex  hour_severerisk   hour_conditions   city     region   \n",
       "0           0.0             10.0          Overcast  Луцьк  Волинська  \\\n",
       "1           0.0             10.0  Partially cloudy  Луцьк  Волинська   \n",
       "2           NaN             10.0          Overcast  Луцьк  Волинська   \n",
       "3           0.0             10.0          Overcast  Луцьк  Волинська   \n",
       "4           0.0             10.0          Overcast  Луцьк  Волинська   \n",
       "5           0.0             10.0          Overcast  Луцьк  Волинська   \n",
       "6           0.0             10.0          Overcast  Луцьк  Волинська   \n",
       "7           0.0             10.0          Overcast  Луцьк  Волинська   \n",
       "8           NaN             10.0    Snow, Overcast  Луцьк  Волинська   \n",
       "9           0.0             10.0          Overcast  Луцьк  Волинська   \n",
       "\n",
       "  center_city_ua center_city_en region_alt  region_id event_region_title   \n",
       "0          Луцьк          Lutsk     Волинь          3                NaN  \\\n",
       "1          Луцьк          Lutsk     Волинь          3                NaN   \n",
       "2          Луцьк          Lutsk     Волинь          3                NaN   \n",
       "3          Луцьк          Lutsk     Волинь          3                NaN   \n",
       "4          Луцьк          Lutsk     Волинь          3                NaN   \n",
       "5          Луцьк          Lutsk     Волинь          3                NaN   \n",
       "6          Луцьк          Lutsk     Волинь          3                NaN   \n",
       "7          Луцьк          Lutsk     Волинь          3                NaN   \n",
       "8          Луцьк          Lutsk     Волинь          3                NaN   \n",
       "9          Луцьк          Lutsk     Волинь          3                NaN   \n",
       "\n",
       "  event_region_city  event_all_region event_start event_end event_clean_end   \n",
       "0               NaN               NaN         NaN       NaN             NaN  \\\n",
       "1               NaN               NaN         NaN       NaN             NaN   \n",
       "2               NaN               NaN         NaN       NaN             NaN   \n",
       "3               NaN               NaN         NaN       NaN             NaN   \n",
       "4               NaN               NaN         NaN       NaN             NaN   \n",
       "5               NaN               NaN         NaN       NaN             NaN   \n",
       "6               NaN               NaN         NaN       NaN             NaN   \n",
       "7               NaN               NaN         NaN       NaN             NaN   \n",
       "8               NaN               NaN         NaN       NaN             NaN   \n",
       "9               NaN               NaN         NaN       NaN             NaN   \n",
       "\n",
       "   event_intersection_alarm_id event_start_time event_end_time   \n",
       "0                          NaN              NaN            NaN  \\\n",
       "1                          NaN              NaN            NaN   \n",
       "2                          NaN              NaN            NaN   \n",
       "3                          NaN              NaN            NaN   \n",
       "4                          NaN              NaN            NaN   \n",
       "5                          NaN              NaN            NaN   \n",
       "6                          NaN              NaN            NaN   \n",
       "7                          NaN              NaN            NaN   \n",
       "8                          NaN              NaN            NaN   \n",
       "9                          NaN              NaN            NaN   \n",
       "\n",
       "  event_start_hour event_end_hour event_day_date   \n",
       "0              NaN            NaN            NaN  \\\n",
       "1              NaN            NaN            NaN   \n",
       "2              NaN            NaN            NaN   \n",
       "3              NaN            NaN            NaN   \n",
       "4              NaN            NaN            NaN   \n",
       "5              NaN            NaN            NaN   \n",
       "6              NaN            NaN            NaN   \n",
       "7              NaN            NaN            NaN   \n",
       "8              NaN            NaN            NaN   \n",
       "9              NaN            NaN            NaN   \n",
       "\n",
       "   event_start_hour_datetimeEpoch  event_end_hour_datetimeEpoch   \n",
       "0                             NaN                           NaN  \\\n",
       "1                             NaN                           NaN   \n",
       "2                             NaN                           NaN   \n",
       "3                             NaN                           NaN   \n",
       "4                             NaN                           NaN   \n",
       "5                             NaN                           NaN   \n",
       "6                             NaN                           NaN   \n",
       "7                             NaN                           NaN   \n",
       "8                             NaN                           NaN   \n",
       "9                             NaN                           NaN   \n",
       "\n",
       "  event_hour_level_event_time  event_hour_level_event_datetimeEpoch  is_alarm  \n",
       "0                         NaN                                   NaN     False  \n",
       "1                         NaN                                   NaN     False  \n",
       "2                         NaN                                   NaN     False  \n",
       "3                         NaN                                   NaN     False  \n",
       "4                         NaN                                   NaN     False  \n",
       "5                         NaN                                   NaN     False  \n",
       "6                         NaN                                   NaN     False  \n",
       "7                         NaN                                   NaN     False  \n",
       "8                         NaN                                   NaN     False  \n",
       "9                         NaN                                   NaN     False  "
      ]
     },
     "execution_count": 5,
     "metadata": {},
     "output_type": "execute_result"
    }
   ],
   "source": [
    "df = pd.read_csv(DATASET, sep=';')\n",
    "df.head(10)"
   ]
  },
  {
   "cell_type": "markdown",
   "id": "b894ada0",
   "metadata": {},
   "source": [
    "## ISW Data Prep"
   ]
  },
  {
   "cell_type": "code",
   "execution_count": 6,
   "id": "5b4455bb",
   "metadata": {},
   "outputs": [],
   "source": [
    "df_isw = pd.read_csv(ISW_DATA)"
   ]
  },
  {
   "cell_type": "code",
   "execution_count": 7,
   "id": "72fae4fd",
   "metadata": {},
   "outputs": [],
   "source": [
    "df_isw = df_isw.drop(columns={\n",
    "    'report_date',\n",
    "    'keywords'\n",
    "})"
   ]
  },
  {
   "cell_type": "code",
   "execution_count": 8,
   "id": "e72d094a",
   "metadata": {},
   "outputs": [
    {
     "data": {
      "text/html": [
       "<div>\n",
       "<style scoped>\n",
       "    .dataframe tbody tr th:only-of-type {\n",
       "        vertical-align: middle;\n",
       "    }\n",
       "\n",
       "    .dataframe tbody tr th {\n",
       "        vertical-align: top;\n",
       "    }\n",
       "\n",
       "    .dataframe thead th {\n",
       "        text-align: right;\n",
       "    }\n",
       "</style>\n",
       "<table border=\"1\" class=\"dataframe\">\n",
       "  <thead>\n",
       "    <tr style=\"text-align: right;\">\n",
       "      <th></th>\n",
       "      <th>text_lemm</th>\n",
       "      <th>following_date</th>\n",
       "    </tr>\n",
       "  </thead>\n",
       "  <tbody>\n",
       "    <tr>\n",
       "      <th>0</th>\n",
       "      <td>russian president vladimir putin began large s...</td>\n",
       "      <td>2022-02-25</td>\n",
       "    </tr>\n",
       "    <tr>\n",
       "      <th>1</th>\n",
       "      <td>russian force entered major ukrainian cities—i...</td>\n",
       "      <td>2022-02-26</td>\n",
       "    </tr>\n",
       "  </tbody>\n",
       "</table>\n",
       "</div>"
      ],
      "text/plain": [
       "                                           text_lemm following_date\n",
       "0  russian president vladimir putin began large s...     2022-02-25\n",
       "1  russian force entered major ukrainian cities—i...     2022-02-26"
      ]
     },
     "execution_count": 8,
     "metadata": {},
     "output_type": "execute_result"
    }
   ],
   "source": [
    "df_isw.head(2)"
   ]
  },
  {
   "cell_type": "code",
   "execution_count": 9,
   "id": "905cd331",
   "metadata": {},
   "outputs": [],
   "source": [
    "df_merged = pd.merge(df, \n",
    "                     df_isw, \n",
    "                     left_on='day_datetime', \n",
    "                     right_on='following_date')"
   ]
  },
  {
   "cell_type": "code",
   "execution_count": 10,
   "id": "ff4fa603",
   "metadata": {},
   "outputs": [],
   "source": [
    "df_merged['datetime'] = pd.to_datetime(\n",
    "    df_merged['day_datetime'].str.cat(\n",
    "        df_merged['hour_datetime'], \n",
    "        sep=' '))"
   ]
  },
  {
   "cell_type": "code",
   "execution_count": 11,
   "id": "0e54b460",
   "metadata": {},
   "outputs": [],
   "source": [
    "df_merged = df_merged.sort_values('datetime', ignore_index=True)"
   ]
  },
  {
   "cell_type": "code",
   "execution_count": 12,
   "id": "9f9c7591",
   "metadata": {},
   "outputs": [],
   "source": [
    "exclude = {\n",
    "    'day_tempmax',\n",
    "    'day_tempmin',\n",
    "    'day_precipcover',\n",
    "    'day_temp', \n",
    "    'day_dew', \n",
    "    'day_humidity',\n",
    "    'day_precip',\n",
    "    'day_precipcover', \n",
    "    'day_solarradiation',\n",
    "    'day_solarenergy', \n",
    "    'day_uvindex',\n",
    "    'day_moonphase', \n",
    "    'city_resolvedAddress',\n",
    "    'day_datetimeEpoch',\n",
    "    'datetime',\n",
    "    'day_datetime',\n",
    "    'hour_datetime',\n",
    "    'hour_datetimeEpoch',\n",
    "    'day_sunrise',\n",
    "    'day_sunset',\n",
    "    'hour_preciptype',\n",
    "    'hour_conditions',\n",
    "    'hour_solarenergy',\n",
    "    'day_solarenergy',\n",
    "    'city',\n",
    "    'center_city_ua',\n",
    "    'center_city_en',\n",
    "    'region_alt',\n",
    "    'event_region_title',\n",
    "    'event_region_city',\n",
    "    'event_all_region',\n",
    "    'event_start',\n",
    "    'event_end',\n",
    "    'event_clean_end',\n",
    "    'event_intersection_alarm_id',\n",
    "    'event_start_time',\n",
    "    'event_end_time',\n",
    "    'event_start_hour',\n",
    "    'event_end_hour',\n",
    "    'event_day_date',\n",
    "    'event_start_hour_datetimeEpoch',\n",
    "    'event_end_hour_datetimeEpoch',\n",
    "    'event_hour_level_event_time',\n",
    "    'event_hour_level_event_datetimeEpoch',\n",
    "    'region',\n",
    "    'following_date'\n",
    "}"
   ]
  },
  {
   "cell_type": "code",
   "execution_count": 13,
   "id": "b43004cb",
   "metadata": {},
   "outputs": [],
   "source": [
    "df_merged = df_merged.drop(columns=exclude)"
   ]
  },
  {
   "cell_type": "code",
   "execution_count": 14,
   "id": "f2d4a1e2",
   "metadata": {
    "scrolled": true
   },
   "outputs": [
    {
     "data": {
      "text/html": [
       "<div>\n",
       "<style scoped>\n",
       "    .dataframe tbody tr th:only-of-type {\n",
       "        vertical-align: middle;\n",
       "    }\n",
       "\n",
       "    .dataframe tbody tr th {\n",
       "        vertical-align: top;\n",
       "    }\n",
       "\n",
       "    .dataframe thead th {\n",
       "        text-align: right;\n",
       "    }\n",
       "</style>\n",
       "<table border=\"1\" class=\"dataframe\">\n",
       "  <thead>\n",
       "    <tr style=\"text-align: right;\">\n",
       "      <th></th>\n",
       "      <th>hour_temp</th>\n",
       "      <th>hour_humidity</th>\n",
       "      <th>hour_dew</th>\n",
       "      <th>hour_precip</th>\n",
       "      <th>hour_precipprob</th>\n",
       "      <th>hour_snow</th>\n",
       "      <th>hour_snowdepth</th>\n",
       "      <th>hour_windgust</th>\n",
       "      <th>hour_windspeed</th>\n",
       "      <th>hour_winddir</th>\n",
       "      <th>hour_pressure</th>\n",
       "      <th>hour_visibility</th>\n",
       "      <th>hour_cloudcover</th>\n",
       "      <th>hour_solarradiation</th>\n",
       "      <th>hour_uvindex</th>\n",
       "      <th>hour_severerisk</th>\n",
       "      <th>region_id</th>\n",
       "      <th>is_alarm</th>\n",
       "      <th>text_lemm</th>\n",
       "    </tr>\n",
       "  </thead>\n",
       "  <tbody>\n",
       "    <tr>\n",
       "      <th>0</th>\n",
       "      <td>0.3</td>\n",
       "      <td>82.68</td>\n",
       "      <td>-2.3</td>\n",
       "      <td>0.0</td>\n",
       "      <td>0.0</td>\n",
       "      <td>0.0</td>\n",
       "      <td>0.0</td>\n",
       "      <td>25.6</td>\n",
       "      <td>14.4</td>\n",
       "      <td>171.2</td>\n",
       "      <td>1019.0</td>\n",
       "      <td>24.1</td>\n",
       "      <td>100.0</td>\n",
       "      <td>0.0</td>\n",
       "      <td>0.0</td>\n",
       "      <td>10.0</td>\n",
       "      <td>3</td>\n",
       "      <td>False</td>\n",
       "      <td>russian president vladimir putin began large s...</td>\n",
       "    </tr>\n",
       "    <tr>\n",
       "      <th>1</th>\n",
       "      <td>-0.7</td>\n",
       "      <td>88.26</td>\n",
       "      <td>-2.4</td>\n",
       "      <td>0.0</td>\n",
       "      <td>0.0</td>\n",
       "      <td>0.0</td>\n",
       "      <td>0.1</td>\n",
       "      <td>21.2</td>\n",
       "      <td>12.6</td>\n",
       "      <td>166.4</td>\n",
       "      <td>1021.0</td>\n",
       "      <td>24.1</td>\n",
       "      <td>0.0</td>\n",
       "      <td>0.0</td>\n",
       "      <td>0.0</td>\n",
       "      <td>10.0</td>\n",
       "      <td>19</td>\n",
       "      <td>False</td>\n",
       "      <td>russian president vladimir putin began large s...</td>\n",
       "    </tr>\n",
       "    <tr>\n",
       "      <th>2</th>\n",
       "      <td>3.1</td>\n",
       "      <td>71.78</td>\n",
       "      <td>-1.5</td>\n",
       "      <td>0.0</td>\n",
       "      <td>0.0</td>\n",
       "      <td>0.0</td>\n",
       "      <td>0.0</td>\n",
       "      <td>19.8</td>\n",
       "      <td>13.3</td>\n",
       "      <td>17.8</td>\n",
       "      <td>1021.0</td>\n",
       "      <td>24.1</td>\n",
       "      <td>100.0</td>\n",
       "      <td>0.0</td>\n",
       "      <td>0.0</td>\n",
       "      <td>10.0</td>\n",
       "      <td>21</td>\n",
       "      <td>False</td>\n",
       "      <td>russian president vladimir putin began large s...</td>\n",
       "    </tr>\n",
       "    <tr>\n",
       "      <th>3</th>\n",
       "      <td>-0.2</td>\n",
       "      <td>89.61</td>\n",
       "      <td>-1.7</td>\n",
       "      <td>0.0</td>\n",
       "      <td>0.0</td>\n",
       "      <td>0.0</td>\n",
       "      <td>0.0</td>\n",
       "      <td>8.6</td>\n",
       "      <td>5.0</td>\n",
       "      <td>95.8</td>\n",
       "      <td>1024.0</td>\n",
       "      <td>24.1</td>\n",
       "      <td>15.2</td>\n",
       "      <td>0.0</td>\n",
       "      <td>0.0</td>\n",
       "      <td>10.0</td>\n",
       "      <td>23</td>\n",
       "      <td>False</td>\n",
       "      <td>russian president vladimir putin began large s...</td>\n",
       "    </tr>\n",
       "    <tr>\n",
       "      <th>4</th>\n",
       "      <td>0.5</td>\n",
       "      <td>85.81</td>\n",
       "      <td>-1.6</td>\n",
       "      <td>0.0</td>\n",
       "      <td>0.0</td>\n",
       "      <td>0.0</td>\n",
       "      <td>0.0</td>\n",
       "      <td>10.8</td>\n",
       "      <td>6.5</td>\n",
       "      <td>171.8</td>\n",
       "      <td>1023.0</td>\n",
       "      <td>24.1</td>\n",
       "      <td>0.0</td>\n",
       "      <td>0.0</td>\n",
       "      <td>0.0</td>\n",
       "      <td>10.0</td>\n",
       "      <td>6</td>\n",
       "      <td>False</td>\n",
       "      <td>russian president vladimir putin began large s...</td>\n",
       "    </tr>\n",
       "    <tr>\n",
       "      <th>5</th>\n",
       "      <td>-0.6</td>\n",
       "      <td>83.80</td>\n",
       "      <td>-3.0</td>\n",
       "      <td>0.0</td>\n",
       "      <td>0.0</td>\n",
       "      <td>0.0</td>\n",
       "      <td>0.0</td>\n",
       "      <td>11.9</td>\n",
       "      <td>6.5</td>\n",
       "      <td>50.5</td>\n",
       "      <td>1025.0</td>\n",
       "      <td>24.1</td>\n",
       "      <td>94.9</td>\n",
       "      <td>0.0</td>\n",
       "      <td>0.0</td>\n",
       "      <td>10.0</td>\n",
       "      <td>16</td>\n",
       "      <td>False</td>\n",
       "      <td>russian president vladimir putin began large s...</td>\n",
       "    </tr>\n",
       "    <tr>\n",
       "      <th>6</th>\n",
       "      <td>0.3</td>\n",
       "      <td>83.91</td>\n",
       "      <td>-2.1</td>\n",
       "      <td>0.0</td>\n",
       "      <td>0.0</td>\n",
       "      <td>0.0</td>\n",
       "      <td>0.0</td>\n",
       "      <td>19.4</td>\n",
       "      <td>11.5</td>\n",
       "      <td>163.6</td>\n",
       "      <td>1020.0</td>\n",
       "      <td>24.1</td>\n",
       "      <td>0.0</td>\n",
       "      <td>0.0</td>\n",
       "      <td>0.0</td>\n",
       "      <td>10.0</td>\n",
       "      <td>17</td>\n",
       "      <td>False</td>\n",
       "      <td>russian president vladimir putin began large s...</td>\n",
       "    </tr>\n",
       "    <tr>\n",
       "      <th>7</th>\n",
       "      <td>-0.6</td>\n",
       "      <td>88.46</td>\n",
       "      <td>-2.2</td>\n",
       "      <td>0.0</td>\n",
       "      <td>0.0</td>\n",
       "      <td>0.0</td>\n",
       "      <td>0.0</td>\n",
       "      <td>21.6</td>\n",
       "      <td>10.9</td>\n",
       "      <td>158.0</td>\n",
       "      <td>1023.2</td>\n",
       "      <td>10.0</td>\n",
       "      <td>0.0</td>\n",
       "      <td>0.0</td>\n",
       "      <td>0.0</td>\n",
       "      <td>10.0</td>\n",
       "      <td>24</td>\n",
       "      <td>False</td>\n",
       "      <td>russian president vladimir putin began large s...</td>\n",
       "    </tr>\n",
       "    <tr>\n",
       "      <th>8</th>\n",
       "      <td>-0.8</td>\n",
       "      <td>71.00</td>\n",
       "      <td>-5.4</td>\n",
       "      <td>0.0</td>\n",
       "      <td>0.0</td>\n",
       "      <td>0.0</td>\n",
       "      <td>3.9</td>\n",
       "      <td>7.2</td>\n",
       "      <td>4.0</td>\n",
       "      <td>99.6</td>\n",
       "      <td>1026.0</td>\n",
       "      <td>24.1</td>\n",
       "      <td>0.0</td>\n",
       "      <td>0.0</td>\n",
       "      <td>0.0</td>\n",
       "      <td>10.0</td>\n",
       "      <td>18</td>\n",
       "      <td>False</td>\n",
       "      <td>russian president vladimir putin began large s...</td>\n",
       "    </tr>\n",
       "    <tr>\n",
       "      <th>9</th>\n",
       "      <td>2.5</td>\n",
       "      <td>82.96</td>\n",
       "      <td>-0.1</td>\n",
       "      <td>0.0</td>\n",
       "      <td>0.0</td>\n",
       "      <td>0.0</td>\n",
       "      <td>0.0</td>\n",
       "      <td>22.0</td>\n",
       "      <td>11.9</td>\n",
       "      <td>34.5</td>\n",
       "      <td>1022.0</td>\n",
       "      <td>24.1</td>\n",
       "      <td>100.0</td>\n",
       "      <td>0.0</td>\n",
       "      <td>0.0</td>\n",
       "      <td>10.0</td>\n",
       "      <td>8</td>\n",
       "      <td>False</td>\n",
       "      <td>russian president vladimir putin began large s...</td>\n",
       "    </tr>\n",
       "  </tbody>\n",
       "</table>\n",
       "</div>"
      ],
      "text/plain": [
       "   hour_temp  hour_humidity  hour_dew  hour_precip  hour_precipprob   \n",
       "0        0.3          82.68      -2.3          0.0              0.0  \\\n",
       "1       -0.7          88.26      -2.4          0.0              0.0   \n",
       "2        3.1          71.78      -1.5          0.0              0.0   \n",
       "3       -0.2          89.61      -1.7          0.0              0.0   \n",
       "4        0.5          85.81      -1.6          0.0              0.0   \n",
       "5       -0.6          83.80      -3.0          0.0              0.0   \n",
       "6        0.3          83.91      -2.1          0.0              0.0   \n",
       "7       -0.6          88.46      -2.2          0.0              0.0   \n",
       "8       -0.8          71.00      -5.4          0.0              0.0   \n",
       "9        2.5          82.96      -0.1          0.0              0.0   \n",
       "\n",
       "   hour_snow  hour_snowdepth  hour_windgust  hour_windspeed  hour_winddir   \n",
       "0        0.0             0.0           25.6            14.4         171.2  \\\n",
       "1        0.0             0.1           21.2            12.6         166.4   \n",
       "2        0.0             0.0           19.8            13.3          17.8   \n",
       "3        0.0             0.0            8.6             5.0          95.8   \n",
       "4        0.0             0.0           10.8             6.5         171.8   \n",
       "5        0.0             0.0           11.9             6.5          50.5   \n",
       "6        0.0             0.0           19.4            11.5         163.6   \n",
       "7        0.0             0.0           21.6            10.9         158.0   \n",
       "8        0.0             3.9            7.2             4.0          99.6   \n",
       "9        0.0             0.0           22.0            11.9          34.5   \n",
       "\n",
       "   hour_pressure  hour_visibility  hour_cloudcover  hour_solarradiation   \n",
       "0         1019.0             24.1            100.0                  0.0  \\\n",
       "1         1021.0             24.1              0.0                  0.0   \n",
       "2         1021.0             24.1            100.0                  0.0   \n",
       "3         1024.0             24.1             15.2                  0.0   \n",
       "4         1023.0             24.1              0.0                  0.0   \n",
       "5         1025.0             24.1             94.9                  0.0   \n",
       "6         1020.0             24.1              0.0                  0.0   \n",
       "7         1023.2             10.0              0.0                  0.0   \n",
       "8         1026.0             24.1              0.0                  0.0   \n",
       "9         1022.0             24.1            100.0                  0.0   \n",
       "\n",
       "   hour_uvindex  hour_severerisk  region_id  is_alarm   \n",
       "0           0.0             10.0          3     False  \\\n",
       "1           0.0             10.0         19     False   \n",
       "2           0.0             10.0         21     False   \n",
       "3           0.0             10.0         23     False   \n",
       "4           0.0             10.0          6     False   \n",
       "5           0.0             10.0         16     False   \n",
       "6           0.0             10.0         17     False   \n",
       "7           0.0             10.0         24     False   \n",
       "8           0.0             10.0         18     False   \n",
       "9           0.0             10.0          8     False   \n",
       "\n",
       "                                           text_lemm  \n",
       "0  russian president vladimir putin began large s...  \n",
       "1  russian president vladimir putin began large s...  \n",
       "2  russian president vladimir putin began large s...  \n",
       "3  russian president vladimir putin began large s...  \n",
       "4  russian president vladimir putin began large s...  \n",
       "5  russian president vladimir putin began large s...  \n",
       "6  russian president vladimir putin began large s...  \n",
       "7  russian president vladimir putin began large s...  \n",
       "8  russian president vladimir putin began large s...  \n",
       "9  russian president vladimir putin began large s...  "
      ]
     },
     "execution_count": 14,
     "metadata": {},
     "output_type": "execute_result"
    }
   ],
   "source": [
    "df_merged.head(10)"
   ]
  },
  {
   "cell_type": "code",
   "execution_count": 15,
   "id": "73323db7",
   "metadata": {},
   "outputs": [],
   "source": [
    "y = df_merged['is_alarm']\n",
    "df_merged = df_merged.drop(columns={'is_alarm'})\n",
    "df_merged = df_merged.fillna(method='ffill')"
   ]
  },
  {
   "cell_type": "code",
   "execution_count": 16,
   "id": "5413e846",
   "metadata": {},
   "outputs": [
    {
     "data": {
      "text/plain": [
       "hour_temp              0\n",
       "hour_humidity          0\n",
       "hour_dew               0\n",
       "hour_precip            0\n",
       "hour_precipprob        0\n",
       "hour_snow              0\n",
       "hour_snowdepth         0\n",
       "hour_windgust          0\n",
       "hour_windspeed         0\n",
       "hour_winddir           0\n",
       "hour_pressure          0\n",
       "hour_visibility        0\n",
       "hour_cloudcover        0\n",
       "hour_solarradiation    0\n",
       "hour_uvindex           0\n",
       "hour_severerisk        0\n",
       "region_id              0\n",
       "text_lemm              0\n",
       "dtype: int64"
      ]
     },
     "execution_count": 16,
     "metadata": {},
     "output_type": "execute_result"
    }
   ],
   "source": [
    "nans_per_column = df_merged.isna().sum(axis=0)\n",
    "nans_per_column"
   ]
  },
  {
   "cell_type": "code",
   "execution_count": 17,
   "id": "b4a37e39",
   "metadata": {},
   "outputs": [
    {
     "data": {
      "text/plain": [
       "(198685, 18)"
      ]
     },
     "execution_count": 17,
     "metadata": {},
     "output_type": "execute_result"
    }
   ],
   "source": [
    "df_merged.shape"
   ]
  },
  {
   "cell_type": "markdown",
   "id": "f0c3b7aa",
   "metadata": {},
   "source": [
    "## Chunking the Data & Concatenating TF-IDF Vectors to the Final Dataset"
   ]
  },
  {
   "cell_type": "code",
   "execution_count": 18,
   "id": "4ffe7cfd",
   "metadata": {},
   "outputs": [],
   "source": [
    "tfidf = pickle.load(open('data/3_isw_vectorized_data/tfidf_transformer.pkl', 'rb'))\n",
    "cv = pickle.load(open('data/3_isw_vectorized_data/cv.pkl', 'rb'))"
   ]
  },
  {
   "cell_type": "code",
   "execution_count": 19,
   "id": "a986dd58",
   "metadata": {},
   "outputs": [],
   "source": [
    "chunks = np.array_split(df_merged, 100)"
   ]
  },
  {
   "cell_type": "code",
   "execution_count": 20,
   "id": "7c2965d6",
   "metadata": {},
   "outputs": [],
   "source": [
    "X = sp.sparse.csr_matrix((0, 9360), dtype=float)\n",
    "\n",
    "for chunk in chunks:\n",
    "    cv_vector = cv.transform(chunk['text_lemm'].values.astype('U'))\n",
    "    tfidf_vec = tfidf.transform(cv_vector)\n",
    "    chunk = chunk.drop(columns={'text_lemm'})\n",
    "    chunk_csr = sp.sparse.csr_matrix(chunk.values.astype(float))\n",
    "    chunk_merged = sp.sparse.hstack((chunk_csr, tfidf_vec), format='csr')\n",
    "    X = sp.sparse.vstack((X, chunk_merged))"
   ]
  },
  {
   "cell_type": "code",
   "execution_count": 21,
   "id": "c023ba29",
   "metadata": {},
   "outputs": [
    {
     "data": {
      "text/plain": [
       "(198685, 9360)"
      ]
     },
     "execution_count": 21,
     "metadata": {},
     "output_type": "execute_result"
    }
   ],
   "source": [
    "X.shape"
   ]
  },
  {
   "cell_type": "markdown",
   "id": "e4626d68",
   "metadata": {},
   "source": [
    "## Separating Data \n",
    "#### using `sklearn.model_selection.TimeSeriesSplit`"
   ]
  },
  {
   "cell_type": "code",
   "execution_count": 22,
   "id": "72c417f3",
   "metadata": {},
   "outputs": [],
   "source": [
    "tscv = TimeSeriesSplit()\n",
    "\n",
    "for train_index, test_index in tscv.split(X):\n",
    "    X_train, X_test = X[train_index, :], X[test_index, :]\n",
    "    y_train, y_test = y[train_index], y[test_index]"
   ]
  },
  {
   "cell_type": "markdown",
   "id": "78c228f9",
   "metadata": {},
   "source": [
    "### Saving Train/Test matrices for later reuse"
   ]
  },
  {
   "cell_type": "code",
   "execution_count": 96,
   "id": "fdce3aa3",
   "metadata": {},
   "outputs": [],
   "source": [
    "# y_test = sp.sparse.csr_matrix(y_test).T\n",
    "# y_train = sp.sparse.csr_matrix(y_train).T"
   ]
  },
  {
   "cell_type": "code",
   "execution_count": 102,
   "id": "f54f6f6c",
   "metadata": {},
   "outputs": [],
   "source": [
    "# train = sp.sparse.hstack([X_train, y_train])\n",
    "# test = sp.sparse.hstack([X_test, y_test])"
   ]
  },
  {
   "cell_type": "code",
   "execution_count": 109,
   "id": "604d3fe1",
   "metadata": {},
   "outputs": [],
   "source": [
    "# sp.sparse.save_npz('data/5_train_test/train.npz', train)\n",
    "# sp.sparse.save_npz('data/5_train_test/test.npz', test)"
   ]
  },
  {
   "cell_type": "markdown",
   "id": "50a3051d",
   "metadata": {},
   "source": [
    "<hr style=\"border-color:black\">\n",
    "\n",
    "\n",
    "# Model Training"
   ]
  },
  {
   "cell_type": "code",
   "execution_count": 23,
   "id": "fccc5e0f",
   "metadata": {},
   "outputs": [
    {
     "name": "stderr",
     "output_type": "stream",
     "text": [
      "Intel(R) Extension for Scikit-learn* enabled (https://github.com/intel/scikit-learn-intelex)\n"
     ]
    }
   ],
   "source": [
    "from sklearnex import patch_sklearn\n",
    "patch_sklearn()"
   ]
  },
  {
   "cell_type": "code",
   "execution_count": 141,
   "id": "8e294504",
   "metadata": {},
   "outputs": [],
   "source": [
    "from sklearn.linear_model import LogisticRegression, Perceptron, Ridge\n",
    "from sklearn.svm import SVC\n",
    "from sklearn.ensemble import RandomForestClassifier, HistGradientBoostingClassifier, AdaBoostClassifier\n",
    "from sklearn.linear_model import SGDClassifier, PassiveAggressiveClassifier\n",
    "from sklearn.neighbors import NearestCentroid, KNeighborsClassifier"
   ]
  },
  {
   "cell_type": "markdown",
   "id": "b139cf9b",
   "metadata": {},
   "source": [
    "### Model 1 | Logistic Regression"
   ]
  },
  {
   "cell_type": "code",
   "execution_count": null,
   "id": "9799700d",
   "metadata": {},
   "outputs": [],
   "source": [
    "logreg = LogisticRegression(solver='saga')\n",
    "logreg.fit(X_train, y_train)"
   ]
  },
  {
   "cell_type": "code",
   "execution_count": 40,
   "id": "cb32d097",
   "metadata": {},
   "outputs": [],
   "source": [
    "with open('models/2__logistic_regression__v2.pkl', 'wb') as f:\n",
    "    pickle.dump(logreg, f)"
   ]
  },
  {
   "cell_type": "markdown",
   "id": "9b35678c",
   "metadata": {},
   "source": [
    "### Model 2 | Support Vector Machines\n",
    "\n",
    "*We tried training the* `SVC` *scikit-learn implementation of SVM with varying values of hyperparameters, but the training lasted for days, hence* `LinearSVC`"
   ]
  },
  {
   "cell_type": "code",
   "execution_count": null,
   "id": "22ec5c80",
   "metadata": {},
   "outputs": [],
   "source": [
    "svc = SVC()\n",
    "svc.fit(X_train, y_train)"
   ]
  },
  {
   "cell_type": "code",
   "execution_count": 133,
   "id": "acedf33a",
   "metadata": {},
   "outputs": [],
   "source": [
    "with open('models/2__linear_svc__v0.pkl', 'wb') as f:\n",
    "    pickle.dump(lsvc, f)"
   ]
  },
  {
   "cell_type": "markdown",
   "id": "76609792",
   "metadata": {},
   "source": [
    "### Model 3 | Stochastic Gradient Descent"
   ]
  },
  {
   "cell_type": "code",
   "execution_count": null,
   "id": "37e2225d",
   "metadata": {},
   "outputs": [],
   "source": [
    "sgdc = SGDClassifier()\n",
    "sgdc.fit(X_train, y_train)"
   ]
  },
  {
   "cell_type": "code",
   "execution_count": 146,
   "id": "e5c2499a",
   "metadata": {},
   "outputs": [],
   "source": [
    "with open('models/2__sgd_classifier__v2.pkl', 'wb') as f:\n",
    "    pickle.dump(sgdc, f)"
   ]
  },
  {
   "cell_type": "markdown",
   "id": "26500bb1",
   "metadata": {},
   "source": [
    "### Model 4 | Forests of randomized trees"
   ]
  },
  {
   "cell_type": "code",
   "execution_count": null,
   "id": "7082bf5d",
   "metadata": {},
   "outputs": [],
   "source": [
    "rfc = RandomForestClassifier()\n",
    "rfc.fit(X_train, y_train)"
   ]
  },
  {
   "cell_type": "code",
   "execution_count": null,
   "id": "2d2b6304",
   "metadata": {},
   "outputs": [],
   "source": [
    "with open('models/2__random_forest_classifier__v0.pkl', 'wb') as f:\n",
    "    pickle.dump(rfc, f)"
   ]
  },
  {
   "cell_type": "markdown",
   "id": "628d52d5",
   "metadata": {},
   "source": [
    "### Model 5 | Gradient Boosting Classifier"
   ]
  },
  {
   "cell_type": "code",
   "execution_count": null,
   "id": "2c0a3008",
   "metadata": {},
   "outputs": [],
   "source": [
    "gbc = GradientBoostingClassifier()\n",
    "gbc.fit(X_train, y_train)"
   ]
  },
  {
   "cell_type": "code",
   "execution_count": 42,
   "id": "d5b64f34",
   "metadata": {},
   "outputs": [],
   "source": [
    "with open('models/2__gradient_boosting_classifier__v0.pkl', 'wb') as f:\n",
    "    pickle.dump(gbc, f)"
   ]
  },
  {
   "cell_type": "markdown",
   "id": "3b1b5bd4",
   "metadata": {},
   "source": [
    "### Model 6 | Passive Agressive Classifier"
   ]
  },
  {
   "cell_type": "code",
   "execution_count": 43,
   "id": "36bb4b3f",
   "metadata": {},
   "outputs": [
    {
     "data": {
      "text/html": [
       "<style>#sk-container-id-4 {color: black;background-color: white;}#sk-container-id-4 pre{padding: 0;}#sk-container-id-4 div.sk-toggleable {background-color: white;}#sk-container-id-4 label.sk-toggleable__label {cursor: pointer;display: block;width: 100%;margin-bottom: 0;padding: 0.3em;box-sizing: border-box;text-align: center;}#sk-container-id-4 label.sk-toggleable__label-arrow:before {content: \"▸\";float: left;margin-right: 0.25em;color: #696969;}#sk-container-id-4 label.sk-toggleable__label-arrow:hover:before {color: black;}#sk-container-id-4 div.sk-estimator:hover label.sk-toggleable__label-arrow:before {color: black;}#sk-container-id-4 div.sk-toggleable__content {max-height: 0;max-width: 0;overflow: hidden;text-align: left;background-color: #f0f8ff;}#sk-container-id-4 div.sk-toggleable__content pre {margin: 0.2em;color: black;border-radius: 0.25em;background-color: #f0f8ff;}#sk-container-id-4 input.sk-toggleable__control:checked~div.sk-toggleable__content {max-height: 200px;max-width: 100%;overflow: auto;}#sk-container-id-4 input.sk-toggleable__control:checked~label.sk-toggleable__label-arrow:before {content: \"▾\";}#sk-container-id-4 div.sk-estimator input.sk-toggleable__control:checked~label.sk-toggleable__label {background-color: #d4ebff;}#sk-container-id-4 div.sk-label input.sk-toggleable__control:checked~label.sk-toggleable__label {background-color: #d4ebff;}#sk-container-id-4 input.sk-hidden--visually {border: 0;clip: rect(1px 1px 1px 1px);clip: rect(1px, 1px, 1px, 1px);height: 1px;margin: -1px;overflow: hidden;padding: 0;position: absolute;width: 1px;}#sk-container-id-4 div.sk-estimator {font-family: monospace;background-color: #f0f8ff;border: 1px dotted black;border-radius: 0.25em;box-sizing: border-box;margin-bottom: 0.5em;}#sk-container-id-4 div.sk-estimator:hover {background-color: #d4ebff;}#sk-container-id-4 div.sk-parallel-item::after {content: \"\";width: 100%;border-bottom: 1px solid gray;flex-grow: 1;}#sk-container-id-4 div.sk-label:hover label.sk-toggleable__label {background-color: #d4ebff;}#sk-container-id-4 div.sk-serial::before {content: \"\";position: absolute;border-left: 1px solid gray;box-sizing: border-box;top: 0;bottom: 0;left: 50%;z-index: 0;}#sk-container-id-4 div.sk-serial {display: flex;flex-direction: column;align-items: center;background-color: white;padding-right: 0.2em;padding-left: 0.2em;position: relative;}#sk-container-id-4 div.sk-item {position: relative;z-index: 1;}#sk-container-id-4 div.sk-parallel {display: flex;align-items: stretch;justify-content: center;background-color: white;position: relative;}#sk-container-id-4 div.sk-item::before, #sk-container-id-4 div.sk-parallel-item::before {content: \"\";position: absolute;border-left: 1px solid gray;box-sizing: border-box;top: 0;bottom: 0;left: 50%;z-index: -1;}#sk-container-id-4 div.sk-parallel-item {display: flex;flex-direction: column;z-index: 1;position: relative;background-color: white;}#sk-container-id-4 div.sk-parallel-item:first-child::after {align-self: flex-end;width: 50%;}#sk-container-id-4 div.sk-parallel-item:last-child::after {align-self: flex-start;width: 50%;}#sk-container-id-4 div.sk-parallel-item:only-child::after {width: 0;}#sk-container-id-4 div.sk-dashed-wrapped {border: 1px dashed gray;margin: 0 0.4em 0.5em 0.4em;box-sizing: border-box;padding-bottom: 0.4em;background-color: white;}#sk-container-id-4 div.sk-label label {font-family: monospace;font-weight: bold;display: inline-block;line-height: 1.2em;}#sk-container-id-4 div.sk-label-container {text-align: center;}#sk-container-id-4 div.sk-container {/* jupyter's `normalize.less` sets `[hidden] { display: none; }` but bootstrap.min.css set `[hidden] { display: none !important; }` so we also need the `!important` here to be able to override the default hidden behavior on the sphinx rendered scikit-learn.org. See: https://github.com/scikit-learn/scikit-learn/issues/21755 */display: inline-block !important;position: relative;}#sk-container-id-4 div.sk-text-repr-fallback {display: none;}</style><div id=\"sk-container-id-4\" class=\"sk-top-container\"><div class=\"sk-text-repr-fallback\"><pre>PassiveAggressiveClassifier(C=2.1215811226877102e-05, max_iter=3000, n_jobs=-1,\n",
       "                            random_state=42, tol=8.168455894760164e-05)</pre><b>In a Jupyter environment, please rerun this cell to show the HTML representation or trust the notebook. <br />On GitHub, the HTML representation is unable to render, please try loading this page with nbviewer.org.</b></div><div class=\"sk-container\" hidden><div class=\"sk-item\"><div class=\"sk-estimator sk-toggleable\"><input class=\"sk-toggleable__control sk-hidden--visually\" id=\"sk-estimator-id-4\" type=\"checkbox\" checked><label for=\"sk-estimator-id-4\" class=\"sk-toggleable__label sk-toggleable__label-arrow\">PassiveAggressiveClassifier</label><div class=\"sk-toggleable__content\"><pre>PassiveAggressiveClassifier(C=2.1215811226877102e-05, max_iter=3000, n_jobs=-1,\n",
       "                            random_state=42, tol=8.168455894760164e-05)</pre></div></div></div></div></div>"
      ],
      "text/plain": [
       "PassiveAggressiveClassifier(C=2.1215811226877102e-05, max_iter=3000, n_jobs=-1,\n",
       "                            random_state=42, tol=8.168455894760164e-05)"
      ]
     },
     "execution_count": 43,
     "metadata": {},
     "output_type": "execute_result"
    }
   ],
   "source": [
    "pac = PassiveAggressiveClassifier(C=2.1215811226877102e-05, \n",
    "                                  max_iter=3000, \n",
    "                                  tol=8.168455894760164e-05, \n",
    "                                  n_jobs=-1, random_state=42)\n",
    "pac.fit(X_train, y_train)"
   ]
  },
  {
   "cell_type": "code",
   "execution_count": 147,
   "id": "5d35cc5d",
   "metadata": {},
   "outputs": [],
   "source": [
    "with open('models/2__passive_agressive_classifier__v2.pkl', 'wb') as f:\n",
    "    pickle.dump(pac, f)"
   ]
  },
  {
   "cell_type": "markdown",
   "id": "797ecff8",
   "metadata": {},
   "source": [
    "### Model 7 | Perceptron"
   ]
  },
  {
   "cell_type": "code",
   "execution_count": 124,
   "id": "e3fd1aca",
   "metadata": {},
   "outputs": [
    {
     "data": {
      "text/html": [
       "<style>#sk-container-id-32 {color: black;background-color: white;}#sk-container-id-32 pre{padding: 0;}#sk-container-id-32 div.sk-toggleable {background-color: white;}#sk-container-id-32 label.sk-toggleable__label {cursor: pointer;display: block;width: 100%;margin-bottom: 0;padding: 0.3em;box-sizing: border-box;text-align: center;}#sk-container-id-32 label.sk-toggleable__label-arrow:before {content: \"▸\";float: left;margin-right: 0.25em;color: #696969;}#sk-container-id-32 label.sk-toggleable__label-arrow:hover:before {color: black;}#sk-container-id-32 div.sk-estimator:hover label.sk-toggleable__label-arrow:before {color: black;}#sk-container-id-32 div.sk-toggleable__content {max-height: 0;max-width: 0;overflow: hidden;text-align: left;background-color: #f0f8ff;}#sk-container-id-32 div.sk-toggleable__content pre {margin: 0.2em;color: black;border-radius: 0.25em;background-color: #f0f8ff;}#sk-container-id-32 input.sk-toggleable__control:checked~div.sk-toggleable__content {max-height: 200px;max-width: 100%;overflow: auto;}#sk-container-id-32 input.sk-toggleable__control:checked~label.sk-toggleable__label-arrow:before {content: \"▾\";}#sk-container-id-32 div.sk-estimator input.sk-toggleable__control:checked~label.sk-toggleable__label {background-color: #d4ebff;}#sk-container-id-32 div.sk-label input.sk-toggleable__control:checked~label.sk-toggleable__label {background-color: #d4ebff;}#sk-container-id-32 input.sk-hidden--visually {border: 0;clip: rect(1px 1px 1px 1px);clip: rect(1px, 1px, 1px, 1px);height: 1px;margin: -1px;overflow: hidden;padding: 0;position: absolute;width: 1px;}#sk-container-id-32 div.sk-estimator {font-family: monospace;background-color: #f0f8ff;border: 1px dotted black;border-radius: 0.25em;box-sizing: border-box;margin-bottom: 0.5em;}#sk-container-id-32 div.sk-estimator:hover {background-color: #d4ebff;}#sk-container-id-32 div.sk-parallel-item::after {content: \"\";width: 100%;border-bottom: 1px solid gray;flex-grow: 1;}#sk-container-id-32 div.sk-label:hover label.sk-toggleable__label {background-color: #d4ebff;}#sk-container-id-32 div.sk-serial::before {content: \"\";position: absolute;border-left: 1px solid gray;box-sizing: border-box;top: 0;bottom: 0;left: 50%;z-index: 0;}#sk-container-id-32 div.sk-serial {display: flex;flex-direction: column;align-items: center;background-color: white;padding-right: 0.2em;padding-left: 0.2em;position: relative;}#sk-container-id-32 div.sk-item {position: relative;z-index: 1;}#sk-container-id-32 div.sk-parallel {display: flex;align-items: stretch;justify-content: center;background-color: white;position: relative;}#sk-container-id-32 div.sk-item::before, #sk-container-id-32 div.sk-parallel-item::before {content: \"\";position: absolute;border-left: 1px solid gray;box-sizing: border-box;top: 0;bottom: 0;left: 50%;z-index: -1;}#sk-container-id-32 div.sk-parallel-item {display: flex;flex-direction: column;z-index: 1;position: relative;background-color: white;}#sk-container-id-32 div.sk-parallel-item:first-child::after {align-self: flex-end;width: 50%;}#sk-container-id-32 div.sk-parallel-item:last-child::after {align-self: flex-start;width: 50%;}#sk-container-id-32 div.sk-parallel-item:only-child::after {width: 0;}#sk-container-id-32 div.sk-dashed-wrapped {border: 1px dashed gray;margin: 0 0.4em 0.5em 0.4em;box-sizing: border-box;padding-bottom: 0.4em;background-color: white;}#sk-container-id-32 div.sk-label label {font-family: monospace;font-weight: bold;display: inline-block;line-height: 1.2em;}#sk-container-id-32 div.sk-label-container {text-align: center;}#sk-container-id-32 div.sk-container {/* jupyter's `normalize.less` sets `[hidden] { display: none; }` but bootstrap.min.css set `[hidden] { display: none !important; }` so we also need the `!important` here to be able to override the default hidden behavior on the sphinx rendered scikit-learn.org. See: https://github.com/scikit-learn/scikit-learn/issues/21755 */display: inline-block !important;position: relative;}#sk-container-id-32 div.sk-text-repr-fallback {display: none;}</style><div id=\"sk-container-id-32\" class=\"sk-top-container\"><div class=\"sk-text-repr-fallback\"><pre>Perceptron(alpha=0.007459343285726546, class_weight=&#x27;balanced&#x27;,\n",
       "           eta0=2.933445395788399, random_state=42, tol=0.45705630998014524)</pre><b>In a Jupyter environment, please rerun this cell to show the HTML representation or trust the notebook. <br />On GitHub, the HTML representation is unable to render, please try loading this page with nbviewer.org.</b></div><div class=\"sk-container\" hidden><div class=\"sk-item\"><div class=\"sk-estimator sk-toggleable\"><input class=\"sk-toggleable__control sk-hidden--visually\" id=\"sk-estimator-id-32\" type=\"checkbox\" checked><label for=\"sk-estimator-id-32\" class=\"sk-toggleable__label sk-toggleable__label-arrow\">Perceptron</label><div class=\"sk-toggleable__content\"><pre>Perceptron(alpha=0.007459343285726546, class_weight=&#x27;balanced&#x27;,\n",
       "           eta0=2.933445395788399, random_state=42, tol=0.45705630998014524)</pre></div></div></div></div></div>"
      ],
      "text/plain": [
       "Perceptron(alpha=0.007459343285726546, class_weight='balanced',\n",
       "           eta0=2.933445395788399, random_state=42, tol=0.45705630998014524)"
      ]
     },
     "execution_count": 124,
     "metadata": {},
     "output_type": "execute_result"
    }
   ],
   "source": [
    "perceptron = Perceptron(alpha=0.007459343285726546, \n",
    "                        tol=0.45705630998014524, \n",
    "                        eta0=2.933445395788399, random_state=42,\n",
    "                        class_weight='balanced')\n",
    "perceptron.fit(X_train, y_train)"
   ]
  },
  {
   "cell_type": "code",
   "execution_count": null,
   "id": "d373887a",
   "metadata": {},
   "outputs": [],
   "source": [
    "with open('models/2__perceptron__v1.pkl', 'wb') as f:\n",
    "    pickle.dump(pac, f)"
   ]
  },
  {
   "cell_type": "markdown",
   "id": "cd7c18ee",
   "metadata": {},
   "source": [
    "### Model 8 | Nearest Centroid "
   ]
  },
  {
   "cell_type": "code",
   "execution_count": 74,
   "id": "b914d9f8",
   "metadata": {},
   "outputs": [
    {
     "data": {
      "text/html": [
       "<style>#sk-container-id-6 {color: black;background-color: white;}#sk-container-id-6 pre{padding: 0;}#sk-container-id-6 div.sk-toggleable {background-color: white;}#sk-container-id-6 label.sk-toggleable__label {cursor: pointer;display: block;width: 100%;margin-bottom: 0;padding: 0.3em;box-sizing: border-box;text-align: center;}#sk-container-id-6 label.sk-toggleable__label-arrow:before {content: \"▸\";float: left;margin-right: 0.25em;color: #696969;}#sk-container-id-6 label.sk-toggleable__label-arrow:hover:before {color: black;}#sk-container-id-6 div.sk-estimator:hover label.sk-toggleable__label-arrow:before {color: black;}#sk-container-id-6 div.sk-toggleable__content {max-height: 0;max-width: 0;overflow: hidden;text-align: left;background-color: #f0f8ff;}#sk-container-id-6 div.sk-toggleable__content pre {margin: 0.2em;color: black;border-radius: 0.25em;background-color: #f0f8ff;}#sk-container-id-6 input.sk-toggleable__control:checked~div.sk-toggleable__content {max-height: 200px;max-width: 100%;overflow: auto;}#sk-container-id-6 input.sk-toggleable__control:checked~label.sk-toggleable__label-arrow:before {content: \"▾\";}#sk-container-id-6 div.sk-estimator input.sk-toggleable__control:checked~label.sk-toggleable__label {background-color: #d4ebff;}#sk-container-id-6 div.sk-label input.sk-toggleable__control:checked~label.sk-toggleable__label {background-color: #d4ebff;}#sk-container-id-6 input.sk-hidden--visually {border: 0;clip: rect(1px 1px 1px 1px);clip: rect(1px, 1px, 1px, 1px);height: 1px;margin: -1px;overflow: hidden;padding: 0;position: absolute;width: 1px;}#sk-container-id-6 div.sk-estimator {font-family: monospace;background-color: #f0f8ff;border: 1px dotted black;border-radius: 0.25em;box-sizing: border-box;margin-bottom: 0.5em;}#sk-container-id-6 div.sk-estimator:hover {background-color: #d4ebff;}#sk-container-id-6 div.sk-parallel-item::after {content: \"\";width: 100%;border-bottom: 1px solid gray;flex-grow: 1;}#sk-container-id-6 div.sk-label:hover label.sk-toggleable__label {background-color: #d4ebff;}#sk-container-id-6 div.sk-serial::before {content: \"\";position: absolute;border-left: 1px solid gray;box-sizing: border-box;top: 0;bottom: 0;left: 50%;z-index: 0;}#sk-container-id-6 div.sk-serial {display: flex;flex-direction: column;align-items: center;background-color: white;padding-right: 0.2em;padding-left: 0.2em;position: relative;}#sk-container-id-6 div.sk-item {position: relative;z-index: 1;}#sk-container-id-6 div.sk-parallel {display: flex;align-items: stretch;justify-content: center;background-color: white;position: relative;}#sk-container-id-6 div.sk-item::before, #sk-container-id-6 div.sk-parallel-item::before {content: \"\";position: absolute;border-left: 1px solid gray;box-sizing: border-box;top: 0;bottom: 0;left: 50%;z-index: -1;}#sk-container-id-6 div.sk-parallel-item {display: flex;flex-direction: column;z-index: 1;position: relative;background-color: white;}#sk-container-id-6 div.sk-parallel-item:first-child::after {align-self: flex-end;width: 50%;}#sk-container-id-6 div.sk-parallel-item:last-child::after {align-self: flex-start;width: 50%;}#sk-container-id-6 div.sk-parallel-item:only-child::after {width: 0;}#sk-container-id-6 div.sk-dashed-wrapped {border: 1px dashed gray;margin: 0 0.4em 0.5em 0.4em;box-sizing: border-box;padding-bottom: 0.4em;background-color: white;}#sk-container-id-6 div.sk-label label {font-family: monospace;font-weight: bold;display: inline-block;line-height: 1.2em;}#sk-container-id-6 div.sk-label-container {text-align: center;}#sk-container-id-6 div.sk-container {/* jupyter's `normalize.less` sets `[hidden] { display: none; }` but bootstrap.min.css set `[hidden] { display: none !important; }` so we also need the `!important` here to be able to override the default hidden behavior on the sphinx rendered scikit-learn.org. See: https://github.com/scikit-learn/scikit-learn/issues/21755 */display: inline-block !important;position: relative;}#sk-container-id-6 div.sk-text-repr-fallback {display: none;}</style><div id=\"sk-container-id-6\" class=\"sk-top-container\"><div class=\"sk-text-repr-fallback\"><pre>NearestCentroid(metric=&#x27;manhattan&#x27;)</pre><b>In a Jupyter environment, please rerun this cell to show the HTML representation or trust the notebook. <br />On GitHub, the HTML representation is unable to render, please try loading this page with nbviewer.org.</b></div><div class=\"sk-container\" hidden><div class=\"sk-item\"><div class=\"sk-estimator sk-toggleable\"><input class=\"sk-toggleable__control sk-hidden--visually\" id=\"sk-estimator-id-6\" type=\"checkbox\" checked><label for=\"sk-estimator-id-6\" class=\"sk-toggleable__label sk-toggleable__label-arrow\">NearestCentroid</label><div class=\"sk-toggleable__content\"><pre>NearestCentroid(metric=&#x27;manhattan&#x27;)</pre></div></div></div></div></div>"
      ],
      "text/plain": [
       "NearestCentroid(metric='manhattan')"
      ]
     },
     "execution_count": 74,
     "metadata": {},
     "output_type": "execute_result"
    }
   ],
   "source": [
    "nc = NearestCentroid(metric='manhattan')\n",
    "nc.fit(X_train, y_train)"
   ]
  },
  {
   "cell_type": "code",
   "execution_count": 75,
   "id": "34bd6875",
   "metadata": {},
   "outputs": [],
   "source": [
    "with open('models/2__nearest_centroid__v1.pkl', 'wb') as f:\n",
    "    pickle.dump(nc, f)"
   ]
  },
  {
   "cell_type": "markdown",
   "id": "da548a6e",
   "metadata": {},
   "source": [
    "### Model 9 | AdaBoostClassifier"
   ]
  },
  {
   "cell_type": "code",
   "execution_count": 138,
   "id": "d364af4f",
   "metadata": {},
   "outputs": [
    {
     "data": {
      "text/html": [
       "<style>#sk-container-id-34 {color: black;background-color: white;}#sk-container-id-34 pre{padding: 0;}#sk-container-id-34 div.sk-toggleable {background-color: white;}#sk-container-id-34 label.sk-toggleable__label {cursor: pointer;display: block;width: 100%;margin-bottom: 0;padding: 0.3em;box-sizing: border-box;text-align: center;}#sk-container-id-34 label.sk-toggleable__label-arrow:before {content: \"▸\";float: left;margin-right: 0.25em;color: #696969;}#sk-container-id-34 label.sk-toggleable__label-arrow:hover:before {color: black;}#sk-container-id-34 div.sk-estimator:hover label.sk-toggleable__label-arrow:before {color: black;}#sk-container-id-34 div.sk-toggleable__content {max-height: 0;max-width: 0;overflow: hidden;text-align: left;background-color: #f0f8ff;}#sk-container-id-34 div.sk-toggleable__content pre {margin: 0.2em;color: black;border-radius: 0.25em;background-color: #f0f8ff;}#sk-container-id-34 input.sk-toggleable__control:checked~div.sk-toggleable__content {max-height: 200px;max-width: 100%;overflow: auto;}#sk-container-id-34 input.sk-toggleable__control:checked~label.sk-toggleable__label-arrow:before {content: \"▾\";}#sk-container-id-34 div.sk-estimator input.sk-toggleable__control:checked~label.sk-toggleable__label {background-color: #d4ebff;}#sk-container-id-34 div.sk-label input.sk-toggleable__control:checked~label.sk-toggleable__label {background-color: #d4ebff;}#sk-container-id-34 input.sk-hidden--visually {border: 0;clip: rect(1px 1px 1px 1px);clip: rect(1px, 1px, 1px, 1px);height: 1px;margin: -1px;overflow: hidden;padding: 0;position: absolute;width: 1px;}#sk-container-id-34 div.sk-estimator {font-family: monospace;background-color: #f0f8ff;border: 1px dotted black;border-radius: 0.25em;box-sizing: border-box;margin-bottom: 0.5em;}#sk-container-id-34 div.sk-estimator:hover {background-color: #d4ebff;}#sk-container-id-34 div.sk-parallel-item::after {content: \"\";width: 100%;border-bottom: 1px solid gray;flex-grow: 1;}#sk-container-id-34 div.sk-label:hover label.sk-toggleable__label {background-color: #d4ebff;}#sk-container-id-34 div.sk-serial::before {content: \"\";position: absolute;border-left: 1px solid gray;box-sizing: border-box;top: 0;bottom: 0;left: 50%;z-index: 0;}#sk-container-id-34 div.sk-serial {display: flex;flex-direction: column;align-items: center;background-color: white;padding-right: 0.2em;padding-left: 0.2em;position: relative;}#sk-container-id-34 div.sk-item {position: relative;z-index: 1;}#sk-container-id-34 div.sk-parallel {display: flex;align-items: stretch;justify-content: center;background-color: white;position: relative;}#sk-container-id-34 div.sk-item::before, #sk-container-id-34 div.sk-parallel-item::before {content: \"\";position: absolute;border-left: 1px solid gray;box-sizing: border-box;top: 0;bottom: 0;left: 50%;z-index: -1;}#sk-container-id-34 div.sk-parallel-item {display: flex;flex-direction: column;z-index: 1;position: relative;background-color: white;}#sk-container-id-34 div.sk-parallel-item:first-child::after {align-self: flex-end;width: 50%;}#sk-container-id-34 div.sk-parallel-item:last-child::after {align-self: flex-start;width: 50%;}#sk-container-id-34 div.sk-parallel-item:only-child::after {width: 0;}#sk-container-id-34 div.sk-dashed-wrapped {border: 1px dashed gray;margin: 0 0.4em 0.5em 0.4em;box-sizing: border-box;padding-bottom: 0.4em;background-color: white;}#sk-container-id-34 div.sk-label label {font-family: monospace;font-weight: bold;display: inline-block;line-height: 1.2em;}#sk-container-id-34 div.sk-label-container {text-align: center;}#sk-container-id-34 div.sk-container {/* jupyter's `normalize.less` sets `[hidden] { display: none; }` but bootstrap.min.css set `[hidden] { display: none !important; }` so we also need the `!important` here to be able to override the default hidden behavior on the sphinx rendered scikit-learn.org. See: https://github.com/scikit-learn/scikit-learn/issues/21755 */display: inline-block !important;position: relative;}#sk-container-id-34 div.sk-text-repr-fallback {display: none;}</style><div id=\"sk-container-id-34\" class=\"sk-top-container\"><div class=\"sk-text-repr-fallback\"><pre>AdaBoostClassifier(algorithm=&#x27;SAMME&#x27;)</pre><b>In a Jupyter environment, please rerun this cell to show the HTML representation or trust the notebook. <br />On GitHub, the HTML representation is unable to render, please try loading this page with nbviewer.org.</b></div><div class=\"sk-container\" hidden><div class=\"sk-item\"><div class=\"sk-estimator sk-toggleable\"><input class=\"sk-toggleable__control sk-hidden--visually\" id=\"sk-estimator-id-34\" type=\"checkbox\" checked><label for=\"sk-estimator-id-34\" class=\"sk-toggleable__label sk-toggleable__label-arrow\">AdaBoostClassifier</label><div class=\"sk-toggleable__content\"><pre>AdaBoostClassifier(algorithm=&#x27;SAMME&#x27;)</pre></div></div></div></div></div>"
      ],
      "text/plain": [
       "AdaBoostClassifier(algorithm='SAMME')"
      ]
     },
     "execution_count": 138,
     "metadata": {},
     "output_type": "execute_result"
    }
   ],
   "source": [
    "abc = AdaBoostClassifier(algorithm='SAMME')\n",
    "abc.fit(X_train, y_train)"
   ]
  },
  {
   "cell_type": "markdown",
   "id": "e40d2081",
   "metadata": {},
   "source": [
    "<hr style=\"border-color:black\">\n",
    "\n",
    "# Model Evaluation\n",
    "\n"
   ]
  },
  {
   "cell_type": "code",
   "execution_count": 27,
   "id": "f194dc0c",
   "metadata": {},
   "outputs": [],
   "source": [
    "import matplotlib.pyplot as plt\n",
    "from sklearn import metrics\n",
    "from sklearn.metrics import ConfusionMatrixDisplay\n",
    "import sklearn.metrics"
   ]
  },
  {
   "cell_type": "code",
   "execution_count": 28,
   "id": "bb3f202d",
   "metadata": {},
   "outputs": [],
   "source": [
    "def get_scores(y_pred, model_name):\n",
    "    df_scores = pd.DataFrame.from_dict(data={\n",
    "    'Accuracy': [metrics.accuracy_score(y_test, y_pred)],\n",
    "    'Precision': [metrics.precision_score(y_test, y_pred)],\n",
    "    'Recall': [metrics.recall_score(y_test, y_pred)],\n",
    "    'F1 Score': [metrics.f1_score(y_test, y_pred)],\n",
    "    'AUC_ROC': [metrics.roc_auc_score(y_test, y_pred)]\n",
    "    }, orient='index')\n",
    "    df_scores = df_scores.rename(columns={0: model_name})\n",
    "    return df_scores"
   ]
  },
  {
   "cell_type": "markdown",
   "id": "c980a675",
   "metadata": {},
   "source": [
    "### Model 1 | Logistic Regression"
   ]
  },
  {
   "cell_type": "code",
   "execution_count": 141,
   "id": "5f82d07e",
   "metadata": {},
   "outputs": [
    {
     "data": {
      "text/html": [
       "<div>\n",
       "<style scoped>\n",
       "    .dataframe tbody tr th:only-of-type {\n",
       "        vertical-align: middle;\n",
       "    }\n",
       "\n",
       "    .dataframe tbody tr th {\n",
       "        vertical-align: top;\n",
       "    }\n",
       "\n",
       "    .dataframe thead th {\n",
       "        text-align: right;\n",
       "    }\n",
       "</style>\n",
       "<table border=\"1\" class=\"dataframe\">\n",
       "  <thead>\n",
       "    <tr style=\"text-align: right;\">\n",
       "      <th></th>\n",
       "      <th>Logistic Regression</th>\n",
       "    </tr>\n",
       "  </thead>\n",
       "  <tbody>\n",
       "    <tr>\n",
       "      <th>Accuracy</th>\n",
       "      <td>0.820801</td>\n",
       "    </tr>\n",
       "    <tr>\n",
       "      <th>Precision</th>\n",
       "      <td>0.325611</td>\n",
       "    </tr>\n",
       "    <tr>\n",
       "      <th>Recall</th>\n",
       "      <td>0.093843</td>\n",
       "    </tr>\n",
       "    <tr>\n",
       "      <th>F1 Score</th>\n",
       "      <td>0.145695</td>\n",
       "    </tr>\n",
       "    <tr>\n",
       "      <th>AUC_ROC</th>\n",
       "      <td>0.528019</td>\n",
       "    </tr>\n",
       "  </tbody>\n",
       "</table>\n",
       "</div>"
      ],
      "text/plain": [
       "           Logistic Regression\n",
       "Accuracy              0.820801\n",
       "Precision             0.325611\n",
       "Recall                0.093843\n",
       "F1 Score              0.145695\n",
       "AUC_ROC               0.528019"
      ]
     },
     "execution_count": 141,
     "metadata": {},
     "output_type": "execute_result"
    }
   ],
   "source": [
    "y_predicted_logreg = logreg.predict(X_test)\n",
    "get_scores(y_predicted_logreg, 'Logistic Regression')"
   ]
  },
  {
   "cell_type": "code",
   "execution_count": 142,
   "id": "12b245e4",
   "metadata": {},
   "outputs": [
    {
     "data": {
      "image/png": "[encoded data removed]",
      "text/plain": [
       "<Figure size 640x480 with 2 Axes>"
      ]
     },
     "metadata": {},
     "output_type": "display_data"
    }
   ],
   "source": [
    "ConfusionMatrixDisplay.from_predictions(y_test, y_predicted_logreg, \n",
    "                                        im_kw={'cmap':'GnBu'}, \n",
    "                                        normalize='true')\n",
    "plt.show()"
   ]
  },
  {
   "cell_type": "markdown",
   "id": "236ea141",
   "metadata": {},
   "source": [
    "### Model 2 | Support Vector Machines"
   ]
  },
  {
   "cell_type": "code",
   "execution_count": 130,
   "id": "40f59133",
   "metadata": {},
   "outputs": [
    {
     "data": {
      "text/html": [
       "<div>\n",
       "<style scoped>\n",
       "    .dataframe tbody tr th:only-of-type {\n",
       "        vertical-align: middle;\n",
       "    }\n",
       "\n",
       "    .dataframe tbody tr th {\n",
       "        vertical-align: top;\n",
       "    }\n",
       "\n",
       "    .dataframe thead th {\n",
       "        text-align: right;\n",
       "    }\n",
       "</style>\n",
       "<table border=\"1\" class=\"dataframe\">\n",
       "  <thead>\n",
       "    <tr style=\"text-align: right;\">\n",
       "      <th></th>\n",
       "      <th>Linear Support Vector Machines Classifier</th>\n",
       "    </tr>\n",
       "  </thead>\n",
       "  <tbody>\n",
       "    <tr>\n",
       "      <th>Accuracy</th>\n",
       "      <td>0.569469</td>\n",
       "    </tr>\n",
       "    <tr>\n",
       "      <th>Precision</th>\n",
       "      <td>0.307968</td>\n",
       "    </tr>\n",
       "    <tr>\n",
       "      <th>Recall</th>\n",
       "      <td>0.996354</td>\n",
       "    </tr>\n",
       "    <tr>\n",
       "      <th>F1 Score</th>\n",
       "      <td>0.470506</td>\n",
       "    </tr>\n",
       "    <tr>\n",
       "      <th>AUC_ROC</th>\n",
       "      <td>0.732198</td>\n",
       "    </tr>\n",
       "  </tbody>\n",
       "</table>\n",
       "</div>"
      ],
      "text/plain": [
       "           Linear Support Vector Machines Classifier\n",
       "Accuracy                                    0.569469\n",
       "Precision                                   0.307968\n",
       "Recall                                      0.996354\n",
       "F1 Score                                    0.470506\n",
       "AUC_ROC                                     0.732198"
      ]
     },
     "execution_count": 130,
     "metadata": {},
     "output_type": "execute_result"
    }
   ],
   "source": [
    "y_predicted_lsvc = lsvc.predict(X_test)\n",
    "get_scores(y_predicted_lsvc, 'Linear Support Vector Machines Classifier')"
   ]
  },
  {
   "cell_type": "code",
   "execution_count": 132,
   "id": "4369b8df",
   "metadata": {},
   "outputs": [
    {
     "data": {
      "image/png": "[encoded data removed]",
      "text/plain": [
       "<Figure size 640x480 with 2 Axes>"
      ]
     },
     "metadata": {},
     "output_type": "display_data"
    }
   ],
   "source": [
    "ConfusionMatrixDisplay.from_predictions(y_test, y_predicted_lsvc, \n",
    "                                        im_kw={'cmap':'GnBu'}, \n",
    "                                        normalize='true')\n",
    "plt.show()"
   ]
  },
  {
   "cell_type": "markdown",
   "id": "cec88882",
   "metadata": {},
   "source": [
    "### Model 3 | Stochastic Gradient Descent"
   ]
  },
  {
   "cell_type": "code",
   "execution_count": 144,
   "id": "123e7bbd",
   "metadata": {},
   "outputs": [
    {
     "data": {
      "text/html": [
       "<div>\n",
       "<style scoped>\n",
       "    .dataframe tbody tr th:only-of-type {\n",
       "        vertical-align: middle;\n",
       "    }\n",
       "\n",
       "    .dataframe tbody tr th {\n",
       "        vertical-align: top;\n",
       "    }\n",
       "\n",
       "    .dataframe thead th {\n",
       "        text-align: right;\n",
       "    }\n",
       "</style>\n",
       "<table border=\"1\" class=\"dataframe\">\n",
       "  <thead>\n",
       "    <tr style=\"text-align: right;\">\n",
       "      <th></th>\n",
       "      <th>Stochastic Gradient Descent Classifier</th>\n",
       "    </tr>\n",
       "  </thead>\n",
       "  <tbody>\n",
       "    <tr>\n",
       "      <th>Accuracy</th>\n",
       "      <td>0.838407</td>\n",
       "    </tr>\n",
       "    <tr>\n",
       "      <th>Precision</th>\n",
       "      <td>0.632258</td>\n",
       "    </tr>\n",
       "    <tr>\n",
       "      <th>Recall</th>\n",
       "      <td>0.018175</td>\n",
       "    </tr>\n",
       "    <tr>\n",
       "      <th>F1 Score</th>\n",
       "      <td>0.035334</td>\n",
       "    </tr>\n",
       "    <tr>\n",
       "      <th>AUC_ROC</th>\n",
       "      <td>0.508059</td>\n",
       "    </tr>\n",
       "  </tbody>\n",
       "</table>\n",
       "</div>"
      ],
      "text/plain": [
       "           Stochastic Gradient Descent Classifier\n",
       "Accuracy                                 0.838407\n",
       "Precision                                0.632258\n",
       "Recall                                   0.018175\n",
       "F1 Score                                 0.035334\n",
       "AUC_ROC                                  0.508059"
      ]
     },
     "execution_count": 144,
     "metadata": {},
     "output_type": "execute_result"
    }
   ],
   "source": [
    "y_predicted_sgdc = sgdc.predict(X_test)\n",
    "get_scores(y_predicted_sgdc, 'Stochastic Gradient Descent Classifier')"
   ]
  },
  {
   "cell_type": "code",
   "execution_count": 145,
   "id": "7ad6816c",
   "metadata": {},
   "outputs": [
    {
     "data": {
      "image/png": "[encoded data removed]",
      "text/plain": [
       "<Figure size 640x480 with 2 Axes>"
      ]
     },
     "metadata": {},
     "output_type": "display_data"
    }
   ],
   "source": [
    "ConfusionMatrixDisplay.from_predictions(y_test, y_predicted_sgdc, \n",
    "                                        im_kw={'cmap':'GnBu'}, \n",
    "                                        normalize='true')\n",
    "plt.show()"
   ]
  },
  {
   "cell_type": "markdown",
   "id": "64d76266",
   "metadata": {},
   "source": [
    "### Model 4 | Forests of randomized trees"
   ]
  },
  {
   "cell_type": "code",
   "execution_count": 47,
   "id": "1d7bd0ef",
   "metadata": {},
   "outputs": [
    {
     "data": {
      "text/html": [
       "<div>\n",
       "<style scoped>\n",
       "    .dataframe tbody tr th:only-of-type {\n",
       "        vertical-align: middle;\n",
       "    }\n",
       "\n",
       "    .dataframe tbody tr th {\n",
       "        vertical-align: top;\n",
       "    }\n",
       "\n",
       "    .dataframe thead th {\n",
       "        text-align: right;\n",
       "    }\n",
       "</style>\n",
       "<table border=\"1\" class=\"dataframe\">\n",
       "  <thead>\n",
       "    <tr style=\"text-align: right;\">\n",
       "      <th></th>\n",
       "      <th>Random Forest Classifier</th>\n",
       "    </tr>\n",
       "  </thead>\n",
       "  <tbody>\n",
       "    <tr>\n",
       "      <th>Accuracy</th>\n",
       "      <td>0.812061</td>\n",
       "    </tr>\n",
       "    <tr>\n",
       "      <th>Precision</th>\n",
       "      <td>0.975610</td>\n",
       "    </tr>\n",
       "    <tr>\n",
       "      <th>Recall</th>\n",
       "      <td>0.021607</td>\n",
       "    </tr>\n",
       "    <tr>\n",
       "      <th>F1 Score</th>\n",
       "      <td>0.042278</td>\n",
       "    </tr>\n",
       "    <tr>\n",
       "      <th>AUC_ROC</th>\n",
       "      <td>0.510739</td>\n",
       "    </tr>\n",
       "  </tbody>\n",
       "</table>\n",
       "</div>"
      ],
      "text/plain": [
       "           Random Forest Classifier\n",
       "Accuracy                   0.812061\n",
       "Precision                  0.975610\n",
       "Recall                     0.021607\n",
       "F1 Score                   0.042278\n",
       "AUC_ROC                    0.510739"
      ]
     },
     "execution_count": 47,
     "metadata": {},
     "output_type": "execute_result"
    }
   ],
   "source": [
    "y_predicted_rfc = rfc.predict(X_test)\n",
    "get_scores(y_predicted_rfc, 'Random Forest Classifier')"
   ]
  },
  {
   "cell_type": "code",
   "execution_count": 48,
   "id": "abb9d10a",
   "metadata": {},
   "outputs": [
    {
     "data": {
      "image/png": "[encoded data removed]",
      "text/plain": [
       "<Figure size 640x480 with 2 Axes>"
      ]
     },
     "metadata": {},
     "output_type": "display_data"
    }
   ],
   "source": [
    "ConfusionMatrixDisplay.from_predictions(y_test, y_predicted_rfc, \n",
    "                                        im_kw={'cmap':'GnBu'}, \n",
    "                                        normalize='true')\n",
    "plt.show()"
   ]
  },
  {
   "cell_type": "markdown",
   "id": "ca9e9740",
   "metadata": {},
   "source": [
    "### Model 5 | Gradient Boosting Classifier"
   ]
  },
  {
   "cell_type": "code",
   "execution_count": 52,
   "id": "b3278cfc",
   "metadata": {},
   "outputs": [
    {
     "data": {
      "text/html": [
       "<div>\n",
       "<style scoped>\n",
       "    .dataframe tbody tr th:only-of-type {\n",
       "        vertical-align: middle;\n",
       "    }\n",
       "\n",
       "    .dataframe tbody tr th {\n",
       "        vertical-align: top;\n",
       "    }\n",
       "\n",
       "    .dataframe thead th {\n",
       "        text-align: right;\n",
       "    }\n",
       "</style>\n",
       "<table border=\"1\" class=\"dataframe\">\n",
       "  <thead>\n",
       "    <tr style=\"text-align: right;\">\n",
       "      <th></th>\n",
       "      <th>Gradient Boosting Classifier</th>\n",
       "    </tr>\n",
       "  </thead>\n",
       "  <tbody>\n",
       "    <tr>\n",
       "      <th>Accuracy</th>\n",
       "      <td>0.837138</td>\n",
       "    </tr>\n",
       "    <tr>\n",
       "      <th>Precision</th>\n",
       "      <td>0.454545</td>\n",
       "    </tr>\n",
       "    <tr>\n",
       "      <th>Recall</th>\n",
       "      <td>0.000927</td>\n",
       "    </tr>\n",
       "    <tr>\n",
       "      <th>F1 Score</th>\n",
       "      <td>0.001851</td>\n",
       "    </tr>\n",
       "    <tr>\n",
       "      <th>AUC_ROC</th>\n",
       "      <td>0.500355</td>\n",
       "    </tr>\n",
       "  </tbody>\n",
       "</table>\n",
       "</div>"
      ],
      "text/plain": [
       "           Gradient Boosting Classifier\n",
       "Accuracy                       0.837138\n",
       "Precision                      0.454545\n",
       "Recall                         0.000927\n",
       "F1 Score                       0.001851\n",
       "AUC_ROC                        0.500355"
      ]
     },
     "execution_count": 52,
     "metadata": {},
     "output_type": "execute_result"
    }
   ],
   "source": [
    "y_predicted_gbc = gbc.predict(X_test)\n",
    "get_scores(y_predicted_gbc, 'Gradient Boosting Classifier')"
   ]
  },
  {
   "cell_type": "code",
   "execution_count": 53,
   "id": "c8892dae",
   "metadata": {},
   "outputs": [
    {
     "data": {
      "image/png": "[encoded data removed]",
      "text/plain": [
       "<Figure size 640x480 with 2 Axes>"
      ]
     },
     "metadata": {},
     "output_type": "display_data"
    }
   ],
   "source": [
    "ConfusionMatrixDisplay.from_predictions(y_test, y_predicted_gbc, \n",
    "                                        im_kw={'cmap':'GnBu'}, \n",
    "                                        normalize='true')\n",
    "plt.show()"
   ]
  },
  {
   "cell_type": "markdown",
   "id": "f851975d",
   "metadata": {},
   "source": [
    "### Model 6 | Passive Agressive Classifier"
   ]
  },
  {
   "cell_type": "code",
   "execution_count": 44,
   "id": "772fbc9f",
   "metadata": {},
   "outputs": [
    {
     "data": {
      "text/html": [
       "<div>\n",
       "<style scoped>\n",
       "    .dataframe tbody tr th:only-of-type {\n",
       "        vertical-align: middle;\n",
       "    }\n",
       "\n",
       "    .dataframe tbody tr th {\n",
       "        vertical-align: top;\n",
       "    }\n",
       "\n",
       "    .dataframe thead th {\n",
       "        text-align: right;\n",
       "    }\n",
       "</style>\n",
       "<table border=\"1\" class=\"dataframe\">\n",
       "  <thead>\n",
       "    <tr style=\"text-align: right;\">\n",
       "      <th></th>\n",
       "      <th>Passive Agressive Classifier</th>\n",
       "    </tr>\n",
       "  </thead>\n",
       "  <tbody>\n",
       "    <tr>\n",
       "      <th>Accuracy</th>\n",
       "      <td>0.836534</td>\n",
       "    </tr>\n",
       "    <tr>\n",
       "      <th>Precision</th>\n",
       "      <td>0.322034</td>\n",
       "    </tr>\n",
       "    <tr>\n",
       "      <th>Recall</th>\n",
       "      <td>0.003524</td>\n",
       "    </tr>\n",
       "    <tr>\n",
       "      <th>F1 Score</th>\n",
       "      <td>0.006971</td>\n",
       "    </tr>\n",
       "    <tr>\n",
       "      <th>AUC_ROC</th>\n",
       "      <td>0.501040</td>\n",
       "    </tr>\n",
       "  </tbody>\n",
       "</table>\n",
       "</div>"
      ],
      "text/plain": [
       "           Passive Agressive Classifier\n",
       "Accuracy                       0.836534\n",
       "Precision                      0.322034\n",
       "Recall                         0.003524\n",
       "F1 Score                       0.006971\n",
       "AUC_ROC                        0.501040"
      ]
     },
     "execution_count": 44,
     "metadata": {},
     "output_type": "execute_result"
    }
   ],
   "source": [
    "y_predicted_pac = pac.predict(X_test)\n",
    "get_scores(y_predicted_pac, 'Passive Agressive Classifier')"
   ]
  },
  {
   "cell_type": "code",
   "execution_count": 45,
   "id": "a354a96d",
   "metadata": {},
   "outputs": [
    {
     "data": {
      "image/png": "[encoded data removed]",
      "text/plain": [
       "<Figure size 640x480 with 2 Axes>"
      ]
     },
     "metadata": {},
     "output_type": "display_data"
    }
   ],
   "source": [
    "ConfusionMatrixDisplay.from_predictions(y_test, y_predicted_pac, \n",
    "                                        im_kw={'cmap':'GnBu'}, \n",
    "                                        normalize='true')\n",
    "plt.show()"
   ]
  },
  {
   "cell_type": "markdown",
   "id": "f4256b7c",
   "metadata": {},
   "source": [
    "### Model 7 | Perceptron "
   ]
  },
  {
   "cell_type": "code",
   "execution_count": 125,
   "id": "2db18c0a",
   "metadata": {},
   "outputs": [
    {
     "data": {
      "text/html": [
       "<div>\n",
       "<style scoped>\n",
       "    .dataframe tbody tr th:only-of-type {\n",
       "        vertical-align: middle;\n",
       "    }\n",
       "\n",
       "    .dataframe tbody tr th {\n",
       "        vertical-align: top;\n",
       "    }\n",
       "\n",
       "    .dataframe thead th {\n",
       "        text-align: right;\n",
       "    }\n",
       "</style>\n",
       "<table border=\"1\" class=\"dataframe\">\n",
       "  <thead>\n",
       "    <tr style=\"text-align: right;\">\n",
       "      <th></th>\n",
       "      <th>Perceptron</th>\n",
       "    </tr>\n",
       "  </thead>\n",
       "  <tbody>\n",
       "    <tr>\n",
       "      <th>Accuracy</th>\n",
       "      <td>0.838316</td>\n",
       "    </tr>\n",
       "    <tr>\n",
       "      <th>Precision</th>\n",
       "      <td>0.675926</td>\n",
       "    </tr>\n",
       "    <tr>\n",
       "      <th>Recall</th>\n",
       "      <td>0.013539</td>\n",
       "    </tr>\n",
       "    <tr>\n",
       "      <th>F1 Score</th>\n",
       "      <td>0.026545</td>\n",
       "    </tr>\n",
       "    <tr>\n",
       "      <th>AUC_ROC</th>\n",
       "      <td>0.506138</td>\n",
       "    </tr>\n",
       "  </tbody>\n",
       "</table>\n",
       "</div>"
      ],
      "text/plain": [
       "           Perceptron\n",
       "Accuracy     0.838316\n",
       "Precision    0.675926\n",
       "Recall       0.013539\n",
       "F1 Score     0.026545\n",
       "AUC_ROC      0.506138"
      ]
     },
     "execution_count": 125,
     "metadata": {},
     "output_type": "execute_result"
    }
   ],
   "source": [
    "y_predicted_p = perceptron.predict(X_test)\n",
    "get_scores(y_predicted_p, 'Perceptron')"
   ]
  },
  {
   "cell_type": "code",
   "execution_count": 126,
   "id": "be9027f3",
   "metadata": {},
   "outputs": [
    {
     "data": {
      "image/png": "[encoded data removed]",
      "text/plain": [
       "<Figure size 640x480 with 2 Axes>"
      ]
     },
     "metadata": {},
     "output_type": "display_data"
    }
   ],
   "source": [
    "ConfusionMatrixDisplay.from_predictions(y_test, y_predicted_p, \n",
    "                                        im_kw={'cmap':'GnBu'}, \n",
    "                                        normalize='true')\n",
    "plt.show()"
   ]
  },
  {
   "cell_type": "markdown",
   "id": "bf1117d4",
   "metadata": {},
   "source": [
    "### Model 8 | Nearest Centroid"
   ]
  },
  {
   "cell_type": "code",
   "execution_count": 72,
   "id": "9736f2ed",
   "metadata": {},
   "outputs": [
    {
     "data": {
      "text/html": [
       "<div>\n",
       "<style scoped>\n",
       "    .dataframe tbody tr th:only-of-type {\n",
       "        vertical-align: middle;\n",
       "    }\n",
       "\n",
       "    .dataframe tbody tr th {\n",
       "        vertical-align: top;\n",
       "    }\n",
       "\n",
       "    .dataframe thead th {\n",
       "        text-align: right;\n",
       "    }\n",
       "</style>\n",
       "<table border=\"1\" class=\"dataframe\">\n",
       "  <thead>\n",
       "    <tr style=\"text-align: right;\">\n",
       "      <th></th>\n",
       "      <th>Nearest Centroid</th>\n",
       "    </tr>\n",
       "  </thead>\n",
       "  <tbody>\n",
       "    <tr>\n",
       "      <th>Accuracy</th>\n",
       "      <td>0.764299</td>\n",
       "    </tr>\n",
       "    <tr>\n",
       "      <th>Precision</th>\n",
       "      <td>0.340936</td>\n",
       "    </tr>\n",
       "    <tr>\n",
       "      <th>Recall</th>\n",
       "      <td>0.479599</td>\n",
       "    </tr>\n",
       "    <tr>\n",
       "      <th>F1 Score</th>\n",
       "      <td>0.398551</td>\n",
       "    </tr>\n",
       "    <tr>\n",
       "      <th>AUC_ROC</th>\n",
       "      <td>0.649637</td>\n",
       "    </tr>\n",
       "  </tbody>\n",
       "</table>\n",
       "</div>"
      ],
      "text/plain": [
       "           Nearest Centroid\n",
       "Accuracy           0.764299\n",
       "Precision          0.340936\n",
       "Recall             0.479599\n",
       "F1 Score           0.398551\n",
       "AUC_ROC            0.649637"
      ]
     },
     "execution_count": 72,
     "metadata": {},
     "output_type": "execute_result"
    }
   ],
   "source": [
    "y_predicted_nc = nc.predict(X_test)\n",
    "get_scores(y_predicted_nc, 'Nearest Centroid')"
   ]
  },
  {
   "cell_type": "code",
   "execution_count": 73,
   "id": "32298e0c",
   "metadata": {},
   "outputs": [
    {
     "data": {
      "image/png": "[encoded data removed]",
      "text/plain": [
       "<Figure size 640x480 with 2 Axes>"
      ]
     },
     "metadata": {},
     "output_type": "display_data"
    }
   ],
   "source": [
    "ConfusionMatrixDisplay.from_predictions(y_test, y_predicted_nc, \n",
    "                                        im_kw={'cmap':'GnBu'}, \n",
    "                                        normalize='true')\n",
    "plt.show()"
   ]
  },
  {
   "cell_type": "code",
   "execution_count": 139,
   "id": "e751bf98",
   "metadata": {},
   "outputs": [
    {
     "data": {
      "text/html": [
       "<div>\n",
       "<style scoped>\n",
       "    .dataframe tbody tr th:only-of-type {\n",
       "        vertical-align: middle;\n",
       "    }\n",
       "\n",
       "    .dataframe tbody tr th {\n",
       "        vertical-align: top;\n",
       "    }\n",
       "\n",
       "    .dataframe thead th {\n",
       "        text-align: right;\n",
       "    }\n",
       "</style>\n",
       "<table border=\"1\" class=\"dataframe\">\n",
       "  <thead>\n",
       "    <tr style=\"text-align: right;\">\n",
       "      <th></th>\n",
       "      <th>AdaBoost Classifier</th>\n",
       "    </tr>\n",
       "  </thead>\n",
       "  <tbody>\n",
       "    <tr>\n",
       "      <th>Accuracy</th>\n",
       "      <td>0.836323</td>\n",
       "    </tr>\n",
       "    <tr>\n",
       "      <th>Precision</th>\n",
       "      <td>0.453642</td>\n",
       "    </tr>\n",
       "    <tr>\n",
       "      <th>Recall</th>\n",
       "      <td>0.025408</td>\n",
       "    </tr>\n",
       "    <tr>\n",
       "      <th>F1 Score</th>\n",
       "      <td>0.048121</td>\n",
       "    </tr>\n",
       "    <tr>\n",
       "      <th>AUC_ROC</th>\n",
       "      <td>0.509728</td>\n",
       "    </tr>\n",
       "  </tbody>\n",
       "</table>\n",
       "</div>"
      ],
      "text/plain": [
       "           AdaBoost Classifier\n",
       "Accuracy              0.836323\n",
       "Precision             0.453642\n",
       "Recall                0.025408\n",
       "F1 Score              0.048121\n",
       "AUC_ROC               0.509728"
      ]
     },
     "execution_count": 139,
     "metadata": {},
     "output_type": "execute_result"
    }
   ],
   "source": [
    "y_predicted_abc = abc.predict(X_test)\n",
    "get_scores(y_predicted_abc, 'AdaBoost Classifier')"
   ]
  },
  {
   "cell_type": "code",
   "execution_count": 140,
   "id": "2bb84ac3",
   "metadata": {},
   "outputs": [
    {
     "data": {
      "image/png": "[encoded data removed]",
      "text/plain": [
       "<Figure size 640x480 with 2 Axes>"
      ]
     },
     "metadata": {},
     "output_type": "display_data"
    }
   ],
   "source": [
    "ConfusionMatrixDisplay.from_predictions(y_test, y_predicted_abc, \n",
    "                                        im_kw={'cmap':'GnBu'}, \n",
    "                                        normalize='true')\n",
    "plt.show()"
   ]
  },
  {
   "cell_type": "markdown",
   "id": "35c7205a",
   "metadata": {},
   "source": [
    "# Hyperparameter Tuning"
   ]
  },
  {
   "cell_type": "code",
   "execution_count": 99,
   "id": "f18ebfd9",
   "metadata": {},
   "outputs": [],
   "source": [
    "from sklearn.model_selection import RandomizedSearchCV, GridSearchCV\n",
    "from scipy.stats import loguniform"
   ]
  },
  {
   "cell_type": "markdown",
   "id": "0e48c634",
   "metadata": {},
   "source": [
    "#### Nearest Centroid"
   ]
  },
  {
   "cell_type": "code",
   "execution_count": 79,
   "id": "739eb1b3",
   "metadata": {},
   "outputs": [],
   "source": [
    "clf = NearestCentroid()\n",
    "params = {\n",
    "    'metric': ['cosine', 'correlation', 'minkowski', 'yule', 'braycurtis', 'sokalmichener', 'kulsinski', \n",
    "               'matching', 'canberra', 'sokalsneath', 'russellrao', 'rogerstanimoto', \n",
    "               'sqeuclidean', 'euclidean', 'dice', 'chebyshev', 'hamming', 'jaccard']\n",
    "}\n",
    "search = GridSearchCV(clf, params, n_jobs=-1)"
   ]
  },
  {
   "cell_type": "code",
   "execution_count": 80,
   "id": "78f11e8e",
   "metadata": {},
   "outputs": [
    {
     "name": "stdout",
     "output_type": "stream",
     "text": [
      "Best hyperparameters: {'metric': 'canberra'}\n",
      "Accuracy score: 0.5840100826749691\n"
     ]
    }
   ],
   "source": [
    "search.fit(X_train, y_train)\n",
    "print(\"Best hyperparameters:\", search.best_params_)\n",
    "print(\"Accuracy score:\", search.best_score_)"
   ]
  },
  {
   "cell_type": "markdown",
   "id": "5e6f7747",
   "metadata": {},
   "source": [
    "#### Perceptron"
   ]
  },
  {
   "cell_type": "code",
   "execution_count": 101,
   "id": "e31e4e68",
   "metadata": {},
   "outputs": [],
   "source": [
    "clf = Perceptron()\n",
    "params = {\n",
    "    'alpha': loguniform(0.0001, 10),\n",
    "    'tol': loguniform(0.0001, 10),\n",
    "    'eta0': loguniform(0.0001, 5)\n",
    "}\n",
    "search = RandomizedSearchCV(\n",
    "    clf,\n",
    "    params, \n",
    "    n_iter=10, \n",
    "    cv=5, \n",
    "    n_jobs=-1, \n",
    "    random_state=42\n",
    ")"
   ]
  },
  {
   "cell_type": "code",
   "execution_count": 102,
   "id": "dcdb5375",
   "metadata": {},
   "outputs": [
    {
     "name": "stdout",
     "output_type": "stream",
     "text": [
      "Best hyperparameters: {'alpha': 0.007459343285726546, 'eta0': 2.933445395788399, 'tol': 0.45705630998014524}\n",
      "Accuracy score: 0.6412241189028943\n"
     ]
    }
   ],
   "source": [
    "search.fit(X_train, y_train)\n",
    "print(\"Best hyperparameters:\", search.best_params_)\n",
    "print(\"Accuracy score:\", search.best_score_)"
   ]
  },
  {
   "cell_type": "markdown",
   "id": "f19e5464",
   "metadata": {},
   "source": [
    "#### Passive Agressive Classifier"
   ]
  },
  {
   "cell_type": "code",
   "execution_count": 36,
   "id": "cf2b4d7c",
   "metadata": {},
   "outputs": [],
   "source": [
    "clf = PassiveAggressiveClassifier()\n",
    "params = {\n",
    "    'C': loguniform(1e-5, 100),\n",
    "    'max_iter': [1000, 2000, 3000],\n",
    "    'tol': loguniform(1e-5, 1e-3),\n",
    "}\n",
    "search = RandomizedSearchCV(\n",
    "    clf,\n",
    "    params, \n",
    "    n_iter=10, \n",
    "    cv=5, \n",
    "    n_jobs=-1, \n",
    "    random_state=42\n",
    ")"
   ]
  },
  {
   "cell_type": "code",
   "execution_count": 45,
   "id": "44d29629",
   "metadata": {},
   "outputs": [
    {
     "name": "stdout",
     "output_type": "stream",
     "text": [
      "Best hyperparameters: {'C': 2.1215811226877102e-05, 'max_iter': 3000, 'tol': 8.168455894760164e-05}\n",
      "Accuracy score: 0.670576556386349\n"
     ]
    }
   ],
   "source": [
    "search.fit(X_train, y_train)\n",
    "print(\"Best hyperparameters:\", search.best_params_)\n",
    "print(\"Accuracy score:\", search.best_score_)"
   ]
  }
 ],
 "metadata": {
  "kernelspec": {
   "display_name": "Python 3 (ipykernel)",
   "language": "python",
   "name": "python3"
  },
  "language_info": {
   "codemirror_mode": {
    "name": "ipython",
    "version": 3
   },
   "file_extension": ".py",
   "mimetype": "text/x-python",
   "name": "python",
   "nbconvert_exporter": "python",
   "pygments_lexer": "ipython3",
   "version": "3.8.10"
  }
 },
 "nbformat": 4,
 "nbformat_minor": 5
}
