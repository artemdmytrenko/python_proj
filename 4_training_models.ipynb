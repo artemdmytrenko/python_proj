{
 "cells": [
  {
   "cell_type": "markdown",
   "id": "3acf1a06",
   "metadata": {},
   "source": [
    "# Preparing data for modeling\n"
   ]
  },
  {
   "cell_type": "code",
   "execution_count": 9,
   "id": "fd30abea",
   "metadata": {},
   "outputs": [],
   "source": [
    "from sklearn.model_selection import TimeSeriesSplit\n",
    "import pandas as pd\n",
    "import numpy as np\n",
    "import scipy as sp\n",
    "import pickle"
   ]
  },
  {
   "cell_type": "code",
   "execution_count": 10,
   "id": "391d1bad",
   "metadata": {},
   "outputs": [],
   "source": [
    "DATASET = 'data/4_final_dataset/final_dataset.csv'\n",
    "ISW_DATA = 'data/4_final_dataset/isw_final.csv'"
   ]
  },
  {
   "cell_type": "code",
   "execution_count": 11,
   "id": "febfcef5",
   "metadata": {},
   "outputs": [],
   "source": [
    "pd.set_option('display.max_columns', None)\n",
    "pd.set_option('display.max_rows', None)"
   ]
  },
  {
   "cell_type": "code",
   "execution_count": null,
   "id": "87827e68",
   "metadata": {
    "scrolled": true
   },
   "outputs": [],
   "source": [
    "df = pd.read_csv(DATASET, sep=';')\n",
    "df.head(10)"
   ]
  },
  {
   "cell_type": "markdown",
   "id": "b894ada0",
   "metadata": {},
   "source": [
    "## ISW Data Prep"
   ]
  },
  {
   "cell_type": "code",
   "execution_count": null,
   "id": "5b4455bb",
   "metadata": {},
   "outputs": [],
   "source": [
    "df_isw = pd.read_csv(ISW_DATA)"
   ]
  },
  {
   "cell_type": "code",
   "execution_count": null,
   "id": "72fae4fd",
   "metadata": {},
   "outputs": [],
   "source": [
    "df_isw = df_isw.drop(columns={\n",
    "    'report_date',\n",
    "    'title',\n",
    "    'text_title',\n",
    "    'main_text',\n",
    "    'text_stemm',\n",
    "    'keywords'\n",
    "})"
   ]
  },
  {
   "cell_type": "code",
   "execution_count": null,
   "id": "e72d094a",
   "metadata": {},
   "outputs": [],
   "source": [
    "df_isw.head(2)"
   ]
  },
  {
   "cell_type": "code",
   "execution_count": null,
   "id": "905cd331",
   "metadata": {},
   "outputs": [],
   "source": [
    "df_merged = pd.merge(df, \n",
    "                     df_isw, \n",
    "                     left_on='day_datetime', \n",
    "                     right_on='following_date')"
   ]
  },
  {
   "cell_type": "code",
   "execution_count": null,
   "id": "0e54b460",
   "metadata": {},
   "outputs": [],
   "source": [
    "df_merged = df_merged.sort_values('datetime', ignore_index=True)"
   ]
  },
  {
   "cell_type": "code",
   "execution_count": null,
   "id": "9f9c7591",
   "metadata": {},
   "outputs": [],
   "source": [
    "exclude = {\n",
    "    'city_resolvedAddress',\n",
    "    'day_datetimeEpoch',\n",
    "    'datetime',\n",
    "    'day_datetime',\n",
    "    'hour_datetime',\n",
    "    'hour_datetimeEpoch',\n",
    "    'day_sunrise',\n",
    "    'day_sunset',\n",
    "    'hour_preciptype',\n",
    "    'hour_conditions',\n",
    "    'hour_solarenergy',\n",
    "    'city',\n",
    "    'center_city_ua',\n",
    "    'center_city_en',\n",
    "    'region_alt',\n",
    "    'event_region_title',\n",
    "    'event_region_city',\n",
    "    'event_all_region',\n",
    "    'event_start',\n",
    "    'event_end',\n",
    "    'event_clean_end',\n",
    "    'event_intersection_alarm_id',\n",
    "    'event_start_time',\n",
    "    'event_end_time',\n",
    "    'event_start_hour',\n",
    "    'event_end_hour',\n",
    "    'event_day_date',\n",
    "    'event_start_hour_datetimeEpoch',\n",
    "    'event_end_hour_datetimeEpoch',\n",
    "    'event_hour_level_event_time',\n",
    "    'event_hour_level_event_datetimeEpoch',\n",
    "    'region',\n",
    "    'region_of_Ukraine',\n",
    "    'following_date'\n",
    "}"
   ]
  },
  {
   "cell_type": "code",
   "execution_count": null,
   "id": "b43004cb",
   "metadata": {},
   "outputs": [],
   "source": [
    "df_merged = df_merged.drop(columns=exclude)"
   ]
  },
  {
   "cell_type": "code",
   "execution_count": null,
   "id": "f2d4a1e2",
   "metadata": {
    "scrolled": true
   },
   "outputs": [],
   "source": [
    "df_merged.head(10)"
   ]
  },
  {
   "cell_type": "code",
   "execution_count": null,
   "id": "73323db7",
   "metadata": {},
   "outputs": [],
   "source": [
    "y = df_merged['is_alarm']\n",
    "df_merged = df_merged.drop(columns={'is_alarm'})\n",
    "df_merged = df_merged.fillna(method='ffill')"
   ]
  },
  {
   "cell_type": "code",
   "execution_count": null,
   "id": "5413e846",
   "metadata": {},
   "outputs": [],
   "source": [
    "nans_per_column = df_merged.isna().sum(axis=0)\n",
    "nans_per_column"
   ]
  },
  {
   "cell_type": "code",
   "execution_count": 22,
   "id": "b4a37e39",
   "metadata": {},
   "outputs": [
    {
     "data": {
      "text/plain": [
       "(210979, 32)"
      ]
     },
     "execution_count": 22,
     "metadata": {},
     "output_type": "execute_result"
    }
   ],
   "source": [
    "df_merged.shape"
   ]
  },
  {
   "cell_type": "markdown",
   "id": "f0c3b7aa",
   "metadata": {},
   "source": [
    "## Chunking the Data & Concatenating TF-IDF Vectors to the Final Dataset"
   ]
  },
  {
   "cell_type": "code",
   "execution_count": 23,
   "id": "4ffe7cfd",
   "metadata": {},
   "outputs": [],
   "source": [
    "tfidf = pickle.load(open('data/3_isw_vectorized_data/tfidf_transformer.pkl', 'rb'))\n",
    "cv = pickle.load(open('data/3_isw_vectorized_data/cv.pkl', 'rb'))"
   ]
  },
  {
   "cell_type": "code",
   "execution_count": 24,
   "id": "a986dd58",
   "metadata": {},
   "outputs": [],
   "source": [
    "chunks = np.array_split(df_merged, 100)"
   ]
  },
  {
   "cell_type": "code",
   "execution_count": 25,
   "id": "7c2965d6",
   "metadata": {},
   "outputs": [],
   "source": [
    "X = sp.sparse.csr_matrix((0, 9222), dtype=float)\n",
    "\n",
    "for chunk in chunks:\n",
    "    cv_vector = cv.transform(chunk['text_lemm'].values.astype('U'))\n",
    "    tfidf_vec = tfidf.transform(cv_vector)\n",
    "    chunk = chunk.drop(columns={'text_lemm'})\n",
    "    chunk_csr = sp.sparse.csr_matrix(chunk.values.astype(float))\n",
    "    chunk_merged = sp.sparse.hstack((chunk_csr, tfidf_vec), format='csr')\n",
    "    X = sp.sparse.vstack((X, chunk_merged))"
   ]
  },
  {
   "cell_type": "code",
   "execution_count": 26,
   "id": "c023ba29",
   "metadata": {},
   "outputs": [
    {
     "data": {
      "text/plain": [
       "(210979, 9222)"
      ]
     },
     "execution_count": 26,
     "metadata": {},
     "output_type": "execute_result"
    }
   ],
   "source": [
    "X.shape"
   ]
  },
  {
   "cell_type": "markdown",
   "id": "e4626d68",
   "metadata": {},
   "source": [
    "## Separating Data  \n",
    "#### using `sklearn.model_selection.TimeSeriesSplit`"
   ]
  },
  {
   "cell_type": "code",
   "execution_count": 27,
   "id": "72c417f3",
   "metadata": {},
   "outputs": [],
   "source": [
    "tscv = TimeSeriesSplit()\n",
    "\n",
    "for train_index, test_index in tscv.split(X):\n",
    "    X_train, X_test = X[train_index, :], X[test_index, :]\n",
    "    y_train, y_test = y[train_index], y[test_index]"
   ]
  },
  {
   "cell_type": "code",
   "execution_count": 28,
   "id": "2855f520",
   "metadata": {},
   "outputs": [
    {
     "data": {
      "text/plain": [
       "(175816, 9222)"
      ]
     },
     "execution_count": 28,
     "metadata": {},
     "output_type": "execute_result"
    }
   ],
   "source": [
    "X_train.shape"
   ]
  },
  {
   "cell_type": "code",
   "execution_count": 29,
   "id": "9fee282b",
   "metadata": {},
   "outputs": [
    {
     "data": {
      "text/plain": [
       "(35163, 9222)"
      ]
     },
     "execution_count": 29,
     "metadata": {},
     "output_type": "execute_result"
    }
   ],
   "source": [
    "X_test.shape"
   ]
  },
  {
   "cell_type": "markdown",
   "id": "50a3051d",
   "metadata": {},
   "source": [
    "# Training Models"
   ]
  },
  {
   "cell_type": "code",
   "execution_count": 30,
   "id": "8e294504",
   "metadata": {},
   "outputs": [],
   "source": [
    "from sklearn.linear_model import LogisticRegression\n",
    "from sklearn.svm import LinearSVC\n",
    "from sklearn.ensemble import RandomForestClassifier\n",
    "from sklearn.linear_model import SGDClassifier"
   ]
  },
  {
   "cell_type": "markdown",
   "id": "b139cf9b",
   "metadata": {},
   "source": [
    "### Model 1 | Logistic Regression"
   ]
  },
  {
   "cell_type": "code",
   "execution_count": null,
   "id": "7ae923da",
   "metadata": {},
   "outputs": [],
   "source": [
    "logreg = LogisticRegression(max_iter=1000)\n",
    "logreg.fit(X_train, y_train)"
   ]
  },
  {
   "cell_type": "markdown",
   "id": "9b35678c",
   "metadata": {},
   "source": [
    "### Model 2 | Support Vector Machines"
   ]
  },
  {
   "cell_type": "code",
   "execution_count": null,
   "id": "22ec5c80",
   "metadata": {},
   "outputs": [],
   "source": [
    "lsvc = LinearSVC(max_iter=10000)\n",
    "lsvc.fit(X_train, y_train)"
   ]
  },
  {
   "cell_type": "markdown",
   "id": "76609792",
   "metadata": {},
   "source": [
    "### Model 3 | Stochastic Gradient Descent"
   ]
  },
  {
   "cell_type": "code",
   "execution_count": null,
   "id": "37e2225d",
   "metadata": {},
   "outputs": [],
   "source": []
  },
  {
   "cell_type": "markdown",
   "id": "26500bb1",
   "metadata": {},
   "source": [
    "### Model 4 | Forests of randomized trees"
   ]
  },
  {
   "cell_type": "code",
   "execution_count": null,
   "id": "7082bf5d",
   "metadata": {},
   "outputs": [],
   "source": [
    "randomforest =  RandomForestClassifier(n_estimators=1000)\n",
    "randomforest.fit(X_train, y_train)"
   ]
  },
  {
   "cell_type": "markdown",
   "id": "628d52d5",
   "metadata": {},
   "source": [
    "### Model 5 | ..."
   ]
  },
  {
   "cell_type": "code",
   "execution_count": null,
   "id": "2c0a3008",
   "metadata": {},
   "outputs": [],
   "source": []
  },
  {
   "cell_type": "markdown",
   "id": "3b1b5bd4",
   "metadata": {},
   "source": [
    "### Model 6 | ..."
   ]
  },
  {
   "cell_type": "code",
   "execution_count": null,
   "id": "36bb4b3f",
   "metadata": {},
   "outputs": [],
   "source": []
  },
  {
   "cell_type": "markdown",
   "id": "e40d2081",
   "metadata": {},
   "source": [
    "# Model Evaluation"
   ]
  },
  {
   "cell_type": "code",
   "execution_count": 38,
   "id": "f194dc0c",
   "metadata": {},
   "outputs": [],
   "source": [
    "import matplotlib.pyplot as plt\n",
    "from sklearn import metrics\n",
    "from sklearn.metrics import ConfusionMatrixDisplay"
   ]
  },
  {
   "cell_type": "markdown",
   "id": "c980a675",
   "metadata": {},
   "source": [
    "### Model 1 "
   ]
  },
  {
   "cell_type": "code",
   "execution_count": 62,
   "id": "5f82d07e",
   "metadata": {},
   "outputs": [
    {
     "data": {
      "text/plain": [
       "0.9226459630861985"
      ]
     },
     "execution_count": 62,
     "metadata": {},
     "output_type": "execute_result"
    }
   ],
   "source": [
    "y_predicted_logreg = logreg.predict(X_test)\n",
    "np.mean(y_predicted_logreg == y_test)"
   ]
  },
  {
   "cell_type": "code",
   "execution_count": 65,
   "id": "12b245e4",
   "metadata": {},
   "outputs": [
    {
     "data": {
      "image/png": "[encoded data removed]",
      "text/plain": [
       "<Figure size 640x480 with 2 Axes>"
      ]
     },
     "metadata": {},
     "output_type": "display_data"
    }
   ],
   "source": [
    "ConfusionMatrixDisplay.from_predictions(y_test, y_predicted_logreg, \n",
    "                                        im_kw={'cmap':'PuBu'}, \n",
    "                                        normalize='true')\n",
    "plt.show()"
   ]
  },
  {
   "cell_type": "markdown",
   "id": "236ea141",
   "metadata": {},
   "source": [
    "### Model 2 "
   ]
  },
  {
   "cell_type": "code",
   "execution_count": 59,
   "id": "40f59133",
   "metadata": {},
   "outputs": [
    {
     "data": {
      "text/plain": [
       "0.9304951227142166"
      ]
     },
     "execution_count": 59,
     "metadata": {},
     "output_type": "execute_result"
    }
   ],
   "source": [
    "y_predicted_lsvc = lsvc.predict(X_test)\n",
    "np.mean(y_predicted_lsvc == y_test)"
   ]
  },
  {
   "cell_type": "code",
   "execution_count": 66,
   "id": "4369b8df",
   "metadata": {},
   "outputs": [
    {
     "data": {
      "image/png": "[encoded data removed]",
      "text/plain": [
       "<Figure size 640x480 with 2 Axes>"
      ]
     },
     "metadata": {},
     "output_type": "display_data"
    }
   ],
   "source": [
    "ConfusionMatrixDisplay.from_predictions(y_test, y_predicted_lsvc, \n",
    "                                        im_kw={'cmap':'GnBu'}, \n",
    "                                        normalize='true')\n",
    "plt.show()"
   ]
  },
  {
   "cell_type": "markdown",
   "id": "cec88882",
   "metadata": {},
   "source": [
    "### Model 3"
   ]
  },
  {
   "cell_type": "code",
   "execution_count": null,
   "id": "123e7bbd",
   "metadata": {},
   "outputs": [],
   "source": []
  },
  {
   "cell_type": "markdown",
   "id": "64d76266",
   "metadata": {},
   "source": [
    "### Model 4"
   ]
  },
  {
   "cell_type": "code",
   "execution_count": null,
   "id": "1d7bd0ef",
   "metadata": {},
   "outputs": [],
   "source": [
    "ConfusionMatrixDisplay.from_predictions(y_test, y_predicted_randomforest, \n",
    "                                        im_kw={'cmap':'GnBu'}, \n",
    "                                        normalize='true')\n",
    "plt.show()"
   ]
  },
  {
   "cell_type": "markdown",
   "id": "ca9e9740",
   "metadata": {},
   "source": [
    "### Model 5"
   ]
  },
  {
   "cell_type": "code",
   "execution_count": null,
   "id": "b3278cfc",
   "metadata": {},
   "outputs": [],
   "source": []
  },
  {
   "cell_type": "markdown",
   "id": "f851975d",
   "metadata": {},
   "source": [
    "### Model 6"
   ]
  },
  {
   "cell_type": "code",
   "execution_count": null,
   "id": "772fbc9f",
   "metadata": {},
   "outputs": [],
   "source": []
  }
 ],
 "metadata": {
  "kernelspec": {
   "display_name": "Python 3 (ipykernel)",
   "language": "python",
   "name": "python3"
  },
  "language_info": {
   "codemirror_mode": {
    "name": "ipython",
    "version": 3
   },
   "file_extension": ".py",
   "mimetype": "text/x-python",
   "name": "python",
   "nbconvert_exporter": "python",
   "pygments_lexer": "ipython3",
   "version": "3.11.1"
  }
 },
 "nbformat": 4,
 "nbformat_minor": 5
}
